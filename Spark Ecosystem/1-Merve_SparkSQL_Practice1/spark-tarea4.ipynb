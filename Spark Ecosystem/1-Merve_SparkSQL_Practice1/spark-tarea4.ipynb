{
 "cells": [
  {
   "cell_type": "markdown",
   "metadata": {},
   "source": [
    "### Practice 1: Task 1: We will work with a new dataset from BookCrossing (http://www.bookcrossing.com), a global community of book lovers who exchange books and share their experiences."
   ]
  },
  {
   "cell_type": "code",
   "execution_count": 63,
   "metadata": {
    "execution": {
     "iopub.execute_input": "2023-11-28T19:34:44.048038Z",
     "iopub.status.busy": "2023-11-28T19:34:44.047557Z",
     "iopub.status.idle": "2023-11-28T19:35:13.187357Z",
     "shell.execute_reply": "2023-11-28T19:35:13.185765Z",
     "shell.execute_reply.started": "2023-11-28T19:34:44.048003Z"
    }
   },
   "outputs": [],
   "source": [
    "#pip install pyspark\n",
    "#pip install findspark"
   ]
  },
  {
   "cell_type": "code",
   "execution_count": 64,
   "metadata": {
    "execution": {
     "iopub.execute_input": "2023-11-28T19:35:13.190545Z",
     "iopub.status.busy": "2023-11-28T19:35:13.190046Z",
     "iopub.status.idle": "2023-11-28T19:35:13.294436Z",
     "shell.execute_reply": "2023-11-28T19:35:13.293078Z",
     "shell.execute_reply.started": "2023-11-28T19:35:13.190498Z"
    }
   },
   "outputs": [],
   "source": [
    "import findspark\n",
    "findspark.init()\n",
    "\n",
    "import pyspark\n",
    "from pyspark.sql import SparkSession\n",
    "from pyspark.sql.types import*\n",
    "from pyspark.sql.window import Window"
   ]
  },
  {
   "cell_type": "code",
   "execution_count": 65,
   "metadata": {
    "execution": {
     "iopub.execute_input": "2023-11-28T19:35:13.298369Z",
     "iopub.status.busy": "2023-11-28T19:35:13.297839Z",
     "iopub.status.idle": "2023-11-28T19:35:19.935868Z",
     "shell.execute_reply": "2023-11-28T19:35:19.934164Z",
     "shell.execute_reply.started": "2023-11-28T19:35:13.298325Z"
    }
   },
   "outputs": [],
   "source": [
    "spark = SparkSession.builder.appName(\"Merve_Homework\").getOrCreate()"
   ]
  },
  {
   "cell_type": "code",
   "execution_count": 66,
   "metadata": {
    "execution": {
     "iopub.execute_input": "2023-11-28T19:35:19.940842Z",
     "iopub.status.busy": "2023-11-28T19:35:19.939510Z",
     "iopub.status.idle": "2023-11-28T19:35:19.952238Z",
     "shell.execute_reply": "2023-11-28T19:35:19.950472Z",
     "shell.execute_reply.started": "2023-11-28T19:35:19.940759Z"
    }
   },
   "outputs": [],
   "source": [
    "# fields = [StructField(\"Title\", StringType(), True), \n",
    "#           StructField(\"Author\", StringType(), True), \n",
    "#           StructField(\"Year\", IntegerType(), True), \n",
    "#           StructField(\"Publisher\", StringType(), True)]"
   ]
  },
  {
   "cell_type": "code",
   "execution_count": 67,
   "metadata": {
    "execution": {
     "iopub.execute_input": "2023-11-28T19:37:43.478007Z",
     "iopub.status.busy": "2023-11-28T19:37:43.477490Z",
     "iopub.status.idle": "2023-11-28T19:37:51.316811Z",
     "shell.execute_reply": "2023-11-28T19:37:51.315621Z",
     "shell.execute_reply.started": "2023-11-28T19:37:43.477964Z"
    }
   },
   "outputs": [
    {
     "name": "stdout",
     "output_type": "stream",
     "text": [
      "+----------+--------------------+--------------------+----+--------------------+\n",
      "|      ISBN|               Title|              Author|Year|           Publisher|\n",
      "+----------+--------------------+--------------------+----+--------------------+\n",
      "|0195153448| Classical Mythology|  Mark P. O. Morford|2002|Oxford University...|\n",
      "|0002005018|        Clara Callan|Richard Bruce Wright|2001|HarperFlamingo Ca...|\n",
      "|0060973129|Decision in Normandy|        Carlo D'Este|1991|     HarperPerennial|\n",
      "|0374157065|Flu: The Story of...|    Gina Bari Kolata|1999|Farrar Straus Giroux|\n",
      "|0393045218|The Mummies of Ur...|     E. J. W. Barber|1999|W. W. Norton & Co...|\n",
      "|0399135782|The Kitchen God's...|             Amy Tan|1991|    Putnam Pub Group|\n",
      "|0425176428|What If?: The Wor...|       Robert Cowley|2000|Berkley Publishin...|\n",
      "|0671870432|     PLEADING GUILTY|         Scott Turow|1993|          Audioworks|\n",
      "|0679425608|Under the Black F...|     David Cordingly|1996|        Random House|\n",
      "|074322678X|Where You'll Find...|         Ann Beattie|2002|            Scribner|\n",
      "|0771074670|Nights Below Stat...|David Adams Richards|1988|     Emblem Editions|\n",
      "|080652121X|Hitler's Secret B...|          Adam Lebor|2000|       Citadel Press|\n",
      "|0887841740|  The Middle Stories|         Sheila Heti|2004|House of Anansi P...|\n",
      "|1552041778|            Jane Doe|        R. J. Kaiser|1999|          Mira Books|\n",
      "|1558746218|A Second Chicken ...|       Jack Canfield|1998|Health Communicat...|\n",
      "|1567407781|The Witchfinder (...|   Loren D. Estleman|1998|Brilliance Audio ...|\n",
      "|1575663937|More Cunning Than...|  Robert Hendrickson|1999|Kensington Publis...|\n",
      "|1881320189|Goodbye to the Bu...|        Julia Oliver|1994|      River City Pub|\n",
      "|0440234743|       The Testament|        John Grisham|1999|                Dell|\n",
      "|0452264464|Beloved (Plume Co...|       Toni Morrison|1994|               Plume|\n",
      "+----------+--------------------+--------------------+----+--------------------+\n",
      "only showing top 20 rows\n",
      "\n",
      "+-------+----------+------+\n",
      "|User-ID|      ISBN|Rating|\n",
      "+-------+----------+------+\n",
      "| 276725|034545104X|     0|\n",
      "| 276726|0155061224|     5|\n",
      "| 276727|0446520802|     0|\n",
      "| 276729|052165615X|     3|\n",
      "| 276729|0521795028|     6|\n",
      "| 276733|2080674722|     0|\n",
      "| 276736|3257224281|     8|\n",
      "| 276737|0600570967|     6|\n",
      "| 276744|038550120X|     7|\n",
      "| 276745| 342310538|    10|\n",
      "| 276746|0425115801|     0|\n",
      "| 276746|0449006522|     0|\n",
      "| 276746|0553561618|     0|\n",
      "| 276746|055356451X|     0|\n",
      "| 276746|0786013990|     0|\n",
      "| 276746|0786014512|     0|\n",
      "| 276747|0060517794|     9|\n",
      "| 276747|0451192001|     0|\n",
      "| 276747|0609801279|     0|\n",
      "| 276747|0671537458|     9|\n",
      "+-------+----------+------+\n",
      "only showing top 20 rows\n",
      "\n",
      "+-------+----+\n",
      "|User-ID| Age|\n",
      "+-------+----+\n",
      "|      1|null|\n",
      "|      2|  18|\n",
      "|      3|null|\n",
      "|      4|  17|\n",
      "|      5|null|\n",
      "|      6|  61|\n",
      "|      7|null|\n",
      "|      8|null|\n",
      "|      9|null|\n",
      "|     10|  26|\n",
      "|     11|  14|\n",
      "|     12|null|\n",
      "|     13|  26|\n",
      "|     14|null|\n",
      "|     15|null|\n",
      "|     16|null|\n",
      "|     17|null|\n",
      "|     18|  25|\n",
      "|     19|  14|\n",
      "|     20|  19|\n",
      "+-------+----+\n",
      "only showing top 20 rows\n",
      "\n"
     ]
    }
   ],
   "source": [
    "# import all data from csv files\n",
    "df1 = spark.read.csv(\"archive/Books.csv\", sep = \";\", header = True, inferSchema = True)\n",
    "df1.show()\n",
    "\n",
    "df2 = spark.read.csv(\"archive/Ratings.csv\", sep = \";\", header = True, inferSchema = True)\n",
    "df2.show()\n",
    "\n",
    "df3 = spark.read.csv(\"archive/Users.csv\", sep = \";\", header = True, inferSchema = True)\n",
    "df3.show()"
   ]
  },
  {
   "cell_type": "code",
   "execution_count": 68,
   "metadata": {},
   "outputs": [
    {
     "name": "stdout",
     "output_type": "stream",
     "text": [
      "+-------+----+--------------------+----------------+----+--------------------+----------+------+\n",
      "|User-ID| Age|               Title|          Author|Year|           Publisher|      ISBN|Rating|\n",
      "+-------+----+--------------------+----------------+----+--------------------+----------+------+\n",
      "|  23902|null|Nothing Can Be Be...|    Barns & Budd|1996|            Atlantic|0001048473|     0|\n",
      "|  16319|  43|       Which Colour?|     Sue Dreamer|1989|HarperCollins Pub...|0001372564|     0|\n",
      "|  26583|null|Huck Scarry's Ste...|     Huck Scarry|1979|HarperCollins Pub...|0001382381|     0|\n",
      "| 176062|  37|ARE YOU MY MOTHER...|           Seuss|1993|HarperCollins Pub...|0001718126|     0|\n",
      "| 114216|null|                Bess|   Robert Leeson|1975|             Collins|0001840517|     0|\n",
      "|  11676|null| THE COAL HOUSE T/PB|   Andrew Taylor|1986|HarperCollins Pub...|0001848445|     0|\n",
      "| 131402|null| THE COAL HOUSE T/PB|   Andrew Taylor|1986|HarperCollins Pub...|0001848445|     0|\n",
      "| 145927|  53| THE COAL HOUSE T/PB|   Andrew Taylor|1986|HarperCollins Pub...|0001848445|     0|\n",
      "|  11676|null|Glue (First Facts...|   Harriet Hains|1989|HarperCollins Pub...|0001900277|     0|\n",
      "| 181659|  18|Glue (First Facts...|   Harriet Hains|1989|HarperCollins Pub...|0001900277|    10|\n",
      "| 206979|  22|Glue (First Facts...|   Harriet Hains|1989|HarperCollins Pub...|0001900277|     0|\n",
      "|  11676|null|Count Duckula: Va...|Maureen Spurgeon|1988|HarperCollins Pub...|0001944711|     6|\n",
      "| 110029|  27|Count Duckula: Va...|Maureen Spurgeon|1988|HarperCollins Pub...|0001944711|     0|\n",
      "| 206979|  22|Count Duckula: Va...|Maureen Spurgeon|1988|HarperCollins Pub...|0001944711|     0|\n",
      "| 201526|  25|PADDINGTON GOES T...|    Michael Bond|1987|HarperCollins Pub...|0001961721|     0|\n",
      "|  93366|  46|Frederick Street:...|    Maude Barlow|2000|HarperCollins Pub...|0002000369|     8|\n",
      "|  26583|null|           Vancouver|    David Cruise|2003|HarperFlamingo Ca...|0002006588|     8|\n",
      "| 101731|null|           Vancouver|    David Cruise|2003|HarperFlamingo Ca...|0002006588|     8|\n",
      "| 249111|null|King Edward VIII:...|  Philip Ziegler|1990|             Collins|0002157411|     0|\n",
      "| 222586|  37|The valour and th...|Merrily Weisbord|1991|      Harper Collins|0002157446|     8|\n",
      "+-------+----+--------------------+----------------+----+--------------------+----------+------+\n",
      "only showing top 20 rows\n",
      "\n"
     ]
    }
   ],
   "source": [
    "# Join two dataframes (Books and Ratings) on ISBN\n",
    "df4 = df1.join(df2, on = \"ISBN\", how = \"inner\")\n",
    "\n",
    "# Join two dataframes (Users and df4) on User-ID\n",
    "df5 = df4.join(df3, on = \"User-ID\", how = \"inner\")\n",
    "\n",
    "# Reorder columns in order User-ID, Age, Title, Author, Year, Publisher, ISBN, Rating\n",
    "df5 = df5.select(\"User-ID\", \"Age\", \"Title\", \"Author\", \"Year\", \"Publisher\", \"ISBN\", \"Rating\")\n",
    "df5.show()"
   ]
  },
  {
   "cell_type": "markdown",
   "metadata": {},
   "source": [
    "## Question1\n",
    "\n",
    "Find the title of the book with the highest number of ratings for each publisher."
   ]
  },
  {
   "cell_type": "code",
   "execution_count": 69,
   "metadata": {},
   "outputs": [
    {
     "name": "stdout",
     "output_type": "stream",
     "text": [
      "+--------------------+--------------------+----------------------+\n",
      "|           Publisher|               Title|max(Number of Ratings)|\n",
      "+--------------------+--------------------+----------------------+\n",
      "|             Too Far|         Wild Animus|                  2502|\n",
      "|       Little, Brown|The Lovely Bones:...|                  1295|\n",
      "|           Doubleday|   The Da Vinci Code|                   884|\n",
      "|           Perennial|Divine Secrets of...|                   732|\n",
      "|         Picador USA|The Red Tent (Bes...|                   723|\n",
      "|Dell Publishing C...|     A Painted House|                   649|\n",
      "|        Warner Books|        The Notebook|                   647|\n",
      "|   Vintage Books USA|Snow Falling on C...|                   618|\n",
      "|       Penguin Books|The Secret Life o...|                   615|\n",
      "|         Pocket Star|     Angels & Demons|                   586|\n",
      "|        Warner Books|Where the Heart I...|                   585|\n",
      "|Arthur A. Levine ...|Harry Potter and ...|                   575|\n",
      "|      Back Bay Books|The Pilot's Wife ...|                   568|\n",
      "|          Scholastic|Harry Potter and ...|                   556|\n",
      "|       Vintage Books|House of Sand and...|                   552|\n",
      "|Bantam Dell Publi...|            The Firm|                   534|\n",
      "|         Plume Books|Girl with a Pearl...|                   526|\n",
      "|                Dell|   The Pelican Brief|                   523|\n",
      "|                Dell|      A Time to Kill|                   520|\n",
      "|Prentice Hall (K-12)|   The Joy Luck Club|                   519|\n",
      "+--------------------+--------------------+----------------------+\n",
      "only showing top 20 rows\n",
      "\n"
     ]
    }
   ],
   "source": [
    "from pyspark.sql.functions import dense_rank\n",
    "from pyspark.sql.functions import max, min, count, col\n",
    "\n",
    "# Show the title of book had highest rating from each Publisher by Spark Window Functions and sort by Rating\n",
    "# windowSpec = Window.partitionBy(df4[\"Publisher\"]).orderBy(df4[\"Rating\"].desc())\n",
    "# df4.withColumn(\"rank\", dense_rank().over(windowSpec)).orderBy(df4[\"Rating\"].desc()).filter(\"rank == 1\").select(\"Title\", \"Publisher\", \"Rating\").show()\n",
    "\n",
    "# Show the maximum number of rating of each Publisher and then sort by Number of Ratings\n",
    "df5 = df4.groupBy(\"Publisher\", \"Title\").agg(count(\"Rating\").alias(\"Number of Ratings\"))\n",
    "df5 = df5.groupBy(\"Publisher\", \"Title\").agg(max(\"Number of Ratings\")).orderBy(\"max(Number of Ratings)\", ascending = False).show()"
   ]
  },
  {
   "cell_type": "markdown",
   "metadata": {},
   "source": [
    "## Question2\n",
    "\n",
    "Calculate the difference between:\n",
    "\n",
    "- The number of ratings for each book\n",
    "\n",
    "- The number of ratings of the highest-rated book from the same publisher\n",
    "\n"
   ]
  },
  {
   "cell_type": "code",
   "execution_count": 70,
   "metadata": {},
   "outputs": [
    {
     "name": "stdout",
     "output_type": "stream",
     "text": [
      "+--------------------+--------------------+-----------------+----------------------------------+----------+\n",
      "|           Publisher|               Title|Number of Ratings|Max Number of Ratings in Publisher|Difference|\n",
      "+--------------------+--------------------+-----------------+----------------------------------+----------+\n",
      "|Harper Mass Marke...| Playing With Cobras|                4|                               144|       140|\n",
      "|Harper Mass Marke...|         The Natural|                1|                               144|       143|\n",
      "|Harper Mass Marke...|       Heart's Honor|                4|                               144|       140|\n",
      "|Harper Mass Marke...|Omega Sub (Omega ...|                3|                               144|       141|\n",
      "|Harper Mass Marke...|        City of Gold|                5|                               144|       139|\n",
      "|Harper Mass Marke...|   Heaven Comes Home|                1|                               144|       143|\n",
      "|Harper Mass Marke...|            The Lost|                2|                               144|       142|\n",
      "|Harper Mass Marke...|   Death in Disguise|                9|                               144|       135|\n",
      "|Harper Mass Marke...|The Dead Horse Pa...|                4|                               144|       140|\n",
      "|Harper Mass Marke...|Almost Golden: Je...|               10|                               144|       134|\n",
      "|Harper Mass Marke...|Poison Tree: A Tr...|                6|                               144|       138|\n",
      "|    Adams Media Corp|Museum of Science...|                2|                                10|         8|\n",
      "|Harper Mass Marke...|   A Love to Cherish|                1|                               144|       143|\n",
      "|Harper Mass Marke...|       Kirlian Quest|                5|                               144|       139|\n",
      "|Harper Mass Marke...|             Prodigy|                6|                               144|       138|\n",
      "|Harper Mass Marke...|Flowers for Mrs. ...|                1|                               144|       143|\n",
      "|Ullstein-Taschenb...|The Commitments /...|                1|                                11|        10|\n",
      "|Harper Mass Marke...|Endless Knot: Boo...|                2|                               144|       142|\n",
      "|      Celestial Arts|Eastern Body, Wes...|                1|                                26|        25|\n",
      "|Harper Mass Marke...|Cold Feet: A Libb...|                1|                               144|       143|\n",
      "+--------------------+--------------------+-----------------+----------------------------------+----------+\n",
      "only showing top 20 rows\n",
      "\n"
     ]
    }
   ],
   "source": [
    "from pyspark.sql.functions import max, min, count, col\n",
    "\n",
    "# Show the maximum number of rating of each Publisher and then sort by Number of Ratings\n",
    "df6 = df4.groupBy(\"Publisher\", \"Title\").agg(count(\"Rating\").alias(\"Number of Ratings\"))\n",
    "df7 = df6.groupBy(\"Publisher\").agg(max(\"Number of Ratings\").alias(\"Max Number of Ratings in Publisher\"))\n",
    "# df7.orderBy(df7[\"Max Number of Ratings in Publisher\"].desc()).show()\n",
    "\n",
    "df8 = df6.select(\"Publisher\", \"Title\", \"Number of Ratings\").join(df7, on = \"Publisher\", how = \"inner\")\n",
    "\n",
    "# Find the differences between the max rating of each publisher and the rating of each book\n",
    "df8 = df8.withColumn(\"Difference\", df8[\"Max Number of Ratings in Publisher\"] - df8[\"Number of Ratings\"])\n",
    "df8.show()\n",
    "# df8.orderBy(df8[\"Number of Ratings\"].desc()).show()"
   ]
  }
 ],
 "metadata": {
  "kaggle": {
   "accelerator": "none",
   "dataSources": [
    {
     "datasetId": 339734,
     "sourceId": 673681,
     "sourceType": "datasetVersion"
    }
   ],
   "dockerImageVersionId": 30587,
   "isGpuEnabled": false,
   "isInternetEnabled": true,
   "language": "python",
   "sourceType": "notebook"
  },
  "kernelspec": {
   "display_name": "Python 3 (ipykernel)",
   "language": "python",
   "name": "python3"
  },
  "language_info": {
   "codemirror_mode": {
    "name": "ipython",
    "version": 3
   },
   "file_extension": ".py",
   "mimetype": "text/x-python",
   "name": "python",
   "nbconvert_exporter": "python",
   "pygments_lexer": "ipython3",
   "version": "3.9.13"
  }
 },
 "nbformat": 4,
 "nbformat_minor": 4
}
