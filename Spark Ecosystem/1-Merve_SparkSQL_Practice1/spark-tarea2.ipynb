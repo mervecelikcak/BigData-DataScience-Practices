{
 "cells": [
  {
   "cell_type": "markdown",
   "metadata": {},
   "source": [
    "# PySpark - Tarea 2\n",
    "\n",
    "### Practice 1: Task 2: We will work with the Heterogeneity Dataset for Human Activity Recognition (HHAR), which contains motion sensor data from smartphones and smartwatches."
   ]
  },
  {
   "cell_type": "code",
   "execution_count": 22,
   "id": "f4f8bef2",
   "metadata": {},
   "outputs": [],
   "source": [
    "#pip install pyspark\n",
    "#pip install findspark"
   ]
  },
  {
   "cell_type": "code",
   "execution_count": 23,
   "id": "f01fa084",
   "metadata": {},
   "outputs": [],
   "source": [
    "import pyspark\n",
    "import findspark\n",
    "findspark.init()\n",
    "\n",
    "from pyspark.sql import SparkSession\n",
    "from pyspark.sql.types import*\n",
    "from pyspark.sql.types import StructField\n",
    "from pyspark.sql.types import StructType\n",
    "from pyspark.sql.types import StringType\n",
    "from pyspark.sql.types import IntegerType\n",
    "from pyspark.sql import functions as F"
   ]
  },
  {
   "cell_type": "code",
   "execution_count": 24,
   "id": "07984a8e",
   "metadata": {},
   "outputs": [],
   "source": [
    "# Create SparkSession\n",
    "spark = SparkSession.builder.appName(\"Merve_Homework\").getOrCreate()"
   ]
  },
  {
   "cell_type": "markdown",
   "metadata": {},
   "source": [
    "## Statistics of Each File\n",
    "\n",
    "Create a DataFrame for each provided file, defining the schema."
   ]
  },
  {
   "cell_type": "code",
   "execution_count": 25,
   "id": "d7c9d0bb",
   "metadata": {},
   "outputs": [],
   "source": [
    "# Determine the schema of the data\n",
    "schema = StructType([StructField(\"column1\", IntegerType(), True), \n",
    "          StructField(\"column2\", LongType(), True), \n",
    "          StructField(\"column3\", LongType(), True), \n",
    "          StructField(\"x\", DoubleType(), True), \n",
    "          StructField(\"y\", DoubleType(), True), \n",
    "          StructField(\"z\", DoubleType(), True), \n",
    "          StructField(\"usuario\", StringType(), True),\n",
    "          StructField(\"modelo\", StringType(), True), \n",
    "          StructField(\"column9\", StringType(), True), \n",
    "          StructField(\"clase\", StringType(), True)])"
   ]
  },
  {
   "cell_type": "code",
   "execution_count": 26,
   "id": "91b717e8",
   "metadata": {},
   "outputs": [],
   "source": [
    "# Read Phones_accelerometer File into a Spark DataFrame using the defined schema\n",
    "df = spark.read.csv(\"small_data/Phones_accelerometer.csv\",\n",
    "                    sep = \",\", header = False, schema = schema, nullValue=\"null\")"
   ]
  },
  {
   "cell_type": "code",
   "execution_count": 27,
   "id": "9e69af91",
   "metadata": {},
   "outputs": [
    {
     "name": "stdout",
     "output_type": "stream",
     "text": [
      "root\n",
      " |-- column1: integer (nullable = true)\n",
      " |-- column2: long (nullable = true)\n",
      " |-- column3: long (nullable = true)\n",
      " |-- x: double (nullable = true)\n",
      " |-- y: double (nullable = true)\n",
      " |-- z: double (nullable = true)\n",
      " |-- usuario: string (nullable = true)\n",
      " |-- modelo: string (nullable = true)\n",
      " |-- column9: string (nullable = true)\n",
      " |-- clase: string (nullable = true)\n",
      "\n"
     ]
    }
   ],
   "source": [
    "df.printSchema()"
   ]
  },
  {
   "cell_type": "code",
   "execution_count": 28,
   "id": "21ffe314",
   "metadata": {
    "scrolled": false
   },
   "outputs": [
    {
     "name": "stdout",
     "output_type": "stream",
     "text": [
      "+-------+-------------+-------------------+-------------------+------------------+-----------------+-------+------+--------+-----+\n",
      "|column1|      column2|            column3|                  x|                 y|                z|usuario|modelo| column9|clase|\n",
      "+-------+-------------+-------------------+-------------------+------------------+-----------------+-------+------+--------+-----+\n",
      "|      0|1424696633908|1424696631913248572|          -5.958191|         0.6880646|         8.135345|      a|nexus4|nexus4_1|stand|\n",
      "|      1|1424696633909|1424696631918283972|           -5.95224|         0.6702118|         8.136536|      a|nexus4|nexus4_1|stand|\n",
      "|      2|1424696633918|1424696631923288855|         -5.9950867|0.6535491999999999|         8.204376|      a|nexus4|nexus4_1|stand|\n",
      "|      3|1424696633919|1424696631928385290|         -5.9427185|0.6761626999999999|         8.128204|      a|nexus4|nexus4_1|stand|\n",
      "|      4|1424696633929|1424696631933420691| -5.991516000000001|        0.64164734|         8.135345|      a|nexus4|nexus4_1|stand|\n",
      "|      5|1424696633929|1424696631938456091|          -5.965332|         0.6297455|         8.128204|      a|nexus4|nexus4_1|stand|\n",
      "|      6|1424696633938|1424696631943522009| -5.991516000000001|0.6356963999999999|          8.16272|      a|nexus4|nexus4_1|stand|\n",
      "|      7|1424696633939|1424696631948496374|          -5.915344|        0.63093567|         8.105591|      a|nexus4|nexus4_1|stand|\n",
      "|      8|1424696633951|1424696631953592810|          -5.984375|         0.6940155|         8.067505|      a|nexus4|nexus4_1|stand|\n",
      "|      9|1424696633952|1424696631960428747|          -5.937958|        0.71543884|8.090117999999999|      a|nexus4|nexus4_1|stand|\n",
      "|     10|1424696633959|1424696631963663611|          -5.902252|0.6678314000000001|8.069885000000001|      a|nexus4|nexus4_1|stand|\n",
      "|     11|1424696633960|1424696631968912634|         -5.9498596|        0.68092346|         8.119873|      a|nexus4|nexus4_1|stand|\n",
      "|     12|1424696633966|1424696631973734412|         -5.9796143|         0.7416229|        8.0841675|      a|nexus4|nexus4_1|stand|\n",
      "|     13|1424696633972|1424696631978769812|         -5.9617615|        0.71424866|         8.155579|      a|nexus4|nexus4_1|stand|\n",
      "|     14|1424696633978|1424696631983805212|           -5.95343|         0.7130585|         8.153198|      a|nexus4|nexus4_1|stand|\n",
      "|     15|1424696633981|1424696631988840613|-5.8665465999999995|0.7344818000000001|          8.10083|      a|nexus4|nexus4_1|stand|\n",
      "|     16|1424696633989|1424696631993876013|-5.9010620000000005|         0.7582855|         8.081787|      a|nexus4|nexus4_1|stand|\n",
      "|     17|1424696633991|1424696631999064001|         -5.8713074|         0.7190094|         8.192474|      a|nexus4|nexus4_1|stand|\n",
      "|     18|1424696634003|1424696632003946814|          -5.932007|        0.67259216|         8.185333|      a|nexus4|nexus4_1|stand|\n",
      "|     19|1424696634004|1424696632010447058|          -5.895111|0.6797333000000001|8.132964999999999|      a|nexus4|nexus4_1|stand|\n",
      "+-------+-------------+-------------------+-------------------+------------------+-----------------+-------+------+--------+-----+\n",
      "only showing top 20 rows\n",
      "\n"
     ]
    }
   ],
   "source": [
    "df.show()"
   ]
  },
  {
   "cell_type": "markdown",
   "id": "71018ffe",
   "metadata": {},
   "source": [
    "Generate one record per user, model, and movement class, containing:\n",
    "\n",
    "- Mean\n",
    "\n",
    "- Standard deviation\n",
    "\n",
    "- Maximum and minimum values of the motion sequence."
   ]
  },
  {
   "cell_type": "code",
   "execution_count": 29,
   "metadata": {},
   "outputs": [],
   "source": [
    "# Create a function to calculate the mean, standard deviation, minimum, and maximum values\n",
    "def calc_statistic(df, column_names):\n",
    "    \"\"\"\n",
    "    This function calculates the mean, standard deviation, minimum, and maximum values of the given columns.\n",
    "    The function shows the selected columns and the calculated values.\n",
    "    :param df: The DataFrame (Spark DataFrame) to be used. \n",
    "    :param column_names: The columns (in List form) to be used.\n",
    "    :return: The DataFrame with the calculated values.\n",
    "    \"\"\"\n",
    "\n",
    "    # Select the columns from the DataFrame\n",
    "    df = df.select(column_names)\n",
    "\n",
    "    # Show the DataFrame\n",
    "    print(\"The selected columns are: \")\n",
    "    df.show()\n",
    "\n",
    "    # Calculate the mean value using the groupBy for last 3 element of the column_names\n",
    "    # and mean, std, min and max in Functions library of Spark by rounding the result to 3 decimal places\n",
    "    df = df.groupBy(column_names[-3:]).agg(F.round(F.mean(\"x\"), 3).alias(\"mean_x\"),\n",
    "                                                        F.round(F.mean(\"y\"), 3).alias(\"mean_y\"), \n",
    "                                                        F.round(F.mean(\"z\"), 3).alias(\"mean_z\"),\n",
    "                                                        F.round(F.stddev(\"x\"), 3).alias(\"stddev_x\"),\n",
    "                                                        F.round(F.stddev(\"y\"), 3).alias(\"stddev_y\"), \n",
    "                                                        F.round(F.stddev(\"z\"), 3).alias(\"stddev_z\"),\n",
    "                                                        F.round(F.min(\"x\"), 3).alias(\"min_x\"),\n",
    "                                                        F.round(F.min(\"y\"), 3).alias(\"min_y\"), \n",
    "                                                        F.round(F.min(\"z\"), 3).alias(\"min_z\"),\n",
    "                                                        F.round(F.max(\"x\"), 3).alias(\"max_x\"),\n",
    "                                                        F.round(F.max(\"y\"), 3).alias(\"max_y\"), \n",
    "                                                        F.round(F.max(\"z\"), 3).alias(\"max_z\"))\n",
    "\n",
    "    # Show the DataFrame putting a space between previous and current DataFrame\n",
    "    print(\"The statistics of the selected columns are: \")\n",
    "    df.show()\n",
    "\n",
    "    return df"
   ]
  },
  {
   "cell_type": "code",
   "execution_count": 30,
   "id": "3212d3a3",
   "metadata": {},
   "outputs": [
    {
     "name": "stdout",
     "output_type": "stream",
     "text": [
      "Phones_accelerometer File:\n",
      "The selected columns are: \n",
      "+-------------------+------------------+-----------------+-------+------+-----+\n",
      "|                  x|                 y|                z|usuario|modelo|clase|\n",
      "+-------------------+------------------+-----------------+-------+------+-----+\n",
      "|          -5.958191|         0.6880646|         8.135345|      a|nexus4|stand|\n",
      "|           -5.95224|         0.6702118|         8.136536|      a|nexus4|stand|\n",
      "|         -5.9950867|0.6535491999999999|         8.204376|      a|nexus4|stand|\n",
      "|         -5.9427185|0.6761626999999999|         8.128204|      a|nexus4|stand|\n",
      "| -5.991516000000001|        0.64164734|         8.135345|      a|nexus4|stand|\n",
      "|          -5.965332|         0.6297455|         8.128204|      a|nexus4|stand|\n",
      "| -5.991516000000001|0.6356963999999999|          8.16272|      a|nexus4|stand|\n",
      "|          -5.915344|        0.63093567|         8.105591|      a|nexus4|stand|\n",
      "|          -5.984375|         0.6940155|         8.067505|      a|nexus4|stand|\n",
      "|          -5.937958|        0.71543884|8.090117999999999|      a|nexus4|stand|\n",
      "|          -5.902252|0.6678314000000001|8.069885000000001|      a|nexus4|stand|\n",
      "|         -5.9498596|        0.68092346|         8.119873|      a|nexus4|stand|\n",
      "|         -5.9796143|         0.7416229|        8.0841675|      a|nexus4|stand|\n",
      "|         -5.9617615|        0.71424866|         8.155579|      a|nexus4|stand|\n",
      "|           -5.95343|         0.7130585|         8.153198|      a|nexus4|stand|\n",
      "|-5.8665465999999995|0.7344818000000001|          8.10083|      a|nexus4|stand|\n",
      "|-5.9010620000000005|         0.7582855|         8.081787|      a|nexus4|stand|\n",
      "|         -5.8713074|         0.7190094|         8.192474|      a|nexus4|stand|\n",
      "|          -5.932007|        0.67259216|         8.185333|      a|nexus4|stand|\n",
      "|          -5.895111|0.6797333000000001|8.132964999999999|      a|nexus4|stand|\n",
      "+-------------------+------------------+-----------------+-------+------+-----+\n",
      "only showing top 20 rows\n",
      "\n",
      "The statistics of the selected columns are: \n",
      "+-------+------+-----+------+------+------+--------+--------+--------+------+------+-----+-----+-----+-----+\n",
      "|usuario|modelo|clase|mean_x|mean_y|mean_z|stddev_x|stddev_y|stddev_z| min_x| min_y|min_z|max_x|max_y|max_z|\n",
      "+-------+------+-----+------+------+------+--------+--------+--------+------+------+-----+-----+-----+-----+\n",
      "|      a|nexus4|stand|-6.026| 0.933| 8.014|   0.185|    0.24|   0.176|-7.045|-0.843| 7.15|-5.52|1.947|8.639|\n",
      "+-------+------+-----+------+------+------+--------+--------+--------+------+------+-----+-----+-----+-----+\n",
      "\n"
     ]
    },
    {
     "data": {
      "text/plain": [
       "DataFrame[usuario: string, modelo: string, clase: string, mean_x: double, mean_y: double, mean_z: double, stddev_x: double, stddev_y: double, stddev_z: double, min_x: double, min_y: double, min_z: double, max_x: double, max_y: double, max_z: double]"
      ]
     },
     "execution_count": 30,
     "metadata": {},
     "output_type": "execute_result"
    }
   ],
   "source": [
    "print(\"Phones_accelerometer File:\")\n",
    "calc_statistic(df, [\"x\", \"y\", \"z\", \"usuario\", \"modelo\", \"clase\"])"
   ]
  },
  {
   "cell_type": "code",
   "execution_count": 31,
   "id": "1678e3ad",
   "metadata": {},
   "outputs": [
    {
     "name": "stdout",
     "output_type": "stream",
     "text": [
      "Phones_gyroscope File:\n",
      "The selected columns are: \n"
     ]
    },
    {
     "name": "stdout",
     "output_type": "stream",
     "text": [
      "+--------------------+--------------------+--------------------+-------+------+-----+\n",
      "|                   x|                   y|                   z|usuario|modelo|clase|\n",
      "+--------------------+--------------------+--------------------+-------+------+-----+\n",
      "|         0.013748169|-6.25610350000000...|        -0.023376465|      a|nexus4|stand|\n",
      "|0.014816283999999999|       -0.0016937256|         -0.02230835|      a|nexus4|stand|\n",
      "|           0.0158844|       -0.0016937256|        -0.021240234|      a|nexus4|stand|\n",
      "|         0.016952515|        -0.003829956|         -0.02017212|      a|nexus4|stand|\n",
      "|           0.0158844|-0.00703430180000...|         -0.02017212|      a|nexus4|stand|\n",
      "|0.014816283999999999|        -0.009170532|         -0.02230835|      a|nexus4|stand|\n",
      "|        0.0116119385|        -0.013442993|         -0.02230835|      a|nexus4|stand|\n",
      "|        0.0116119385|        -0.014511108|        -0.021240234|      a|nexus4|stand|\n",
      "|0.009475708000000001|        -0.016647339|         -0.02230835|      a|nexus4|stand|\n",
      "|         0.010543823|        -0.016647339|        -0.021240234|      a|nexus4|stand|\n",
      "|         0.008407593|        -0.015579224|        -0.023376465|      a|nexus4|stand|\n",
      "|        0.0062713623|        -0.015579224|        -0.023376465|      a|nexus4|stand|\n",
      "|         0.005203247|        -0.013442993|-0.01910400399999...|      a|nexus4|stand|\n",
      "|         0.004135132|        -0.015579224|        -0.021240234|      a|nexus4|stand|\n",
      "|         0.005203247|        -0.012374878|         -0.02017212|      a|nexus4|stand|\n",
      "|         0.004135132|        -0.012374878|-0.01910400399999...|      a|nexus4|stand|\n",
      "|         0.005203247|        -0.009170532|        -0.018035889|      a|nexus4|stand|\n",
      "|        0.0062713623|-0.00810241699999...|-0.01696777300000...|      a|nexus4|stand|\n",
      "|         0.008407593|-0.00703430180000...|       -0.0126953125|      a|nexus4|stand|\n",
      "|        0.0073394775|-0.00596618650000...|       -0.0126953125|      a|nexus4|stand|\n",
      "+--------------------+--------------------+--------------------+-------+------+-----+\n",
      "only showing top 20 rows\n",
      "\n",
      "The statistics of the selected columns are: \n",
      "+-------+------+-----+------+------+------+--------+--------+--------+------+------+-----+-----+-----+-----+\n",
      "|usuario|modelo|clase|mean_x|mean_y|mean_z|stddev_x|stddev_y|stddev_z| min_x| min_y|min_z|max_x|max_y|max_z|\n",
      "+-------+------+-----+------+------+------+--------+--------+--------+------+------+-----+-----+-----+-----+\n",
      "|      a|nexus4|stand| 0.002| 0.001|   0.0|   0.043|   0.029|   0.046|-0.166|-0.156| -0.6|0.632| 0.35|0.449|\n",
      "+-------+------+-----+------+------+------+--------+--------+--------+------+------+-----+-----+-----+-----+\n",
      "\n"
     ]
    },
    {
     "data": {
      "text/plain": [
       "DataFrame[usuario: string, modelo: string, clase: string, mean_x: double, mean_y: double, mean_z: double, stddev_x: double, stddev_y: double, stddev_z: double, min_x: double, min_y: double, min_z: double, max_x: double, max_y: double, max_z: double]"
      ]
     },
     "execution_count": 31,
     "metadata": {},
     "output_type": "execute_result"
    }
   ],
   "source": [
    "# Read Phones_gyroscope File into a Spark DataFrame using the defined schema\n",
    "# Show the statistics of the selected columns from the DataFrame\n",
    "df2 = spark.read.csv(\"small_data/Phones_gyroscope.csv\",\n",
    "                    sep = \",\", header = False, schema = schema, nullValue=\"null\")\n",
    "print(\"Phones_gyroscope File:\")\n",
    "calc_statistic(df2, [\"x\", \"y\", \"z\", \"usuario\", \"modelo\", \"clase\"])"
   ]
  },
  {
   "cell_type": "code",
   "execution_count": 32,
   "id": "e026e5c2",
   "metadata": {},
   "outputs": [
    {
     "name": "stdout",
     "output_type": "stream",
     "text": [
      "Watch_accelerometer File:\n",
      "The selected columns are: \n",
      "+-----------+----------+-----------+-------+------+-----+\n",
      "|          x|         y|          z|usuario|modelo|clase|\n",
      "+-----------+----------+-----------+-------+------+-----+\n",
      "| -0.5650316| -9.572019|-0.61411273|      a|  gear|stand|\n",
      "|-0.83258367| -9.713276|-0.60693014|      a|  gear|stand|\n",
      "| -1.0181342| -9.935339|-0.54408234|      a|  gear|stand|\n",
      "| -1.2228385|-10.142437| -0.5662287|      a|  gear|stand|\n",
      "| -1.5771804|-10.480618|-0.40282443|      a|  gear|stand|\n",
      "| -2.1643584|-10.920552|-0.18375498|      a|  gear|stand|\n",
      "|     -2.973|-11.063007| 0.21188685|      a|  gear|stand|\n",
      "| -3.8881836| -11.08276|  0.6847417|      a|  gear|stand|\n",
      "| -4.8919525|-10.890625|    1.01574|      a|  gear|stand|\n",
      "| -12.600683| -7.674015| -1.1791444|      a|  gear|stand|\n",
      "|  -9.214086|-4.5567646|  0.2172738|      a|  gear|stand|\n",
      "|  -9.214086|-4.5567646|  0.2172738|      a|  gear|stand|\n",
      "|  -9.240421| -4.104859| 0.22325931|      a|  gear|stand|\n",
      "|  -9.273342|-3.7295678| 0.24061728|      a|  gear|stand|\n",
      "|    -9.1668|-3.6703112|  -0.729633|      a|  gear|stand|\n",
      "|  -9.153033|-3.6056678| -0.7326257|      a|  gear|stand|\n",
      "| -9.1512375|-3.6122518|-0.74519527|      a|  gear|stand|\n",
      "|  -9.202713|-3.6463692|  -0.729633|      a|  gear|stand|\n",
      "|  -9.288904|-3.7361517| -0.7266402|      a|  gear|stand|\n",
      "|    -9.2907|-3.7720647| -0.7302315|      a|  gear|stand|\n",
      "+-----------+----------+-----------+-------+------+-----+\n",
      "only showing top 20 rows\n",
      "\n",
      "The statistics of the selected columns are: \n",
      "+-------+------+-----+------+------+------+--------+--------+--------+-------+-------+------+------+------+------+\n",
      "|usuario|modelo|clase|mean_x|mean_y|mean_z|stddev_x|stddev_y|stddev_z|  min_x|  min_y| min_z| max_x| max_y| max_z|\n",
      "+-------+------+-----+------+------+------+--------+--------+--------+-------+-------+------+------+------+------+\n",
      "|      a|  gear| null| -9.26|-3.473|-1.041|   0.031|   0.052|   0.031| -9.358| -3.594|-1.142|-9.174|-3.321|-0.931|\n",
      "|      a|  gear|stand| -9.29|-3.137|-1.066|   0.414|   1.063|   0.617|-12.601|-11.083|-2.263|-0.565|-0.578| 1.016|\n",
      "|      a|  gear|  sit|-7.605|-5.528| 2.638|   0.186|   0.274|   0.386|-10.823| -6.917|-3.671|-6.659|-0.833| 3.556|\n",
      "+-------+------+-----+------+------+------+--------+--------+--------+-------+-------+------+------+------+------+\n",
      "\n"
     ]
    },
    {
     "data": {
      "text/plain": [
       "DataFrame[usuario: string, modelo: string, clase: string, mean_x: double, mean_y: double, mean_z: double, stddev_x: double, stddev_y: double, stddev_z: double, min_x: double, min_y: double, min_z: double, max_x: double, max_y: double, max_z: double]"
      ]
     },
     "execution_count": 32,
     "metadata": {},
     "output_type": "execute_result"
    }
   ],
   "source": [
    "# Read Watch_accelerometer File into a Spark DataFrame using the defined schema\n",
    "# Show the statistics of the selected columns from the DataFrame\n",
    "df3 = spark.read.csv(\"small_data/Watch_accelerometer.csv\",\n",
    "                    sep = \",\", header = False, schema = schema, nullValue=\"null\")\n",
    "print(\"Watch_accelerometer File:\")\n",
    "calc_statistic(df3, [\"x\", \"y\", \"z\", \"usuario\", \"modelo\", \"clase\"])"
   ]
  },
  {
   "cell_type": "code",
   "execution_count": 33,
   "id": "da35dac9",
   "metadata": {},
   "outputs": [
    {
     "name": "stdout",
     "output_type": "stream",
     "text": [
      "Watch_gyroscope File:\n",
      "The selected columns are: \n",
      "+------------+-------------+------------+-------+------+-----+\n",
      "|           x|            y|           z|usuario|modelo|clase|\n",
      "+------------+-------------+------------+-------+------+-----+\n",
      "| -0.16218652| -0.022104237|  0.05965481|      a|  gear|stand|\n",
      "| -0.18322548|  -0.06178534| 0.012516857|      a|  gear|stand|\n",
      "| -0.18082865|  -0.10865697|-0.036485307|      a|  gear|stand|\n",
      "| -0.14780544|  -0.15792546| -0.09853696|      a|  gear|stand|\n",
      "|  0.18216023|  -0.32357407| -0.27723506|      a|  gear|stand|\n",
      "| 0.075101145|  -0.25566345|   -0.216515|      a|  gear|stand|\n",
      "|  0.24660872|  -0.44554687| -0.31798145|      a|  gear|stand|\n",
      "| -0.14780544|  -0.15792546| -0.09853696|      a|  gear|stand|\n",
      "|  -0.0561927|   -0.2082592|  -0.1587244|      a|  gear|stand|\n",
      "|  -2.0383835|  -0.39468047|   1.1475562|      a|  gear|stand|\n",
      "|   0.7145261|    -0.536627|  -1.2319783|      a|  gear|stand|\n",
      "|   0.7145261|    -0.536627|  -1.2319783|      a|  gear|stand|\n",
      "|  0.81039995|  -0.55287224|  -1.2010857|      a|  gear|stand|\n",
      "|  0.02956109|  -0.04474111| -0.06737798|      a|  gear|stand|\n",
      "| -0.04181163|  0.006657903| -0.09241169|      a|  gear|stand|\n",
      "| -0.02396845| 0.0063915867|   -0.087618|      a|  gear|stand|\n",
      "|-0.047137953| 0.0058589545| -0.09081379|      a|  gear|stand|\n",
      "|-0.010652645|  -0.02609898| -0.08149273|      a|  gear|stand|\n",
      "| 0.014647386|  -0.04181163|-0.075101145|      a|  gear|stand|\n",
      "|-0.034088463|-0.0055926386| -0.08495484|      a|  gear|stand|\n",
      "+------------+-------------+------------+-------+------+-----+\n",
      "only showing top 20 rows\n",
      "\n",
      "The statistics of the selected columns are: \n",
      "+-------+------+-----+------+------+------+--------+--------+--------+------+------+------+-----+------+------+\n",
      "|usuario|modelo|clase|mean_x|mean_y|mean_z|stddev_x|stddev_y|stddev_z| min_x| min_y| min_z|max_x| max_y| max_z|\n",
      "+-------+------+-----+------+------+------+--------+--------+--------+------+------+------+-----+------+------+\n",
      "|      a|  gear| null| 0.023|-0.037|-0.072|   0.018|   0.012|   0.008|-0.031| -0.08|-0.093|0.056|-0.018|-0.055|\n",
      "|      a|  gear|stand| 0.022|-0.033|-0.071|   0.073|   0.056|    0.05|-2.038|-0.553|-1.232| 0.81| 0.354| 1.148|\n",
      "|      a|  gear|  sit| 0.023|-0.041| -0.07|   0.057|   0.056|   0.045|-0.701| -0.79|-0.228|0.399| 0.399| 0.776|\n",
      "+-------+------+-----+------+------+------+--------+--------+--------+------+------+------+-----+------+------+\n",
      "\n"
     ]
    },
    {
     "data": {
      "text/plain": [
       "DataFrame[usuario: string, modelo: string, clase: string, mean_x: double, mean_y: double, mean_z: double, stddev_x: double, stddev_y: double, stddev_z: double, min_x: double, min_y: double, min_z: double, max_x: double, max_y: double, max_z: double]"
      ]
     },
     "execution_count": 33,
     "metadata": {},
     "output_type": "execute_result"
    }
   ],
   "source": [
    "# Read Watch_gyroscope File into a Spark DataFrame using the defined schema\n",
    "# Show the statistics of the selected columns from the DataFrame\n",
    "df4 = spark.read.csv(\"small_data/Watch_gyroscope.csv\",\n",
    "                    sep = \",\", header = False, schema = schema, nullValue=\"null\")\n",
    "print(\"Watch_gyroscope File:\")\n",
    "calc_statistic(df4, [\"x\", \"y\", \"z\", \"usuario\", \"modelo\", \"clase\"])"
   ]
  },
  {
   "cell_type": "markdown",
   "metadata": {},
   "source": [
    "#### Concatenate DataFrames with join and union"
   ]
  },
  {
   "cell_type": "code",
   "execution_count": 34,
   "metadata": {},
   "outputs": [
    {
     "name": "stdout",
     "output_type": "stream",
     "text": [
      "Concatenated Phones_accelerometer and Phones_gyroscope DataFrames: \n",
      "+-------+------+-----+------------------+------------------+-----------------+-----------+--------------------+------------+\n",
      "|usuario|modelo|clase|   x_accelerometer|   y_accelerometer|  z_accelerometer|x_gyroscope|         y_gyroscope| z_gyroscope|\n",
      "+-------+------+-----+------------------+------------------+-----------------+-----------+--------------------+------------+\n",
      "|      a|nexus4|stand|        -6.0462646|         1.0082245|7.952057000000001|0.013748169|-6.25610350000000...|-0.023376465|\n",
      "|      a|nexus4|stand|        -6.0272217|        0.99394226|7.929443400000001|0.013748169|-6.25610350000000...|-0.023376465|\n",
      "|      a|nexus4|stand|        -6.0593567|0.9915619000000001|7.967529300000001|0.013748169|-6.25610350000000...|-0.023376465|\n",
      "|      a|nexus4|stand|         -6.034363|0.9832306000000001|7.960388000000001|0.013748169|-6.25610350000000...|-0.023376465|\n",
      "|      a|nexus4|stand|         -6.085541|1.0070343000000002|7.968719500000001|0.013748169|-6.25610350000000...|-0.023376465|\n",
      "|      a|nexus4|stand|         -6.042694|1.0320281999999998|        7.9889526|0.013748169|-6.25610350000000...|-0.023376465|\n",
      "|      a|nexus4|stand|         -6.073639|1.0022735999999999|        7.9437256|0.013748169|-6.25610350000000...|-0.023376465|\n",
      "|      a|nexus4|stand|         -6.048645|         1.0189362|         8.003235|0.013748169|-6.25610350000000...|-0.023376465|\n",
      "|      a|nexus4|stand|        -6.0200806|        0.97132874|         8.052032|0.013748169|-6.25610350000000...|-0.023376465|\n",
      "|      a|nexus4|stand|-6.064117400000001|        0.97846985|7.981811500000001|0.013748169|-6.25610350000000...|-0.023376465|\n",
      "|      a|nexus4|stand|         -6.029602|         1.0046539|         7.985382|0.013748169|-6.25610350000000...|-0.023376465|\n",
      "|      a|nexus4|stand|         -6.004608|         1.0082245|7.990142999999999|0.013748169|-6.25610350000000...|-0.023376465|\n",
      "|      a|nexus4|stand|          -6.01532|        0.95466614|          8.09845|0.013748169|-6.25610350000000...|-0.023376465|\n",
      "|      a|nexus4|stand|         -5.966522|        0.97846985|7.998474000000001|0.013748169|-6.25610350000000...|-0.023376465|\n",
      "|      a|nexus4|stand|         -6.060547|        0.98561096|8.034180000000001|0.013748169|-6.25610350000000...|-0.023376465|\n",
      "|      a|nexus4|stand|        -6.0129395|         0.9760895|         8.152008|0.013748169|-6.25610350000000...|-0.023376465|\n",
      "|      a|nexus4|stand|         -6.055786|         0.9677582|         8.046082|0.013748169|-6.25610350000000...|-0.023376465|\n",
      "|      a|nexus4|stand|         -6.055786|        0.95347595|         8.061554|0.013748169|-6.25610350000000...|-0.023376465|\n",
      "|      a|nexus4|stand|         -6.047455|         0.9820404|        8.0651245|0.013748169|-6.25610350000000...|-0.023376465|\n",
      "|      a|nexus4|stand|        -6.0200806|         0.9641876|7.978241000000001|0.013748169|-6.25610350000000...|-0.023376465|\n",
      "+-------+------+-----+------------------+------------------+-----------------+-----------+--------------------+------------+\n",
      "only showing top 20 rows\n",
      "\n"
     ]
    }
   ],
   "source": [
    "# Concatenate df and df2 DataFrames with join\n",
    "selected_columns = [\"x\", \"y\", \"z\", \"usuario\", \"modelo\", \"clase\"]\n",
    "df_phones_concat = df.select(selected_columns).join(df2.select(selected_columns), on = [\"usuario\", \"modelo\", \"clase\"], how = \"inner\")\n",
    "# Change the column names of the concatenated DataFrame\n",
    "df_phones_concat = df_phones_concat.toDF(\"usuario\", \"modelo\", \"clase\", \"x_accelerometer\", \"y_accelerometer\", \"z_accelerometer\", \"x_gyroscope\", \"y_gyroscope\", \"z_gyroscope\")\n",
    "print(\"Concatenated Phones_accelerometer and Phones_gyroscope DataFrames: \")\n",
    "df_phones_concat.show()"
   ]
  },
  {
   "cell_type": "code",
   "execution_count": 35,
   "metadata": {},
   "outputs": [
    {
     "name": "stdout",
     "output_type": "stream",
     "text": [
      "Concatenated Watch_accelerometer and Watch_gyroscope DataFrames: \n",
      "+-------+------+-----+---------------+---------------+---------------+-----------+------------+-----------+\n",
      "|usuario|modelo|clase|x_accelerometer|y_accelerometer|z_accelerometer|x_gyroscope| y_gyroscope|z_gyroscope|\n",
      "+-------+------+-----+---------------+---------------+---------------+-----------+------------+-----------+\n",
      "|      a|  gear|stand|      -9.197326|      -3.554791|     -1.0360907|-0.16218652|-0.022104237| 0.05965481|\n",
      "|      a|  gear|stand|       -9.20391|     -3.5541923|      -1.055843|-0.16218652|-0.022104237| 0.05965481|\n",
      "|      a|  gear|stand|      -9.199121|      -3.554791|     -1.0468647|-0.16218652|-0.022104237| 0.05965481|\n",
      "|      a|  gear|stand|      -9.233239|     -3.5488055|     -1.0313023|-0.16218652|-0.022104237| 0.05965481|\n",
      "|      a|  gear|stand|      -9.236232|      -3.537433|     -1.0456676|-0.16218652|-0.022104237| 0.05965481|\n",
      "|      a|  gear|stand|      -9.240421|     -3.4913447|     -1.0588357|-0.16218652|-0.022104237| 0.05965481|\n",
      "|      a|  gear|stand|      -9.276933|      -3.466804|     -1.0235212|-0.16218652|-0.022104237| 0.05965481|\n",
      "|      a|  gear|stand|       -9.28232|     -3.4374752|     -1.0582372|-0.16218652|-0.022104237| 0.05965481|\n",
      "|      a|  gear|stand|      -9.275137|      -3.426701|     -1.0067618|-0.16218652|-0.022104237| 0.05965481|\n",
      "|      a|  gear|stand|       -9.25359|     -3.4314895|     -1.0049661|-0.16218652|-0.022104237| 0.05965481|\n",
      "|      a|  gear|stand|      -9.252393|     -3.4404678|    -0.94451255|-0.16218652|-0.022104237| 0.05965481|\n",
      "|      a|  gear|stand|      -9.228451|     -3.4638114|     -0.9816227|-0.16218652|-0.022104237| 0.05965481|\n",
      "|      a|  gear|stand|      -9.279925|     -3.5033157|    -0.98581254|-0.16218652|-0.022104237| 0.05965481|\n",
      "|      a|  gear|stand|      -9.308656|     -3.5009215|    -0.96067345|-0.16218652|-0.022104237| 0.05965481|\n",
      "|      a|  gear|stand|      -9.298481|     -3.4680011|    -0.99658644|-0.16218652|-0.022104237| 0.05965481|\n",
      "|      a|  gear|stand|      -9.272743|     -3.4739866|     -1.0354922|-0.16218652|-0.022104237| 0.05965481|\n",
      "|      a|  gear|stand|      -9.214086|     -3.4715924|     -1.0319009|-0.16218652|-0.022104237| 0.05965481|\n",
      "|      a|  gear|stand|      -9.215881|     -3.4751837|       -1.01574|-0.16218652|-0.022104237| 0.05965481|\n",
      "|      a|  gear|stand|      -9.214684|     -3.4506433|    -0.98222125|-0.16218652|-0.022104237| 0.05965481|\n",
      "|      a|  gear|stand|      -9.211093|     -3.4799721|     -1.0127473|-0.16218652|-0.022104237| 0.05965481|\n",
      "+-------+------+-----+---------------+---------------+---------------+-----------+------------+-----------+\n",
      "only showing top 20 rows\n",
      "\n"
     ]
    }
   ],
   "source": [
    "# Concatenate df3 and df4 DataFrames with join\n",
    "df_watch_concat = df3.select(selected_columns).join(df4.select(selected_columns), on = [\"usuario\", \"modelo\", \"clase\"], how = \"inner\")\n",
    "# Change the column names of the concatenated DataFrame\n",
    "df_watch_concat = df_watch_concat.toDF(\"usuario\", \"modelo\", \"clase\", \"x_accelerometer\", \"y_accelerometer\", \"z_accelerometer\", \"x_gyroscope\", \"y_gyroscope\", \"z_gyroscope\")\n",
    "print(\"Concatenated Watch_accelerometer and Watch_gyroscope DataFrames: \")\n",
    "df_watch_concat.show()"
   ]
  },
  {
   "cell_type": "code",
   "execution_count": 36,
   "metadata": {},
   "outputs": [
    {
     "name": "stdout",
     "output_type": "stream",
     "text": [
      "Concatenated Phones_accelerometer, Phones_gyroscope, Watch_accelerometer and Watch_gyroscope DataFrames: \n",
      "+-------+------+-----+------------------+------------------+-----------------+-----------+--------------------+------------+\n",
      "|usuario|modelo|clase|   x_accelerometer|   y_accelerometer|  z_accelerometer|x_gyroscope|         y_gyroscope| z_gyroscope|\n",
      "+-------+------+-----+------------------+------------------+-----------------+-----------+--------------------+------------+\n",
      "|      a|nexus4|stand|        -6.0462646|         1.0082245|7.952057000000001|0.013748169|-6.25610350000000...|-0.023376465|\n",
      "|      a|nexus4|stand|        -6.0272217|        0.99394226|7.929443400000001|0.013748169|-6.25610350000000...|-0.023376465|\n",
      "|      a|nexus4|stand|        -6.0593567|0.9915619000000001|7.967529300000001|0.013748169|-6.25610350000000...|-0.023376465|\n",
      "|      a|nexus4|stand|         -6.034363|0.9832306000000001|7.960388000000001|0.013748169|-6.25610350000000...|-0.023376465|\n",
      "|      a|nexus4|stand|         -6.085541|1.0070343000000002|7.968719500000001|0.013748169|-6.25610350000000...|-0.023376465|\n",
      "|      a|nexus4|stand|         -6.042694|1.0320281999999998|        7.9889526|0.013748169|-6.25610350000000...|-0.023376465|\n",
      "|      a|nexus4|stand|         -6.073639|1.0022735999999999|        7.9437256|0.013748169|-6.25610350000000...|-0.023376465|\n",
      "|      a|nexus4|stand|         -6.048645|         1.0189362|         8.003235|0.013748169|-6.25610350000000...|-0.023376465|\n",
      "|      a|nexus4|stand|        -6.0200806|        0.97132874|         8.052032|0.013748169|-6.25610350000000...|-0.023376465|\n",
      "|      a|nexus4|stand|-6.064117400000001|        0.97846985|7.981811500000001|0.013748169|-6.25610350000000...|-0.023376465|\n",
      "|      a|nexus4|stand|         -6.029602|         1.0046539|         7.985382|0.013748169|-6.25610350000000...|-0.023376465|\n",
      "|      a|nexus4|stand|         -6.004608|         1.0082245|7.990142999999999|0.013748169|-6.25610350000000...|-0.023376465|\n",
      "|      a|nexus4|stand|          -6.01532|        0.95466614|          8.09845|0.013748169|-6.25610350000000...|-0.023376465|\n",
      "|      a|nexus4|stand|         -5.966522|        0.97846985|7.998474000000001|0.013748169|-6.25610350000000...|-0.023376465|\n",
      "|      a|nexus4|stand|         -6.060547|        0.98561096|8.034180000000001|0.013748169|-6.25610350000000...|-0.023376465|\n",
      "|      a|nexus4|stand|        -6.0129395|         0.9760895|         8.152008|0.013748169|-6.25610350000000...|-0.023376465|\n",
      "|      a|nexus4|stand|         -6.055786|         0.9677582|         8.046082|0.013748169|-6.25610350000000...|-0.023376465|\n",
      "|      a|nexus4|stand|         -6.055786|        0.95347595|         8.061554|0.013748169|-6.25610350000000...|-0.023376465|\n",
      "|      a|nexus4|stand|         -6.047455|         0.9820404|        8.0651245|0.013748169|-6.25610350000000...|-0.023376465|\n",
      "|      a|nexus4|stand|        -6.0200806|         0.9641876|7.978241000000001|0.013748169|-6.25610350000000...|-0.023376465|\n",
      "+-------+------+-----+------------------+------------------+-----------------+-----------+--------------------+------------+\n",
      "only showing top 20 rows\n",
      "\n"
     ]
    }
   ],
   "source": [
    "# Concatenate df_phones_concat and df_watch_concat DataFrames with union\n",
    "df_concat = df_phones_concat.union(df_watch_concat)\n",
    "print(\"Concatenated Phones_accelerometer, Phones_gyroscope, Watch_accelerometer and Watch_gyroscope DataFrames: \")\n",
    "df_concat.show()"
   ]
  }
 ],
 "metadata": {
  "kernelspec": {
   "display_name": "Python 3 (ipykernel)",
   "language": "python",
   "name": "python3"
  },
  "language_info": {
   "codemirror_mode": {
    "name": "ipython",
    "version": 3
   },
   "file_extension": ".py",
   "mimetype": "text/x-python",
   "name": "python",
   "nbconvert_exporter": "python",
   "pygments_lexer": "ipython3",
   "version": "3.9.13"
  }
 },
 "nbformat": 4,
 "nbformat_minor": 5
}
