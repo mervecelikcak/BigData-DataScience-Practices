{
 "cells": [
  {
   "cell_type": "markdown",
   "metadata": {},
   "source": [
    "# PySpark - Tarea 1"
   ]
  },
  {
   "cell_type": "markdown",
   "metadata": {},
   "source": [
    "### Practice 1 Task 1: Introduction to RDDs – Transformations and Actions"
   ]
  },
  {
   "cell_type": "code",
   "execution_count": 1,
   "metadata": {
    "execution": {
     "iopub.execute_input": "2023-11-30T09:31:08.239851Z",
     "iopub.status.busy": "2023-11-30T09:31:08.239444Z",
     "iopub.status.idle": "2023-11-30T09:32:02.603489Z",
     "shell.execute_reply": "2023-11-30T09:32:02.601871Z",
     "shell.execute_reply.started": "2023-11-30T09:31:08.239817Z"
    }
   },
   "outputs": [],
   "source": [
    "#pip install pyspark"
   ]
  },
  {
   "cell_type": "code",
   "execution_count": 2,
   "metadata": {
    "execution": {
     "iopub.execute_input": "2023-11-30T09:32:55.671856Z",
     "iopub.status.busy": "2023-11-30T09:32:55.671356Z",
     "iopub.status.idle": "2023-11-30T09:33:01.738609Z",
     "shell.execute_reply": "2023-11-30T09:33:01.737287Z",
     "shell.execute_reply.started": "2023-11-30T09:32:55.671820Z"
    }
   },
   "outputs": [
    {
     "name": "stderr",
     "output_type": "stream",
     "text": [
      "23/12/02 19:58:53 WARN Utils: Your hostname, onur-ideacenter resolves to a loopback address: 127.0.1.1; using 192.168.0.19 instead (on interface wlo1)\n",
      "23/12/02 19:58:53 WARN Utils: Set SPARK_LOCAL_IP if you need to bind to another address\n",
      "Setting default log level to \"WARN\".\n",
      "To adjust logging level use sc.setLogLevel(newLevel). For SparkR, use setLogLevel(newLevel).\n",
      "23/12/02 19:58:54 WARN NativeCodeLoader: Unable to load native-hadoop library for your platform... using builtin-java classes where applicable\n"
     ]
    }
   ],
   "source": [
    "from pyspark import SparkContext\n",
    "from pyspark import SparkConf\n",
    "sc = SparkContext(master = 'local[2]')"
   ]
  },
  {
   "cell_type": "markdown",
   "metadata": {},
   "source": [
    "## Question 1\n",
    "1. Calculate the mean and standard deviation of a file containing heights (alturas_v0.csv)"
   ]
  },
  {
   "cell_type": "code",
   "execution_count": 3,
   "metadata": {
    "execution": {
     "iopub.execute_input": "2023-11-30T09:33:03.637287Z",
     "iopub.status.busy": "2023-11-30T09:33:03.635249Z",
     "iopub.status.idle": "2023-11-30T09:33:07.263108Z",
     "shell.execute_reply": "2023-11-30T09:33:07.262043Z",
     "shell.execute_reply.started": "2023-11-30T09:33:03.637231Z"
    },
    "scrolled": true
   },
   "outputs": [
    {
     "data": {
      "text/plain": [
       "[173.0, 161.0, 176.0, 180.0, 162.0, 176.0, 166.0, 174.0, 158.0, 162.0]"
      ]
     },
     "execution_count": 3,
     "metadata": {},
     "output_type": "execute_result"
    }
   ],
   "source": [
    "# Import Data by making all values float and filtering negative values\n",
    "data = sc.textFile(\"alturas_v0.csv\")\n",
    "new_data = data.map(lambda x: float(x))\n",
    "filtered_data = new_data.filter(lambda x: x>=0)\n",
    "\n",
    "# Convert to cm\n",
    "my_data = filtered_data.map(lambda x: x * 100 if x < 2 else x if x >= 100 else x * 100)\n",
    "my_data.take(10)"
   ]
  },
  {
   "cell_type": "code",
   "execution_count": 4,
   "metadata": {
    "execution": {
     "iopub.execute_input": "2023-11-30T09:33:17.606033Z",
     "iopub.status.busy": "2023-11-30T09:33:17.605593Z",
     "iopub.status.idle": "2023-11-30T09:33:18.882816Z",
     "shell.execute_reply": "2023-11-30T09:33:18.881686Z",
     "shell.execute_reply.started": "2023-11-30T09:33:17.606000Z"
    }
   },
   "outputs": [
    {
     "name": "stdout",
     "output_type": "stream",
     "text": [
      "Data Mean:  168.93825222396651\n",
      "Data Std:   7.834055783371033\n"
     ]
    }
   ],
   "source": [
    "# Calculate Mean and Std of Data\n",
    "count_data = my_data.count()\n",
    "sum_data = my_data.reduce(lambda x, y: x + y)\n",
    "mean_data = sum_data / count_data\n",
    "std_data = (my_data.map(lambda x: pow(x - mean_data, 2)).reduce(lambda x, y: x + y) / count_data) ** 0.5\n",
    "\n",
    "print(\"Data Mean: \", mean_data)\n",
    "print(\"Data Std:  \", std_data)"
   ]
  },
  {
   "cell_type": "code",
   "execution_count": 5,
   "metadata": {
    "execution": {
     "iopub.execute_input": "2023-11-30T09:33:22.105698Z",
     "iopub.status.busy": "2023-11-30T09:33:22.105226Z",
     "iopub.status.idle": "2023-11-30T09:33:22.972115Z",
     "shell.execute_reply": "2023-11-30T09:33:22.971015Z",
     "shell.execute_reply.started": "2023-11-30T09:33:22.105664Z"
    }
   },
   "outputs": [
    {
     "name": "stdout",
     "output_type": "stream",
     "text": [
      "Data Mean:  168.93825222396651\n",
      "Data Std:   7.834055783371039\n"
     ]
    }
   ],
   "source": [
    "# Calculate Mean and Std of Data using Built-in Functions in Pyspark to Compare\n",
    "avg_my_data = my_data.mean()\n",
    "print(\"Data Mean: \", avg_my_data)\n",
    "std_my_data = my_data.stdev()\n",
    "print(\"Data Std:  \",std_my_data)"
   ]
  },
  {
   "cell_type": "markdown",
   "metadata": {},
   "source": [
    "## Question 2\n",
    "2. Calculate the mean and standard deviation of a file containing heights (alturas.csv) by gender"
   ]
  },
  {
   "cell_type": "code",
   "execution_count": 6,
   "metadata": {
    "execution": {
     "iopub.execute_input": "2023-11-30T09:37:43.830636Z",
     "iopub.status.busy": "2023-11-30T09:37:43.830242Z",
     "iopub.status.idle": "2023-11-30T09:37:44.200821Z",
     "shell.execute_reply": "2023-11-30T09:37:44.200023Z",
     "shell.execute_reply.started": "2023-11-30T09:37:43.830607Z"
    }
   },
   "outputs": [
    {
     "data": {
      "text/plain": [
       "[('H', 173.0),\n",
       " ('M', 161.0),\n",
       " ('H', 176.0),\n",
       " ('H', 180.0),\n",
       " ('M', 162.0),\n",
       " ('H', 176.0),\n",
       " ('M', 166.0),\n",
       " ('H', 174.0),\n",
       " ('M', 158.0),\n",
       " ('M', 162.0)]"
      ]
     },
     "execution_count": 6,
     "metadata": {},
     "output_type": "execute_result"
    }
   ],
   "source": [
    "# Import Data by making all values float and filtering negative values\n",
    "data2 = sc.textFile(\"alturas.csv\")\n",
    "data3 = data2.map(lambda x: x.split(\",\")).map(lambda x: (x[0], float(x[1])))\n",
    "data3 = data3.filter(lambda x: (x[1]>=0))\n",
    "\n",
    "# Convert to cm\n",
    "data3 = data3.map(lambda x: (x[0], x[1] * 100 if x[1] < 2 else x[1] if x[1] >= 100 else x[1] * 100))\n",
    "data3.take(10)"
   ]
  },
  {
   "cell_type": "code",
   "execution_count": 7,
   "metadata": {
    "execution": {
     "iopub.execute_input": "2023-11-30T10:38:55.606855Z",
     "iopub.status.busy": "2023-11-30T10:38:55.606313Z",
     "iopub.status.idle": "2023-11-30T10:38:57.410744Z",
     "shell.execute_reply": "2023-11-30T10:38:57.408366Z",
     "shell.execute_reply.started": "2023-11-30T10:38:55.606822Z"
    }
   },
   "outputs": [
    {
     "name": "stdout",
     "output_type": "stream",
     "text": [
      "Mean of H:  173.46075433231397\n",
      "Mean of M:  164.16774193548386\n",
      "Std of H:   7.5312288366375055\n",
      "Std of M:   4.684891325217869\n"
     ]
    }
   ],
   "source": [
    "# Calculate Sum and Count of H and M\n",
    "data4 = data3.reduceByKey(lambda v1, v2: v1+v2).collect()\n",
    "count_data4 = sorted(data3.countByKey().items())\n",
    "\n",
    "# Get the sum and count\n",
    "sum_h, sum_m = data4[0][1], data4[1][1]\n",
    "count_h, count_m = count_data4[0][1], count_data4[1][1]\n",
    "\n",
    "# Calculate the mean\n",
    "mean_h = sum_h / count_h\n",
    "mean_m = sum_m / count_m\n",
    "\n",
    "# Calculate the standard deviation\n",
    "std_h = (data3.filter(lambda x: x[0] == \"H\").map(lambda x: pow(x[1] - mean_h, 2)).reduce(lambda x, y: x + y) / count_h) ** 0.5\n",
    "std_m = (data3.filter(lambda x: x[0] == \"M\").map(lambda x: pow(x[1] - mean_m, 2)).reduce(lambda x, y: x + y) / count_m) ** 0.5\n",
    "\n",
    "print(\"Mean of H: \", mean_h)\n",
    "print(\"Mean of M: \", mean_m)\n",
    "print(\"Std of H:  \", std_h)\n",
    "print(\"Std of M:  \", std_m)"
   ]
  }
 ],
 "metadata": {
  "kaggle": {
   "accelerator": "none",
   "dataSources": [
    {
     "datasetId": 4081049,
     "sourceId": 7083624,
     "sourceType": "datasetVersion"
    }
   ],
   "dockerImageVersionId": 30587,
   "isGpuEnabled": false,
   "isInternetEnabled": true,
   "language": "python",
   "sourceType": "notebook"
  },
  "kernelspec": {
   "display_name": "Python 3 (ipykernel)",
   "language": "python",
   "name": "python3"
  },
  "language_info": {
   "codemirror_mode": {
    "name": "ipython",
    "version": 3
   },
   "file_extension": ".py",
   "mimetype": "text/x-python",
   "name": "python",
   "nbconvert_exporter": "python",
   "pygments_lexer": "ipython3",
   "version": "3.9.13"
  }
 },
 "nbformat": 4,
 "nbformat_minor": 4
}
