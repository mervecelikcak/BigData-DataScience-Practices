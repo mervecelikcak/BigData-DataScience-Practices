{
 "cells": [
  {
   "cell_type": "markdown",
   "id": "97f59710-66a1-44af-818b-530cc5421f9c",
   "metadata": {},
   "source": [
    "# Kafka Producer\n",
    "**Ejemplo de cliente Productor de Kafka**\n",
    "Es una plantilla de programa en la que se encuentran porciones de código que deben ser rellenadas. Todas esas porciones están indicadas con texto.\n",
    "\n",
    "Este programa genera unos datos con la librería *Faker* y envía los datos a un servidor Kafka.\n",
    "\n",
    "Presta atención a los siguientes parámetros de la instalación:\n",
    "- Servidores o servidores que tienes disponibles así como sus puertos\n",
    "- Topic en el que quieres almacenar los datos\n",
    "- Valor de la clave a utilizar en los registros\n",
    "- En el fichero *Producer.log* se guardan toda la información. \n",
    "\n",
    "Ten disponible el Offset Explorer para confirmar los valores\n"
   ]
  },
  {
   "cell_type": "markdown",
   "id": "88df3543-b28a-4c1f-a59a-568704a1e692",
   "metadata": {},
   "source": [
    "### Importando módulos necesarios"
   ]
  },
  {
   "cell_type": "code",
   "execution_count": 1,
   "id": "31c4369d-9ad3-4ceb-8310-9b3506b33d44",
   "metadata": {},
   "outputs": [],
   "source": [
    "from kafka import KafkaProducer\n",
    "from faker import Faker\n",
    "from json import dumps, loads \n",
    "import time\n",
    "import logging\n",
    "import sys\n",
    "import random"
   ]
  },
  {
   "cell_type": "markdown",
   "id": "8ccce88d-b2d1-4b05-ac9f-ee21474c0a30",
   "metadata": {},
   "source": [
    "### Configuramos Logging y Faker"
   ]
  },
  {
   "cell_type": "code",
   "execution_count": 2,
   "id": "bb4eb969-3402-45bc-a928-1931eee2b6ba",
   "metadata": {
    "tags": []
   },
   "outputs": [],
   "source": [
    "#Logging\n",
    "logging.basicConfig(format='%(asctime)s %(message)s',\n",
    "                    datefmt='%d-%m-%Y %H:%M:%S',\n",
    "                    filename='producer.log',\n",
    "                    filemode='w')\n",
    "\n",
    "logger = logging.getLogger()\n",
    "logger.setLevel(logging.INFO)"
   ]
  },
  {
   "cell_type": "code",
   "execution_count": 3,
   "id": "c3ee28f2-5004-4da1-b7e0-6da2b1e6c82b",
   "metadata": {},
   "outputs": [],
   "source": [
    "#Faker\n",
    "fake=Faker('es_ES')"
   ]
  },
  {
   "cell_type": "markdown",
   "id": "3383e85a-aed5-450f-a827-6801e4f8ae03",
   "metadata": {},
   "source": [
    "### Configuración básica\n",
    "\n",
    "Tendrás que especificar el Topic, la clave y el/los servidores"
   ]
  },
  {
   "cell_type": "code",
   "execution_count": 4,
   "id": "5758cab9-3445-46f2-9502-61b000012e2d",
   "metadata": {},
   "outputs": [],
   "source": [
    "#Configuración del entorno Kafka\n",
    "topic_name = 'my-topic'\n",
    "key = 'my-key'\n",
    "bootstrap_servers = ['localhost:9092', 'localhost:9093']\n",
    "logging.info('Arrancando...')"
   ]
  },
  {
   "cell_type": "markdown",
   "id": "6e41b75a-76fa-4d3a-9c94-91bf78e35a62",
   "metadata": {},
   "source": [
    "### Configuración del Productor\n",
    "\n",
    "Los serializadores son funcinoes llamables que ayudarán a enviar, o interpretar, los datos del servidor.\n",
    "\n",
    "En esta plantilla hay dos, uno para la clave y otro para el dato. Tendrás que configurar el de la clave, que es, simplemente, una cadena."
   ]
  },
  {
   "cell_type": "code",
   "execution_count": 5,
   "id": "3e78fcd1-a53c-45cb-a831-9d70de18af7d",
   "metadata": {
    "tags": []
   },
   "outputs": [],
   "source": [
    "#Definiendo el conector\n",
    "def connect_kafka_producer(bootstrap_servers):\n",
    "    producer = None\n",
    "    try:\n",
    "        producer = KafkaProducer(bootstrap_servers=bootstrap_servers,\n",
    "                                 key_serializer=str.encode(),\n",
    "                                 value_serializer=lambda x: dumps(x).encode('utf-8'))\n",
    "    except Exception as ex:\n",
    "        logging.error('Exception while connecting producer')\n",
    "        logging.error(ex)\n",
    "    finally:\n",
    "        return producer"
   ]
  },
  {
   "cell_type": "markdown",
   "id": "67cb6226-02e4-478c-9d5e-9f480fe81591",
   "metadata": {},
   "source": [
    "### Definiendo la publicación del Mensaje en Kafka"
   ]
  },
  {
   "cell_type": "code",
   "execution_count": 6,
   "id": "b1b971a1-a8eb-4966-82e3-be8504f23965",
   "metadata": {
    "tags": []
   },
   "outputs": [],
   "source": [
    "#Definiendo la publicación del mensaje\n",
    "def publish_message(producer, topic, key, value):\n",
    "    try:\n",
    "        producer.send(topic, key=key, value=value)\n",
    "        producer.flush()\n",
    "        logging.debug('Publicación del Mensaje OK')\n",
    "    except Exception as ex:\n",
    "        logging.error(value)\n",
    "        logging.error('Excepción al publicar el mensaje')\n",
    "        logging.error(ex)\n",
    "    finally:\n",
    "        return"
   ]
  },
  {
   "cell_type": "markdown",
   "id": "c3d32be1-436a-4744-9ac8-9bb265032d8b",
   "metadata": {},
   "source": [
    "### Creando datos de usuario y publicando\n",
    "\n",
    "Sustituye las cadenas de *?????* por sus valores correspondientes"
   ]
  },
  {
   "cell_type": "code",
   "execution_count": 8,
   "id": "056d4435-d1cc-4a7f-9a71-9e6d2505a162",
   "metadata": {},
   "outputs": [],
   "source": [
    "producer = connect_kafka_producer(bootstrap_servers)\n",
    "logging.info(\"Conexión a broker: \"+str(producer))\n",
    "for i in range(30):\n",
    "    data={\n",
    "       'user_id': fake.random_int(min=20000, max=100000),\n",
    "       'user_name':fake.name(),\n",
    "       'user_address':fake.street_address() + ' | ' + fake.city() + ' | ' + fake.country_code(),\n",
    "       'platform': random.choice(['Mobile', 'Laptop', 'Tablet']),\n",
    "       'signup_at': str(fake.date_time_this_month())    \n",
    "    }\n",
    "    publish_message(producer, topic_name, key, data)\n",
    "    logging.info(data)\n",
    "    time.sleep(1)\n"
   ]
  },
  {
   "cell_type": "code",
   "execution_count": null,
   "id": "29d73c62",
   "metadata": {},
   "outputs": [],
   "source": []
  }
 ],
 "metadata": {
  "kernelspec": {
   "display_name": "Python 3",
   "language": "python",
   "name": "python3"
  },
  "language_info": {
   "codemirror_mode": {
    "name": "ipython",
    "version": 3
   },
   "file_extension": ".py",
   "mimetype": "text/x-python",
   "name": "python",
   "nbconvert_exporter": "python",
   "pygments_lexer": "ipython3",
   "version": "3.6.8"
  }
 },
 "nbformat": 4,
 "nbformat_minor": 5
}
