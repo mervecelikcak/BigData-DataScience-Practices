{
 "cells": [
  {
   "cell_type": "markdown",
   "id": "3e1985ac-884c-49c7-9ce1-413ba494edd7",
   "metadata": {},
   "source": [
    "# Kafka Consumer\n",
    "**Ejemplo de cliente Consumidor de Kafka**\n",
    "Es una plantilla de programa en la que se encuentran porciones de código que deben ser rellenadas. Todas esas porciones están indicadas con texto.\n",
    "\n",
    "Este programa consume datos de un servidor Kafka. Los datos están en formato JSON\n",
    "\n",
    "Presta atención a los siguientes parámetros de la instalación:\n",
    "- Servidores o servidores que tienes disponibles así como sus puertos\n",
    "- Topic del que quieres recuperar los datos\n",
    "- En el fichero *Consumer.log* se guarda toda la información. \n",
    "\n",
    "Ten disponible el Offset Explorer para confirmar los valores"
   ]
  },
  {
   "cell_type": "code",
   "execution_count": 1,
   "id": "b49b48d2-4442-4a30-a2af-d7ba2824ec20",
   "metadata": {
    "tags": []
   },
   "outputs": [],
   "source": [
    "from kafka import KafkaConsumer\n",
    "from json import loads\n",
    "import logging"
   ]
  },
  {
   "cell_type": "code",
   "execution_count": 2,
   "id": "951701ba-03b1-42d0-974c-b4f2ee228f24",
   "metadata": {
    "tags": []
   },
   "outputs": [],
   "source": [
    "#Logging\n",
    "logging.basicConfig(format='%(asctime)s %(message)s',\n",
    "                    datefmt='%d-%m-%Y %H:%M:%S',\n",
    "                    filename='consumer.log',\n",
    "                    filemode='w')\n",
    "\n",
    "logger = logging.getLogger()\n",
    "logger.setLevel(logging.INFO)"
   ]
  },
  {
   "cell_type": "code",
   "execution_count": 3,
   "id": "5dd4621c-4053-4c0d-9496-ceee7b60a7be",
   "metadata": {},
   "outputs": [],
   "source": [
    "#Configuración del entorno Kafka\n",
    "topic_name = 'my-topic'\n",
    "key = 'my-key'\n",
    "bootstrap_servers = ['localhost:9092']\n",
    "logging.info('Arrancando...')"
   ]
  },
  {
   "cell_type": "code",
   "execution_count": 4,
   "id": "0f366077-ceab-4aa8-bb73-14bef9c40b96",
   "metadata": {},
   "outputs": [],
   "source": [
    "try:\n",
    "    consumer = None\n",
    "    consumer = KafkaConsumer(topic_name,\n",
    "                         bootstrap_servers=bootstrap_servers,\n",
    "                         auto_offset_reset='earliest',\n",
    "                         enable_auto_commit=True,\n",
    "                         group_id='my-processing-group',\n",
    "                         value_deserializer=lambda x: loads(x.decode('utf-8')))\n",
    "except Exception as ex:\n",
    "    logging.error('Exception while connecting consumer')\n",
    "    logging.error(ex)"
   ]
  },
  {
   "cell_type": "code",
   "execution_count": null,
   "id": "75130b8a-9e02-4709-9174-1e393e164055",
   "metadata": {
    "scrolled": false
   },
   "outputs": [],
   "source": [
    "for message in consumer:\n",
    "    message = message.value\n",
    "    print('Leido: {}'.format(message))\n",
    "    logger = logging.info('Mensaje: {}'.format(message))"
   ]
  },
  {
   "cell_type": "code",
   "execution_count": null,
   "id": "1ec72455-132f-4f43-bf66-3a600ed116e5",
   "metadata": {},
   "outputs": [],
   "source": []
  }
 ],
 "metadata": {
  "kernelspec": {
   "display_name": "Python 3",
   "language": "python",
   "name": "python3"
  },
  "language_info": {
   "codemirror_mode": {
    "name": "ipython",
    "version": 3
   },
   "file_extension": ".py",
   "mimetype": "text/x-python",
   "name": "python",
   "nbconvert_exporter": "python",
   "pygments_lexer": "ipython3",
   "version": "3.6.8"
  }
 },
 "nbformat": 4,
 "nbformat_minor": 5
}
