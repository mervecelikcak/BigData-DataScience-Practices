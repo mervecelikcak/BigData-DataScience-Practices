{
 "cells": [
  {
   "cell_type": "markdown",
   "metadata": {
    "nbgrader": {
     "grade": false,
     "locked": false,
     "solution": false
    }
   },
   "source": [
    "# Práctica: análisis de opinión en críticas hoteleras"
   ]
  },
  {
   "cell_type": "markdown",
   "metadata": {
    "nbgrader": {
     "grade": false,
     "locked": false,
     "solution": false
    }
   },
   "source": [
    "<img src=\"img/bellagio.jpg\" style=\"width:200x;height:150;\">"
   ]
  },
  {
   "cell_type": "markdown",
   "metadata": {
    "nbgrader": {
     "grade": false,
     "locked": false,
     "solution": false
    }
   },
   "source": [
    "Vamos a poner en práctica todo lo aprendido hasta el momento sobre un problema de análisis de críticas a hoteles. El conjunto de datos que utilizaremos es una extracción de Booking.com, disponible en formato original en [Kaggle](https://www.kaggle.com/jiashenliu/515k-hotel-reviews-data-in-europe)."
   ]
  },
  {
   "cell_type": "markdown",
   "metadata": {
    "nbgrader": {
     "grade": false,
     "locked": false,
     "solution": false
    }
   },
   "source": [
    "## Instrucciones"
   ]
  },
  {
   "cell_type": "markdown",
   "metadata": {
    "nbgrader": {
     "grade": false,
     "locked": false,
     "solution": false
    }
   },
   "source": [
    "A lo largo de este cuaderno encontrarás celdas vacías que tendrás que rellenar con tu propio código. Sigue las instrucciones del cuaderno y presta especial atención a los siguientes iconos:\n",
    "\n",
    "<table>\n",
    "<tr><td width=\"80\"><img src=\"img/question.png\" style=\"width:auto;height:auto\"></td><td style=\"text-align:left\">Deberás responder a la pregunta indicada con el código o contestación que escribas en la celda inferior. Se te evaluará la práctica según la corrección de tu solución, así como por la calidad del código.</td></tr>\n",
    " <tr><td width=\"80\"><img src=\"img/exclamation.png\" style=\"width:auto;height:auto\"></td><td style=\"text-align:left\">Esto es una pista u observación que te puede ayudar a resolver la práctica. No tienes que escribir en el cuaderno ninguna contestación a estos apartados, pero conviene que los hagas para entender los siguientes pasos.</td></tr>\n",
    " <tr><td width=\"80\"><img src=\"img/pro.png\" style=\"width:auto;height:auto\"></td><td style=\"text-align:left\">Este es un ejercicio avanzado y voluntario que puedes realizar si quieres profundar más sobre el tema. No se considerará para la evaluación de la práctica, pero te animamos a intentarlo para aprender más ¡Ánimo!</td></tr>\n",
    "</table>\n",
    "\n",
    "Adicionalmente si necesitas consultar la ayuda de cualquier función python puedes colocar el cursor de escritura sobre el nombre de la misma y pulsar Mayúsculas+Shift para que aparezca un recuadro con sus detalles. Ten en cuenta que esto únicamente funciona en las celdas de código.\n",
    "\n",
    "¡Adelante!"
   ]
  },
  {
   "cell_type": "markdown",
   "metadata": {},
   "source": [
    "## Entorno\n",
    "\n",
    "Para realizar la práctica, debes usar el **entorno de conda utilizado en las clases de deeplearning**. Para instalarlo:\n",
    "\n",
    "    conda env create -f environment-deeplearning.yml deeplearning-labs \n",
    "    conda ativate deeplearning-labs\n",
    "\n",
    "Después de instalarlo, **asegurate de tener el kernel de jupyter fijado con este entorno recién instalado**. \n",
    "\n",
    "*(opcional)* Si quieres usar paquetes adiccionales de pyhton que no estén instalados en este entorno conda, puedes instarlarlos una vez este esté activado con el siguiente comando:\n",
    "\n",
    "    conda install PACKAGENAME\n",
    "    \n",
    "Si el paquete corresponde al respositorio de Anaconda. Si no deberás usar\n",
    "\n",
    "    pip install PACKAGENAME\n",
    "    \n",
    "Si decides añadir nuevos paquetes, debes listarlos a continuación e indicar la versión del nuevo paquete utilizada en tu entorno. La versión instalada puedes verla ejecutando `conda list` y buscando el paquete entre todos los instalados en ese entorno activado.\n",
    "\n",
    "* Package1: ...\n",
    "* ..."
   ]
  },
  {
   "cell_type": "code",
   "execution_count": 1,
   "metadata": {},
   "outputs": [],
   "source": [
    "import matplotlib.pyplot as plt\n",
    "%matplotlib inline\n",
    "import numpy as np\n",
    "import pandas as pd\n",
    "import seaborn as sns\n"
   ]
  },
  {
   "cell_type": "code",
   "execution_count": 2,
   "metadata": {},
   "outputs": [],
   "source": [
    "from sklearn.feature_extraction.text import TfidfVectorizer, CountVectorizer\n",
    "from sklearn.linear_model import LogisticRegression, SGDClassifier\n",
    "from sklearn.pipeline import Pipeline\n",
    "from sklearn.compose import ColumnTransformer\n",
    "from sklearn.metrics import accuracy_score, roc_auc_score\n",
    "from nltk.corpus import stopwords\n",
    "from sklearn.metrics import confusion_matrix, roc_curve\n",
    "from sklearn.model_selection import GridSearchCV\n",
    "from sklearn.svm import LinearSVC"
   ]
  },
  {
   "cell_type": "markdown",
   "metadata": {},
   "source": [
    "## Objetivo: Aplica lo aprendido"
   ]
  },
  {
   "cell_type": "markdown",
   "metadata": {},
   "source": [
    "El objetivo de la práctica es utilizar los datos de entrenamiento para construir un clasificador automático que indique si una crítica de un hotel es favorable o desfavorable. Puedes utilizar cualquiera de las técnicas vistas durante el curso para este fin, aunque a continuación se piden una serie mínima de estrategias a emplear. Para medir la calidad del modelo de clasificación, puedes utilizar el conjunto de datos de test, pero es importante remarcar que estos datos **solo pueden utilizarse para medir el acierto del clasificador**. Esto implica que tampoco pueden emplearse los datos de test para realizar técnicas de validación cruzada o entrenar vectorizadores de textos.\n",
    "\n",
    "Este problema es desbalanceado, ya que existen muchos más datos de críticas positivas que de críticas negativas. Por ello, usar la precisión o accuracy como métrica de la calidad del modelo **no es aconsejable**, ya que un modelo que clasifique todas críticas como positivas obtendrá una precisión muy alta, a pesar de su falta de utilidad en práctica. En su lugar deberá emplearse la métrica [roc_auc_score](https://scikit-learn.org/stable/modules/generated/sklearn.metrics.roc_auc_score.html), que tiene en cuenta la importancia de ambas clases.\n",
    "\n",
    "Para cada modelo, se deberá generar **la curva roc** y **elegir un threshold** adecuado con el cual poder ver **la matriz de confusión** para posteriormente poder comparar resultados entre todos los modelos realizados."
   ]
  },
  {
   "cell_type": "markdown",
   "metadata": {},
   "source": [
    "## Carga de datos"
   ]
  },
  {
   "cell_type": "markdown",
   "metadata": {},
   "source": [
    "Para empezar vamos a cargar los datos de entrenamiento y test en memoria."
   ]
  },
  {
   "cell_type": "markdown",
   "metadata": {},
   "source": [
    "<table>\n",
    "<tr><td width=\"80\"><img src=\"img/question.png\" style=\"width:auto;height:auto\"></td><td style=\"text-align:left\">Carga los datos de <b>data/train.csv</b> y <b>data/test.csv</b> en DataFrames de Pandas con nombres <b>train</b> y <b>test</b>, respectivamente.</td></tr>\n",
    "</table>"
   ]
  },
  {
   "cell_type": "code",
   "execution_count": 3,
   "metadata": {},
   "outputs": [
    {
     "data": {
      "text/html": [
       "<div>\n",
       "<style scoped>\n",
       "    .dataframe tbody tr th:only-of-type {\n",
       "        vertical-align: middle;\n",
       "    }\n",
       "\n",
       "    .dataframe tbody tr th {\n",
       "        vertical-align: top;\n",
       "    }\n",
       "\n",
       "    .dataframe thead th {\n",
       "        text-align: right;\n",
       "    }\n",
       "</style>\n",
       "<table border=\"1\" class=\"dataframe\">\n",
       "  <thead>\n",
       "    <tr style=\"text-align: right;\">\n",
       "      <th></th>\n",
       "      <th>Negative_Review</th>\n",
       "      <th>Positive_Review</th>\n",
       "      <th>Approves</th>\n",
       "    </tr>\n",
       "  </thead>\n",
       "  <tbody>\n",
       "    <tr>\n",
       "      <th>0</th>\n",
       "      <td>I am so angry that i made this post available...</td>\n",
       "      <td>Only the park outside of the hotel was beauti...</td>\n",
       "      <td>False</td>\n",
       "    </tr>\n",
       "    <tr>\n",
       "      <th>1</th>\n",
       "      <td>My room was dirty and I was afraid to walk ba...</td>\n",
       "      <td>Great location in nice surroundings the bar a...</td>\n",
       "      <td>False</td>\n",
       "    </tr>\n",
       "    <tr>\n",
       "      <th>2</th>\n",
       "      <td>Apart from the price for the brekfast Everyth...</td>\n",
       "      <td>Good location Set in a lovely park friendly s...</td>\n",
       "      <td>True</td>\n",
       "    </tr>\n",
       "    <tr>\n",
       "      <th>3</th>\n",
       "      <td>Nothing all great</td>\n",
       "      <td>Rooms were stunningly decorated and really sp...</td>\n",
       "      <td>True</td>\n",
       "    </tr>\n",
       "    <tr>\n",
       "      <th>4</th>\n",
       "      <td>No Negative</td>\n",
       "      <td>This hotel is being renovated with great care...</td>\n",
       "      <td>True</td>\n",
       "    </tr>\n",
       "  </tbody>\n",
       "</table>\n",
       "</div>"
      ],
      "text/plain": [
       "                                     Negative_Review  \\\n",
       "0   I am so angry that i made this post available...   \n",
       "1   My room was dirty and I was afraid to walk ba...   \n",
       "2   Apart from the price for the brekfast Everyth...   \n",
       "3                                 Nothing all great    \n",
       "4                                        No Negative   \n",
       "\n",
       "                                     Positive_Review  Approves  \n",
       "0   Only the park outside of the hotel was beauti...     False  \n",
       "1   Great location in nice surroundings the bar a...     False  \n",
       "2   Good location Set in a lovely park friendly s...      True  \n",
       "3   Rooms were stunningly decorated and really sp...      True  \n",
       "4   This hotel is being renovated with great care...      True  "
      ]
     },
     "execution_count": 3,
     "metadata": {},
     "output_type": "execute_result"
    }
   ],
   "source": [
    "####### INSERT YOUR CODE HERE\n",
    "# Load the data\n",
    "train = pd.read_csv('data/train.csv', sep=',')\n",
    "test = pd.read_csv('data/test.csv')\n",
    "train.head()"
   ]
  },
  {
   "cell_type": "code",
   "execution_count": 4,
   "metadata": {},
   "outputs": [
    {
     "data": {
      "text/html": [
       "<div>\n",
       "<style scoped>\n",
       "    .dataframe tbody tr th:only-of-type {\n",
       "        vertical-align: middle;\n",
       "    }\n",
       "\n",
       "    .dataframe tbody tr th {\n",
       "        vertical-align: top;\n",
       "    }\n",
       "\n",
       "    .dataframe thead th {\n",
       "        text-align: right;\n",
       "    }\n",
       "</style>\n",
       "<table border=\"1\" class=\"dataframe\">\n",
       "  <thead>\n",
       "    <tr style=\"text-align: right;\">\n",
       "      <th></th>\n",
       "      <th>Negative_Review</th>\n",
       "      <th>Positive_Review</th>\n",
       "      <th>Approves</th>\n",
       "    </tr>\n",
       "  </thead>\n",
       "  <tbody>\n",
       "    <tr>\n",
       "      <th>0</th>\n",
       "      <td>No Negative</td>\n",
       "      <td>Breakfast was excellent Reception was very he...</td>\n",
       "      <td>True</td>\n",
       "    </tr>\n",
       "    <tr>\n",
       "      <th>1</th>\n",
       "      <td>Nothing</td>\n",
       "      <td>Big breakfast very big and comfortable room</td>\n",
       "      <td>True</td>\n",
       "    </tr>\n",
       "    <tr>\n",
       "      <th>2</th>\n",
       "      <td>No Negative</td>\n",
       "      <td>Superb as always</td>\n",
       "      <td>True</td>\n",
       "    </tr>\n",
       "    <tr>\n",
       "      <th>3</th>\n",
       "      <td>Would have like to stay longer will stay here...</td>\n",
       "      <td>Great brekkie catered for all 3 of us and gre...</td>\n",
       "      <td>True</td>\n",
       "    </tr>\n",
       "    <tr>\n",
       "      <th>4</th>\n",
       "      <td>No Negative</td>\n",
       "      <td>Everything</td>\n",
       "      <td>True</td>\n",
       "    </tr>\n",
       "  </tbody>\n",
       "</table>\n",
       "</div>"
      ],
      "text/plain": [
       "                                     Negative_Review  \\\n",
       "0                                        No Negative   \n",
       "1                                            Nothing   \n",
       "2                                        No Negative   \n",
       "3   Would have like to stay longer will stay here...   \n",
       "4                                        No Negative   \n",
       "\n",
       "                                     Positive_Review  Approves  \n",
       "0   Breakfast was excellent Reception was very he...      True  \n",
       "1       Big breakfast very big and comfortable room       True  \n",
       "2                                   Superb as always      True  \n",
       "3   Great brekkie catered for all 3 of us and gre...      True  \n",
       "4                                         Everything      True  "
      ]
     },
     "execution_count": 4,
     "metadata": {},
     "output_type": "execute_result"
    }
   ],
   "source": [
    "test.head()"
   ]
  },
  {
   "cell_type": "markdown",
   "metadata": {},
   "source": [
    "<table>\n",
    "<tr><td width=\"80\"><img src=\"img/pro.png\" style=\"width:auto;height:auto\"></td><td style=\"text-align:left\">En <b>data/train.csv</b> solo se incluye una porción del conjunto de entrenamiento. Si quieres tratar de conseguir mayores niveles de acierto, puedes emplear el conjunto de entrenamiento completo disponible en <b>data/trainfull.csv</b>.</td></tr>\n",
    "</table>"
   ]
  },
  {
   "cell_type": "code",
   "execution_count": 5,
   "metadata": {},
   "outputs": [
    {
     "data": {
      "text/html": [
       "<div>\n",
       "<style scoped>\n",
       "    .dataframe tbody tr th:only-of-type {\n",
       "        vertical-align: middle;\n",
       "    }\n",
       "\n",
       "    .dataframe tbody tr th {\n",
       "        vertical-align: top;\n",
       "    }\n",
       "\n",
       "    .dataframe thead th {\n",
       "        text-align: right;\n",
       "    }\n",
       "</style>\n",
       "<table border=\"1\" class=\"dataframe\">\n",
       "  <thead>\n",
       "    <tr style=\"text-align: right;\">\n",
       "      <th></th>\n",
       "      <th>Negative_Review</th>\n",
       "      <th>Positive_Review</th>\n",
       "      <th>Approves</th>\n",
       "    </tr>\n",
       "  </thead>\n",
       "  <tbody>\n",
       "    <tr>\n",
       "      <th>0</th>\n",
       "      <td>I am so angry that i made this post available...</td>\n",
       "      <td>Only the park outside of the hotel was beauti...</td>\n",
       "      <td>False</td>\n",
       "    </tr>\n",
       "    <tr>\n",
       "      <th>1</th>\n",
       "      <td>My room was dirty and I was afraid to walk ba...</td>\n",
       "      <td>Great location in nice surroundings the bar a...</td>\n",
       "      <td>False</td>\n",
       "    </tr>\n",
       "    <tr>\n",
       "      <th>2</th>\n",
       "      <td>Apart from the price for the brekfast Everyth...</td>\n",
       "      <td>Good location Set in a lovely park friendly s...</td>\n",
       "      <td>True</td>\n",
       "    </tr>\n",
       "    <tr>\n",
       "      <th>3</th>\n",
       "      <td>Nothing all great</td>\n",
       "      <td>Rooms were stunningly decorated and really sp...</td>\n",
       "      <td>True</td>\n",
       "    </tr>\n",
       "    <tr>\n",
       "      <th>4</th>\n",
       "      <td>No Negative</td>\n",
       "      <td>This hotel is being renovated with great care...</td>\n",
       "      <td>True</td>\n",
       "    </tr>\n",
       "  </tbody>\n",
       "</table>\n",
       "</div>"
      ],
      "text/plain": [
       "                                     Negative_Review  \\\n",
       "0   I am so angry that i made this post available...   \n",
       "1   My room was dirty and I was afraid to walk ba...   \n",
       "2   Apart from the price for the brekfast Everyth...   \n",
       "3                                 Nothing all great    \n",
       "4                                        No Negative   \n",
       "\n",
       "                                     Positive_Review  Approves  \n",
       "0   Only the park outside of the hotel was beauti...     False  \n",
       "1   Great location in nice surroundings the bar a...     False  \n",
       "2   Good location Set in a lovely park friendly s...      True  \n",
       "3   Rooms were stunningly decorated and really sp...      True  \n",
       "4   This hotel is being renovated with great care...      True  "
      ]
     },
     "execution_count": 5,
     "metadata": {},
     "output_type": "execute_result"
    }
   ],
   "source": [
    "####### INSERT YOUR CODE HERE\n",
    "trainfull = pd.read_csv('data/trainfull.csv', sep=',')\n",
    "trainfull.head()"
   ]
  },
  {
   "cell_type": "markdown",
   "metadata": {},
   "source": [
    "## Exploración de datos"
   ]
  },
  {
   "cell_type": "markdown",
   "metadata": {},
   "source": [
    "A continuación, explora los datos cargados previamente. Puedes ver el número de datos de cada clase, realizar gráficos comparando las columnas, ver si tenemos datos nulos..."
   ]
  },
  {
   "cell_type": "code",
   "execution_count": 6,
   "metadata": {},
   "outputs": [
    {
     "name": "stdout",
     "output_type": "stream",
     "text": [
      "Missing values in train data: \n",
      "Negative_Review    0\n",
      "Positive_Review    0\n",
      "Approves           0\n",
      "dtype: int64\n",
      "\n",
      "Missing values in test data: \n",
      "Negative_Review    0\n",
      "Positive_Review    0\n",
      "Approves           0\n",
      "dtype: int64\n",
      "\n",
      "Missing values in trainfull data: \n",
      "Negative_Review    0\n",
      "Positive_Review    0\n",
      "Approves           0\n",
      "dtype: int64\n"
     ]
    }
   ],
   "source": [
    "####### INSERT YOUR CODE HERE\n",
    "# Check for missing values\n",
    "print(\"Missing values in train data: \")\n",
    "print(train.isnull().sum())\n",
    "print()\n",
    "print(\"Missing values in test data: \")\n",
    "print(test.isnull().sum())\n",
    "print()\n",
    "print(\"Missing values in trainfull data: \")\n",
    "print(trainfull.isnull().sum())"
   ]
  },
  {
   "cell_type": "code",
   "execution_count": 7,
   "metadata": {},
   "outputs": [
    {
     "name": "stdout",
     "output_type": "stream",
     "text": [
      "Description of train data: \n",
      "                 count unique          top  freq\n",
      "Negative_Review  10000   6090  No Negative  3124\n",
      "Positive_Review  10000   9236  No Positive   417\n",
      "Approves         10000      2         True  9617\n",
      "\n",
      "Description of test data: \n",
      "                 count unique          top  freq\n",
      "Negative_Review  10000   5995  No Negative  3146\n",
      "Positive_Review  10000   9132  No Positive   407\n",
      "Approves         10000      2         True  9736\n",
      "\n",
      "Description of trainfull data: \n",
      "                  count  unique          top    freq\n",
      "Negative_Review  336458  178784  No Negative  112227\n",
      "Positive_Review  336458  292536  No Positive   13331\n",
      "Approves         336458       2         True  325910\n"
     ]
    }
   ],
   "source": [
    "# Describe all the data\n",
    "print(\"Description of train data: \")\n",
    "print(train.describe().T)\n",
    "print()\n",
    "print(\"Description of test data: \")\n",
    "print(test.describe().T)\n",
    "print()\n",
    "print(\"Description of trainfull data: \")\n",
    "print(trainfull.describe().T)"
   ]
  },
  {
   "cell_type": "code",
   "execution_count": 8,
   "metadata": {},
   "outputs": [
    {
     "name": "stdout",
     "output_type": "stream",
     "text": [
      "Information about train data: \n",
      "<class 'pandas.core.frame.DataFrame'>\n",
      "RangeIndex: 10000 entries, 0 to 9999\n",
      "Data columns (total 3 columns):\n",
      " #   Column           Non-Null Count  Dtype \n",
      "---  ------           --------------  ----- \n",
      " 0   Negative_Review  10000 non-null  object\n",
      " 1   Positive_Review  10000 non-null  object\n",
      " 2   Approves         10000 non-null  bool  \n",
      "dtypes: bool(1), object(2)\n",
      "memory usage: 166.1+ KB\n",
      "None\n",
      "\n",
      "Information about test data: \n",
      "<class 'pandas.core.frame.DataFrame'>\n",
      "RangeIndex: 10000 entries, 0 to 9999\n",
      "Data columns (total 3 columns):\n",
      " #   Column           Non-Null Count  Dtype \n",
      "---  ------           --------------  ----- \n",
      " 0   Negative_Review  10000 non-null  object\n",
      " 1   Positive_Review  10000 non-null  object\n",
      " 2   Approves         10000 non-null  bool  \n",
      "dtypes: bool(1), object(2)\n",
      "memory usage: 166.1+ KB\n",
      "None\n",
      "\n",
      "Information about trainfull data: \n",
      "<class 'pandas.core.frame.DataFrame'>\n",
      "RangeIndex: 336458 entries, 0 to 336457\n",
      "Data columns (total 3 columns):\n",
      " #   Column           Non-Null Count   Dtype \n",
      "---  ------           --------------   ----- \n",
      " 0   Negative_Review  336458 non-null  object\n",
      " 1   Positive_Review  336458 non-null  object\n",
      " 2   Approves         336458 non-null  bool  \n",
      "dtypes: bool(1), object(2)\n",
      "memory usage: 5.5+ MB\n",
      "None\n"
     ]
    }
   ],
   "source": [
    "# Information about the data\n",
    "print(\"Information about train data: \")\n",
    "print(train.info())\n",
    "print()\n",
    "print(\"Information about test data: \")\n",
    "print(test.info())\n",
    "print()\n",
    "print(\"Information about trainfull data: \")\n",
    "print(trainfull.info())"
   ]
  },
  {
   "cell_type": "code",
   "execution_count": 9,
   "metadata": {},
   "outputs": [
    {
     "name": "stdout",
     "output_type": "stream",
     "text": [
      "Number of data points in train data:  10000\n",
      "Number of data points in test data:  10000\n",
      "Number of data points in trainfull data:  336458\n"
     ]
    }
   ],
   "source": [
    "# See the number of data points in each dataset\n",
    "print(\"Number of data points in train data: \", len(train))\n",
    "print(\"Number of data points in test data: \", len(test))\n",
    "print(\"Number of data points in trainfull data: \", len(trainfull))"
   ]
  },
  {
   "cell_type": "code",
   "execution_count": 10,
   "metadata": {},
   "outputs": [
    {
     "name": "stdout",
     "output_type": "stream",
     "text": [
      "Number of rows and columns in train data:  (10000, 3)\n",
      "Number of rows and columns in test data:  (10000, 3)\n",
      "Number of rows and columns in trainfull data:  (336458, 3)\n"
     ]
    }
   ],
   "source": [
    "# See the number of rows and columns in each dataset\n",
    "print(\"Number of rows and columns in train data: \", train.shape)\n",
    "print(\"Number of rows and columns in test data: \", test.shape)\n",
    "print(\"Number of rows and columns in trainfull data: \", trainfull.shape)\n"
   ]
  },
  {
   "cell_type": "code",
   "execution_count": 11,
   "metadata": {},
   "outputs": [
    {
     "data": {
      "image/png": "[encoded data removed]",
      "text/plain": [
       "<Figure size 1500x500 with 3 Axes>"
      ]
     },
     "metadata": {},
     "output_type": "display_data"
    }
   ],
   "source": [
    "sentiment_counts_train = train['Approves'].value_counts().sort_index()\n",
    "sentiment_counts_test = test['Approves'].value_counts().sort_index()\n",
    "sentiment_counts_trainfull = trainfull['Approves'].value_counts().sort_index()\n",
    "\n",
    "# Subplot of sentiment distribution in all datasets\n",
    "plt.figure(figsize=(15,5))\n",
    "\n",
    "plt.subplot(1, 3, 1)\n",
    "sentiment_counts_train.plot(kind='bar', color=['red', 'green'])\n",
    "plt.xlabel('Approves')\n",
    "plt.ylabel('Number of data points')\n",
    "plt.title('Hotel Reviews Sentiment Distribution in train data')\n",
    "plt.xticks([0, 1], ['Negative', 'Positive'], rotation=0)\n",
    "\n",
    "plt.subplot(1, 3, 2)\n",
    "sentiment_counts_test.plot(kind='bar', color=['red', 'green'])\n",
    "plt.xlabel('Approves')\n",
    "plt.ylabel('Number of data points')\n",
    "plt.title('Hotel Reviews Sentiment Distribution in test data')\n",
    "plt.xticks([0, 1], ['Negative', 'Positive'], rotation=0)\n",
    "\n",
    "plt.subplot(1, 3, 3)\n",
    "sentiment_counts_trainfull.plot(kind='bar', color=['red', 'green'])\n",
    "plt.xlabel('Approves')\n",
    "plt.ylabel('Number of data points')\n",
    "plt.title('Hotel Reviews Sentiment Distribution in trainfull data')\n",
    "plt.xticks([0, 1], ['Negative', 'Positive'], rotation=0)\n",
    "\n",
    "plt.tight_layout()\n",
    "plt.show()"
   ]
  },
  {
   "cell_type": "markdown",
   "metadata": {},
   "source": []
  },
  {
   "cell_type": "markdown",
   "metadata": {},
   "source": [
    "## Modelos\n",
    "### Modelo basado en caracteres"
   ]
  },
  {
   "cell_type": "markdown",
   "metadata": {},
   "source": [
    "<table>\n",
    "<tr><td width=\"80\"><img src=\"img/question.png\" style=\"width:auto;height:auto\"></td><td style=\"text-align:left\">Construye un modelo de clasificación que en base a la crítica en texto de un hotel determine si esta es favorable o desfavorable, empleando únicamente características basadas en los caracteres del texto. Mide el nivel de acierto sobre el conjunto de test. ¿Qué nivel de precisión puedes alcanzar?</td></tr>\n",
    "</table>"
   ]
  },
  {
   "cell_type": "markdown",
   "metadata": {},
   "source": [
    "<table>\n",
    "<tr><td width=\"80\"><img src=\"img/exclamation.png\" style=\"width:auto;height:auto\"></td><td style=\"text-align:left\">Ten en cuenta que cada crítica de hotel incluye dos campos de texto, <i>Negative_Review</i> y <i>Positive_Review</i>. Es recomendable que construyas un modelo que analice ambos textos para tomar la decisión. Puedes construir un Pipeline que tenga en cuenta ambas entradas de datos usando <a href=https://scikit-learn.org/stable/modules/generated/sklearn.compose.ColumnTransformer.html>ColumnTransformer</a></td></tr>\n",
    "</table>"
   ]
  },
  {
   "cell_type": "code",
   "execution_count": 12,
   "metadata": {},
   "outputs": [],
   "source": [
    "####### INSERT YOUR CODE HERE\n",
    "replacements = {'Negative': 0, 'Positive': 1}\n",
    "train['Approves'] = train['Approves'].replace(replacements)\n",
    "test['Approves'] = test['Approves'].replace(replacements)\n",
    "trainfull['Approves'] = trainfull['Approves'].replace(replacements)"
   ]
  },
  {
   "cell_type": "code",
   "execution_count": 13,
   "metadata": {},
   "outputs": [],
   "source": [
    "####### INSERT YOUR CODE HERE\n",
    "train['Combined_Review'] = train['Negative_Review'] + ' ' + train['Positive_Review']\n",
    "test['Combined_Review'] = test['Negative_Review'] + ' ' + test['Positive_Review']\n",
    "trainfull['Combined_Review'] = trainfull['Negative_Review'] + ' ' + trainfull['Positive_Review']"
   ]
  },
  {
   "cell_type": "code",
   "execution_count": 14,
   "metadata": {},
   "outputs": [
    {
     "name": "stdout",
     "output_type": "stream",
     "text": [
      "Shape of train data:  (10000, 4)\n",
      "                                     Negative_Review  \\\n",
      "0   I am so angry that i made this post available...   \n",
      "1   My room was dirty and I was afraid to walk ba...   \n",
      "2   Apart from the price for the brekfast Everyth...   \n",
      "3                                 Nothing all great    \n",
      "4                                        No Negative   \n",
      "\n",
      "                                     Positive_Review  Approves  \\\n",
      "0   Only the park outside of the hotel was beauti...     False   \n",
      "1   Great location in nice surroundings the bar a...     False   \n",
      "2   Good location Set in a lovely park friendly s...      True   \n",
      "3   Rooms were stunningly decorated and really sp...      True   \n",
      "4   This hotel is being renovated with great care...      True   \n",
      "\n",
      "                                     Combined_Review  \n",
      "0   I am so angry that i made this post available...  \n",
      "1   My room was dirty and I was afraid to walk ba...  \n",
      "2   Apart from the price for the brekfast Everyth...  \n",
      "3   Nothing all great   Rooms were stunningly dec...  \n",
      "4  No Negative  This hotel is being renovated wit...  \n"
     ]
    }
   ],
   "source": [
    "print(\"Shape of train data: \", train.shape)\n",
    "print(train.head())"
   ]
  },
  {
   "cell_type": "code",
   "execution_count": 15,
   "metadata": {},
   "outputs": [
    {
     "name": "stdout",
     "output_type": "stream",
     "text": [
      "Accuracy of the model:  0.9631\n",
      "\n",
      "ROC AUC score:  0.6788660018425836\n"
     ]
    }
   ],
   "source": [
    "stop_words = stopwords.words('english')\n",
    "\n",
    "# Create a columntransformer with CountVectorizer\n",
    "vektorizer = CountVectorizer(analyzer = \"char\", ngram_range = (1,2), binary = True, stop_words = stop_words)\n",
    "column_transformer = ColumnTransformer(\n",
    "    [('vektorizer', vektorizer, 'Combined_Review')],\n",
    "    remainder='drop')\n",
    "\n",
    "# Fit and transform the data\n",
    "X_train = column_transformer.fit_transform(train)\n",
    "X_test = column_transformer.transform(test)\n",
    "\n",
    "# Get the target variable\n",
    "y_train = train['Approves']\n",
    "y_test = test['Approves']\n",
    "\n",
    "# Create a logistic regression model\n",
    "model = LogisticRegression(max_iter=1000, C=10, random_state=42)\n",
    "\n",
    "# Fit the model\n",
    "model.fit(X_train, y_train)\n",
    "\n",
    "# Predict the target variable\n",
    "y_pred = model.predict(X_test)\n",
    "\n",
    "# Calculate the accuracy\n",
    "accuracy = accuracy_score(y_test, y_pred)\n",
    "print(\"Accuracy of the model: \", accuracy)\n",
    "print()\n",
    "print(\"ROC AUC score: \", roc_auc_score(y_test, y_pred))\n"
   ]
  },
  {
   "cell_type": "code",
   "execution_count": 16,
   "metadata": {},
   "outputs": [
    {
     "name": "stdout",
     "output_type": "stream",
     "text": [
      "Threshold:  0.05\n",
      "Accuracy:  0.9733\n",
      "\n",
      "ROC AUC score:  0.5809196110654614\n",
      "\n",
      "Threshold:  0.1\n",
      "Accuracy:  0.9734\n",
      "\n",
      "ROC AUC score:  0.6012393864694605\n",
      "\n",
      "Threshold:  0.15\n",
      "Accuracy:  0.9725\n",
      "\n",
      "ROC AUC score:  0.6136752695401011\n",
      "\n",
      "Threshold:  0.2\n",
      "Accuracy:  0.972\n",
      "\n",
      "ROC AUC score:  0.6263165757824756\n",
      "\n",
      "Threshold:  0.25\n",
      "Accuracy:  0.9712\n",
      "\n",
      "ROC AUC score:  0.6332760638430318\n",
      "\n",
      "Threshold:  0.3\n",
      "Accuracy:  0.9699\n",
      "\n",
      "ROC AUC score:  0.6473491073429446\n",
      "\n",
      "Threshold:  0.35\n",
      "Accuracy:  0.9679\n",
      "\n",
      "ROC AUC score:  0.6518497422872936\n",
      "\n",
      "Threshold:  0.4\n",
      "Accuracy:  0.9665\n",
      "\n",
      "ROC AUC score:  0.6603436791912551\n",
      "\n",
      "Threshold:  0.45\n",
      "Accuracy:  0.9646\n",
      "\n",
      "ROC AUC score:  0.6704234207315555\n",
      "\n",
      "Threshold:  0.5\n",
      "Accuracy:  0.9631\n",
      "\n",
      "ROC AUC score:  0.6788660018425836\n",
      "\n",
      "Threshold:  0.55\n",
      "Accuracy:  0.9614\n",
      "\n",
      "ROC AUC score:  0.6890484549687508\n",
      "\n",
      "Threshold:  0.6\n",
      "Accuracy:  0.959\n",
      "\n",
      "ROC AUC score:  0.6951862503423718\n",
      "\n",
      "Threshold:  0.65\n",
      "Accuracy:  0.9559\n",
      "\n",
      "ROC AUC score:  0.699121971564453\n",
      "\n",
      "Threshold:  0.7\n",
      "Accuracy:  0.953\n",
      "\n",
      "ROC AUC score:  0.7086881551754189\n",
      "\n",
      "Threshold:  0.75\n",
      "Accuracy:  0.9497\n",
      "\n",
      "ROC AUC score:  0.7106785812106273\n",
      "\n",
      "Threshold:  0.8\n",
      "Accuracy:  0.9403\n",
      "\n",
      "ROC AUC score:  0.7169066382809193\n",
      "\n",
      "Threshold:  0.85\n",
      "Accuracy:  0.931\n",
      "\n",
      "ROC AUC score:  0.7250286347451508\n",
      "\n",
      "Threshold:  0.9\n",
      "Accuracy:  0.9192\n",
      "\n",
      "ROC AUC score:  0.7281815691840343\n",
      "\n",
      "Threshold:  0.95\n",
      "Accuracy:  0.8969\n",
      "\n",
      "ROC AUC score:  0.7517383157789895\n",
      "\n",
      "Threshold:  0.99\n",
      "Accuracy:  0.8211\n",
      "\n",
      "ROC AUC score:  0.7865139687756779\n",
      "\n",
      "Accuracy of the model:  0.8211\n",
      "\n",
      "ROC AUC score:  0.7865139687756779\n"
     ]
    },
    {
     "data": {
      "image/png": "[encoded data removed]",
      "text/plain": [
       "<Figure size 1000x500 with 1 Axes>"
      ]
     },
     "metadata": {},
     "output_type": "display_data"
    },
    {
     "data": {
      "image/png": "[encoded data removed]",
      "text/plain": [
       "<Figure size 640x480 with 2 Axes>"
      ]
     },
     "metadata": {},
     "output_type": "display_data"
    }
   ],
   "source": [
    "pred_proba_df = pd.DataFrame(model.predict_proba(X_test))  # Get probability of positive class\n",
    "y_pred_proba = pred_proba_df.iloc[:,1].values\n",
    "\n",
    "\n",
    "# Get the fpr and tpr\n",
    "fpr, tpr, _ = roc_curve(y_test, y_pred_proba)\n",
    "\n",
    "# Create a threshold list\n",
    "threshold = [0.05, 0.1, 0.15, 0.2, 0.25, 0.3, 0.35, 0.4, 0.45, 0.5, 0.55, 0.6, 0.65, 0.7, 0.75, 0.8, 0.85, 0.9, 0.95, 0.99]\n",
    "\n",
    "for i in threshold:\n",
    "    y_pred = (y_pred_proba > i).astype(int)\n",
    "    accuracy = accuracy_score(y_test, y_pred)\n",
    "\n",
    "    print(\"Threshold: \", i)\n",
    "    print(\"Accuracy: \", accuracy)\n",
    "    print()\n",
    "    print(\"ROC AUC score: \", roc_auc_score(y_test, y_pred))\n",
    "    print()\n",
    "\n",
    "# Choose a threshold\n",
    "best_threshold = 0.99\n",
    "#y_pred = (y_pred_proba > best_threshold).astype(int)\n",
    "\n",
    "\n",
    "# Get confusion matrix for the chosen threshold\n",
    "cm = confusion_matrix(y_test, y_pred)\n",
    "# Convert to dataframe\n",
    "cm_df = pd.DataFrame(cm, columns=['Negative', 'Positive'], index=['Negative', 'Positive'])\n",
    "\n",
    "\n",
    "\n",
    "# Measure the accuracy\n",
    "accuracy = accuracy_score(y_test, y_pred)\n",
    "print(\"Accuracy of the model: \", accuracy)\n",
    "print()\n",
    "print(\"ROC AUC score: \", roc_auc_score(y_test, y_pred))\n",
    "\n",
    "# Plot Roc curve\n",
    "plt.figure(figsize=(10, 5))\n",
    "plt.plot(fpr, tpr)\n",
    "plt.xlabel('False Positive Rate')\n",
    "plt.ylabel('True Positive Rate')\n",
    "plt.title('ROC Curve')\n",
    "plt.show()\n",
    "\n",
    "# Plot confusion matrix\n",
    "sns.heatmap(cm_df, annot=True, fmt='d', cmap='Blues')\n",
    "plt.xlabel('Predicted')\n",
    "plt.ylabel('Actual')\n",
    "plt.title('Confusion Matrix')\n",
    "plt.show()\n"
   ]
  },
  {
   "cell_type": "code",
   "execution_count": null,
   "metadata": {},
   "outputs": [],
   "source": []
  },
  {
   "cell_type": "markdown",
   "metadata": {},
   "source": [
    "### Modelo basado en tokens (palabras)"
   ]
  },
  {
   "cell_type": "markdown",
   "metadata": {},
   "source": [
    "<table>\n",
    "<tr><td width=\"80\"><img src=\"img/question.png\" style=\"width:auto;height:auto\"></td><td style=\"text-align:left\">Construye un modelo de clasificación que en base a la crítica en texto de un hotel determine si esta es favorable o desfavorable, empleando únicamente características basadas en los tokens del texto. Mide el nivel de acierto sobre el conjunto de test. ¿Qué nivel de precisión puedes alcanzar?</td></tr>\n",
    "</table>"
   ]
  },
  {
   "cell_type": "code",
   "execution_count": 17,
   "metadata": {},
   "outputs": [
    {
     "name": "stdout",
     "output_type": "stream",
     "text": [
      "Accuracy of the model:  0.9753\n",
      "\n",
      "ROC AUC score:  0.7496218346156718\n"
     ]
    }
   ],
   "source": [
    "####### INSERT YOUR CODE HERE\n",
    "# Based on tokens, create a model that predicts the sentiment of the review\n",
    "column_transformer = ColumnTransformer(transformers=[('tfidf', TfidfVectorizer(max_features=5000, ngram_range=(1, 2), min_df = 10, stop_words=stop_words), 'Combined_Review')], remainder='passthrough')\n",
    "\n",
    "# Fit the columntransformer on the train and test data\n",
    "X_train_transformed = column_transformer.fit_transform(train[['Combined_Review']])  \n",
    "X_test_transformed = column_transformer.transform(test[['Combined_Review']])\n",
    "\n",
    "# Train a logistic regression model\n",
    "model = LinearSVC(C=10, random_state=42)\n",
    "y_train = train['Approves']\n",
    "model.fit(X_train_transformed, y_train)\n",
    "\n",
    "# Predict on the test data\n",
    "y_pred = model.predict(X_test_transformed)\n",
    "\n",
    "# Calculate the accuracy\n",
    "accuracy = accuracy_score(test['Approves'], y_pred)\n",
    "print(\"Accuracy of the model: \", accuracy)\n",
    "print()\n",
    "print(\"ROC AUC score: \", roc_auc_score(test['Approves'], y_pred))\n"
   ]
  },
  {
   "cell_type": "code",
   "execution_count": 18,
   "metadata": {},
   "outputs": [
    {
     "name": "stdout",
     "output_type": "stream",
     "text": [
      "Accuracy with custom threshold:  0.9753\n",
      "ROC AUC score with custom threshold:  0.927356063718533\n"
     ]
    }
   ],
   "source": [
    "# Predict decision function scores\n",
    "decision_scores = model.decision_function(X_test_transformed)\n",
    "\n",
    "# Set a custom threshold (e.g., 0.0)\n",
    "custom_threshold = 0.0\n",
    "y_pred_custom = (decision_scores > custom_threshold).astype(int)\n",
    "\n",
    "# Calculate accuracy and ROC AUC with the custom threshold\n",
    "accuracy_custom = accuracy_score(test['Approves'], y_pred_custom)\n",
    "roc_auc_custom = roc_auc_score(test['Approves'], decision_scores)\n",
    "\n",
    "print(\"Accuracy with custom threshold: \", accuracy_custom)\n",
    "print(\"ROC AUC score with custom threshold: \", roc_auc_custom)\n",
    "\n"
   ]
  },
  {
   "cell_type": "code",
   "execution_count": 19,
   "metadata": {},
   "outputs": [
    {
     "data": {
      "image/png": "[encoded data removed]",
      "text/plain": [
       "<Figure size 1000x500 with 1 Axes>"
      ]
     },
     "metadata": {},
     "output_type": "display_data"
    },
    {
     "data": {
      "image/png": "[encoded data removed]",
      "text/plain": [
       "<Figure size 640x480 with 2 Axes>"
      ]
     },
     "metadata": {},
     "output_type": "display_data"
    }
   ],
   "source": [
    "# Plot the ROC curve\n",
    "fpr, tpr, _ = roc_curve(test['Approves'], decision_scores)\n",
    "plt.figure(figsize=(10, 5))\n",
    "plt.plot(fpr, tpr)\n",
    "plt.xlabel('False Positive Rate')\n",
    "plt.ylabel('True Positive Rate')\n",
    "plt.title('ROC Curve')\n",
    "plt.show()\n",
    "\n",
    "# Get the confusion matrix\n",
    "cm = confusion_matrix(test['Approves'], y_pred)\n",
    "cm_df = pd.DataFrame(cm, columns=['Negative', 'Positive'], index=['Negative', 'Positive'])\n",
    "\n",
    "# Plot the confusion matrix\n",
    "sns.heatmap(cm_df, annot=True, fmt='d', cmap='Blues')\n",
    "plt.xlabel('Predicted')\n",
    "plt.ylabel('Actual')\n",
    "plt.title('Confusion Matrix')\n",
    "plt.show()"
   ]
  },
  {
   "cell_type": "markdown",
   "metadata": {},
   "source": [
    "### Modelo basado en análisis morfosintáctico"
   ]
  },
  {
   "cell_type": "markdown",
   "metadata": {},
   "source": [
    "<table>\n",
    "<tr><td width=\"80\"><img src=\"img/question.png\" style=\"width:auto;height:auto\"></td><td style=\"text-align:left\">Construye un modelo de clasificación que en base a la crítica en texto de un hotel determine si esta es favorable o desfavorable, empleando algún tipo de análisis morfosintáctico (como n-gramas de lemas, o filtros por POS o stopwords). Mide el nivel de acierto sobre el conjunto de test. ¿Qué nivel de precisión puedes alcanzar?</td></tr>\n",
    "</table>"
   ]
  },
  {
   "cell_type": "markdown",
   "metadata": {},
   "source": [
    "<table>\n",
    "<tr><td width=\"80\"><img src=\"img/exclamation.png\" style=\"width:auto;height:auto\"></td><td style=\"text-align:left\">Recuerda que es posible acelerar el análisis morfosintáctico desactivando ciertas componentes del modelo nlp de spaCy. Revisa el notebook del ejercicio correspondiente para recordar cómo.</td></tr>\n",
    "</table>"
   ]
  },
  {
   "cell_type": "code",
   "execution_count": 20,
   "metadata": {},
   "outputs": [
    {
     "name": "stderr",
     "output_type": "stream",
     "text": [
      "2024-07-08 00:14:40.537404: I tensorflow/core/util/util.cc:169] oneDNN custom operations are on. You may see slightly different numerical results due to floating-point round-off errors from different computation orders. To turn them off, set the environment variable `TF_ENABLE_ONEDNN_OPTS=0`.\n"
     ]
    }
   ],
   "source": [
    "####### INSERT YOUR CODE HERE\n",
    "import spacy"
   ]
  },
  {
   "cell_type": "code",
   "execution_count": 21,
   "metadata": {},
   "outputs": [
    {
     "name": "stdout",
     "output_type": "stream",
     "text": [
      "2024-07-08 00:14:43.227873: I tensorflow/core/util/util.cc:169] oneDNN custom operations are on. You may see slightly different numerical results due to floating-point round-off errors from different computation orders. To turn them off, set the environment variable `TF_ENABLE_ONEDNN_OPTS=0`.\n",
      "\u001b[33mDEPRECATION: https://github.com/explosion/spacy-models/releases/download/en_core_web_sm-3.3.0/en_core_web_sm-3.3.0-py3-none-any.whl#egg=en_core_web_sm==3.3.0 contains an egg fragment with a non-PEP 508 name pip 25.0 will enforce this behaviour change. A possible replacement is to use the req @ url syntax, and remove the egg fragment. Discussion can be found at https://github.com/pypa/pip/issues/11617\u001b[0m\u001b[33m\n",
      "\u001b[0mCollecting en-core-web-sm==3.3.0\n",
      "  Downloading https://github.com/explosion/spacy-models/releases/download/en_core_web_sm-3.3.0/en_core_web_sm-3.3.0-py3-none-any.whl (12.8 MB)\n",
      "\u001b[2K     \u001b[90m━━━━━━━━━━━━━━━━━━━━━━━━━━━━━━━━━━━━━━━━\u001b[0m \u001b[32m12.8/12.8 MB\u001b[0m \u001b[31m10.8 MB/s\u001b[0m eta \u001b[36m0:00:00\u001b[0m00:01\u001b[0m00:01\u001b[0m\n",
      "\u001b[?25hRequirement already satisfied: spacy<3.4.0,>=3.3.0.dev0 in /home/merve/anaconda3/envs/deeplearning-labs/lib/python3.10/site-packages (from en-core-web-sm==3.3.0) (3.3.1)\n",
      "Requirement already satisfied: spacy-legacy<3.1.0,>=3.0.9 in /home/merve/anaconda3/envs/deeplearning-labs/lib/python3.10/site-packages (from spacy<3.4.0,>=3.3.0.dev0->en-core-web-sm==3.3.0) (3.0.12)\n",
      "Requirement already satisfied: spacy-loggers<2.0.0,>=1.0.0 in /home/merve/anaconda3/envs/deeplearning-labs/lib/python3.10/site-packages (from spacy<3.4.0,>=3.3.0.dev0->en-core-web-sm==3.3.0) (1.0.5)\n",
      "Requirement already satisfied: murmurhash<1.1.0,>=0.28.0 in /home/merve/anaconda3/envs/deeplearning-labs/lib/python3.10/site-packages (from spacy<3.4.0,>=3.3.0.dev0->en-core-web-sm==3.3.0) (1.0.10)\n",
      "Requirement already satisfied: cymem<2.1.0,>=2.0.2 in /home/merve/anaconda3/envs/deeplearning-labs/lib/python3.10/site-packages (from spacy<3.4.0,>=3.3.0.dev0->en-core-web-sm==3.3.0) (2.0.8)\n",
      "Requirement already satisfied: preshed<3.1.0,>=3.0.2 in /home/merve/anaconda3/envs/deeplearning-labs/lib/python3.10/site-packages (from spacy<3.4.0,>=3.3.0.dev0->en-core-web-sm==3.3.0) (3.0.9)\n",
      "Requirement already satisfied: thinc<8.1.0,>=8.0.14 in /home/merve/anaconda3/envs/deeplearning-labs/lib/python3.10/site-packages (from spacy<3.4.0,>=3.3.0.dev0->en-core-web-sm==3.3.0) (8.0.17)\n",
      "Requirement already satisfied: blis<0.8.0,>=0.4.0 in /home/merve/anaconda3/envs/deeplearning-labs/lib/python3.10/site-packages (from spacy<3.4.0,>=3.3.0.dev0->en-core-web-sm==3.3.0) (0.7.11)\n",
      "Requirement already satisfied: wasabi<1.1.0,>=0.9.1 in /home/merve/anaconda3/envs/deeplearning-labs/lib/python3.10/site-packages (from spacy<3.4.0,>=3.3.0.dev0->en-core-web-sm==3.3.0) (0.10.1)\n",
      "Requirement already satisfied: srsly<3.0.0,>=2.4.3 in /home/merve/anaconda3/envs/deeplearning-labs/lib/python3.10/site-packages (from spacy<3.4.0,>=3.3.0.dev0->en-core-web-sm==3.3.0) (2.4.8)\n",
      "Requirement already satisfied: catalogue<2.1.0,>=2.0.6 in /home/merve/anaconda3/envs/deeplearning-labs/lib/python3.10/site-packages (from spacy<3.4.0,>=3.3.0.dev0->en-core-web-sm==3.3.0) (2.0.10)\n",
      "Requirement already satisfied: typer<0.5.0,>=0.3.0 in /home/merve/anaconda3/envs/deeplearning-labs/lib/python3.10/site-packages (from spacy<3.4.0,>=3.3.0.dev0->en-core-web-sm==3.3.0) (0.4.2)\n",
      "Requirement already satisfied: pathy>=0.3.5 in /home/merve/anaconda3/envs/deeplearning-labs/lib/python3.10/site-packages (from spacy<3.4.0,>=3.3.0.dev0->en-core-web-sm==3.3.0) (0.11.0)\n",
      "Requirement already satisfied: tqdm<5.0.0,>=4.38.0 in /home/merve/anaconda3/envs/deeplearning-labs/lib/python3.10/site-packages (from spacy<3.4.0,>=3.3.0.dev0->en-core-web-sm==3.3.0) (4.66.4)\n",
      "Requirement already satisfied: numpy>=1.15.0 in /home/merve/anaconda3/envs/deeplearning-labs/lib/python3.10/site-packages (from spacy<3.4.0,>=3.3.0.dev0->en-core-web-sm==3.3.0) (1.22.4)\n",
      "Requirement already satisfied: requests<3.0.0,>=2.13.0 in /home/merve/anaconda3/envs/deeplearning-labs/lib/python3.10/site-packages (from spacy<3.4.0,>=3.3.0.dev0->en-core-web-sm==3.3.0) (2.28.1)\n",
      "Requirement already satisfied: pydantic!=1.8,!=1.8.1,<1.9.0,>=1.7.4 in /home/merve/anaconda3/envs/deeplearning-labs/lib/python3.10/site-packages (from spacy<3.4.0,>=3.3.0.dev0->en-core-web-sm==3.3.0) (1.8.2)\n",
      "Requirement already satisfied: jinja2 in /home/merve/anaconda3/envs/deeplearning-labs/lib/python3.10/site-packages (from spacy<3.4.0,>=3.3.0.dev0->en-core-web-sm==3.3.0) (3.1.4)\n",
      "Requirement already satisfied: setuptools in /home/merve/anaconda3/envs/deeplearning-labs/lib/python3.10/site-packages (from spacy<3.4.0,>=3.3.0.dev0->en-core-web-sm==3.3.0) (69.5.1)\n",
      "Requirement already satisfied: packaging>=20.0 in /home/merve/anaconda3/envs/deeplearning-labs/lib/python3.10/site-packages (from spacy<3.4.0,>=3.3.0.dev0->en-core-web-sm==3.3.0) (23.2)\n",
      "Requirement already satisfied: langcodes<4.0.0,>=3.2.0 in /home/merve/anaconda3/envs/deeplearning-labs/lib/python3.10/site-packages (from spacy<3.4.0,>=3.3.0.dev0->en-core-web-sm==3.3.0) (3.4.0)\n",
      "Requirement already satisfied: language-data>=1.2 in /home/merve/anaconda3/envs/deeplearning-labs/lib/python3.10/site-packages (from langcodes<4.0.0,>=3.2.0->spacy<3.4.0,>=3.3.0.dev0->en-core-web-sm==3.3.0) (1.2.0)\n",
      "Requirement already satisfied: smart-open<7.0.0,>=5.2.1 in /home/merve/anaconda3/envs/deeplearning-labs/lib/python3.10/site-packages (from pathy>=0.3.5->spacy<3.4.0,>=3.3.0.dev0->en-core-web-sm==3.3.0) (6.4.0)\n",
      "Requirement already satisfied: pathlib-abc==0.1.1 in /home/merve/anaconda3/envs/deeplearning-labs/lib/python3.10/site-packages (from pathy>=0.3.5->spacy<3.4.0,>=3.3.0.dev0->en-core-web-sm==3.3.0) (0.1.1)\n",
      "Requirement already satisfied: typing-extensions>=3.7.4.3 in /home/merve/anaconda3/envs/deeplearning-labs/lib/python3.10/site-packages (from pydantic!=1.8,!=1.8.1,<1.9.0,>=1.7.4->spacy<3.4.0,>=3.3.0.dev0->en-core-web-sm==3.3.0) (4.11.0)\n",
      "Requirement already satisfied: charset-normalizer<3,>=2 in /home/merve/anaconda3/envs/deeplearning-labs/lib/python3.10/site-packages (from requests<3.0.0,>=2.13.0->spacy<3.4.0,>=3.3.0.dev0->en-core-web-sm==3.3.0) (2.1.1)\n",
      "Requirement already satisfied: idna<4,>=2.5 in /home/merve/anaconda3/envs/deeplearning-labs/lib/python3.10/site-packages (from requests<3.0.0,>=2.13.0->spacy<3.4.0,>=3.3.0.dev0->en-core-web-sm==3.3.0) (3.7)\n",
      "Requirement already satisfied: urllib3<1.27,>=1.21.1 in /home/merve/anaconda3/envs/deeplearning-labs/lib/python3.10/site-packages (from requests<3.0.0,>=2.13.0->spacy<3.4.0,>=3.3.0.dev0->en-core-web-sm==3.3.0) (1.26.19)\n",
      "Requirement already satisfied: certifi>=2017.4.17 in /home/merve/anaconda3/envs/deeplearning-labs/lib/python3.10/site-packages (from requests<3.0.0,>=2.13.0->spacy<3.4.0,>=3.3.0.dev0->en-core-web-sm==3.3.0) (2024.6.2)\n",
      "Requirement already satisfied: click<9.0.0,>=7.1.1 in /home/merve/anaconda3/envs/deeplearning-labs/lib/python3.10/site-packages (from typer<0.5.0,>=0.3.0->spacy<3.4.0,>=3.3.0.dev0->en-core-web-sm==3.3.0) (8.1.7)\n",
      "Requirement already satisfied: MarkupSafe>=2.0 in /home/merve/anaconda3/envs/deeplearning-labs/lib/python3.10/site-packages (from jinja2->spacy<3.4.0,>=3.3.0.dev0->en-core-web-sm==3.3.0) (2.1.3)\n",
      "Requirement already satisfied: marisa-trie>=0.7.7 in /home/merve/anaconda3/envs/deeplearning-labs/lib/python3.10/site-packages (from language-data>=1.2->langcodes<4.0.0,>=3.2.0->spacy<3.4.0,>=3.3.0.dev0->en-core-web-sm==3.3.0) (1.2.0)\n",
      "\u001b[38;5;2m✔ Download and installation successful\u001b[0m\n",
      "You can now load the package via spacy.load('en_core_web_sm')\n"
     ]
    }
   ],
   "source": [
    "####### INSERT YOUR CODE HERE\n",
    "!python -m spacy download en_core_web_sm"
   ]
  },
  {
   "cell_type": "code",
   "execution_count": 22,
   "metadata": {},
   "outputs": [
    {
     "name": "stdout",
     "output_type": "stream",
     "text": [
      "2024-07-08 00:14:55.615487: I tensorflow/core/util/util.cc:169] oneDNN custom operations are on. You may see slightly different numerical results due to floating-point round-off errors from different computation orders. To turn them off, set the environment variable `TF_ENABLE_ONEDNN_OPTS=0`.\n",
      "\u001b[1m\n",
      "==================== Info about pipeline 'en_core_web_sm' ====================\u001b[0m\n",
      "\n",
      "lang                en                            \n",
      "name                core_web_sm                   \n",
      "version             3.3.0                         \n",
      "description         English pipeline optimized for CPU. Components: tok2vec, tagger, parser, senter, ner, attribute_ruler, lemmatizer.\n",
      "author              Explosion                     \n",
      "email               contact@explosion.ai          \n",
      "url                 https://explosion.ai          \n",
      "license             MIT                           \n",
      "spacy_version       >=3.3.0.dev0,<3.4.0           \n",
      "spacy_git_version   849bef2de                     \n",
      "vectors             {'width': 0, 'vectors': 0, 'keys': 0, 'name': None}\n",
      "pipeline            ['tok2vec', 'tagger', 'parser', 'attribute_ruler', 'lemmatizer', 'ner']\n",
      "components          ['tok2vec', 'tagger', 'parser', 'senter', 'attribute_ruler', 'lemmatizer', 'ner']\n",
      "disabled            ['senter']                    \n",
      "sources             [{'name': 'OntoNotes 5', 'url': 'https://catalog.ldc.upenn.edu/LDC2013T19', 'license': 'commercial (licensed by Explosion)', 'author': 'Ralph Weischedel, Martha Palmer, Mitchell Marcus, Eduard Hovy, Sameer Pradhan, Lance Ramshaw, Nianwen Xue, Ann Taylor, Jeff Kaufman, Michelle Franchini, Mohammed El-Bachouti, Robert Belvin, Ann Houston'}, {'name': 'ClearNLP Constituent-to-Dependency Conversion', 'url': 'https://github.com/clir/clearnlp-guidelines/blob/master/md/components/dependency_conversion.md', 'license': 'Citation provided for reference, no code packaged with model', 'author': 'Emory University'}, {'name': 'WordNet 3.0', 'url': 'https://wordnet.princeton.edu/', 'author': 'Princeton University', 'license': 'WordNet 3.0 License'}]\n",
      "requirements        []                            \n",
      "source              /home/merve/anaconda3/envs/deeplearning-labs/lib/python3.10/site-packages/en_core_web_sm\n",
      "\n"
     ]
    }
   ],
   "source": [
    "!python -m spacy info en_core_web_sm\n"
   ]
  },
  {
   "cell_type": "code",
   "execution_count": 23,
   "metadata": {},
   "outputs": [
    {
     "name": "stderr",
     "output_type": "stream",
     "text": [
      "/home/merve/anaconda3/envs/deeplearning-labs/lib/python3.10/site-packages/torch/__init__.py:749: UserWarning: torch.set_default_tensor_type() is deprecated as of PyTorch 2.1, please use torch.set_default_dtype() and torch.set_default_device() as alternatives. (Triggered internally at ../torch/csrc/tensor/python_tensor.cpp:431.)\n",
      "  _C._set_default_tensor_type(t)\n"
     ]
    },
    {
     "name": "stdout",
     "output_type": "stream",
     "text": [
      "Accuracy of the model:  0.9758\n",
      "\n",
      "ROC AUC score:  0.5471944174696846\n"
     ]
    },
    {
     "name": "stderr",
     "output_type": "stream",
     "text": [
      "/home/merve/anaconda3/envs/deeplearning-labs/lib/python3.10/site-packages/sklearn/linear_model/_stochastic_gradient.py:173: FutureWarning: The loss 'log' was deprecated in v1.1 and will be removed in version 1.3. Use `loss='log_loss'` which is equivalent.\n",
      "  warnings.warn(\n"
     ]
    }
   ],
   "source": [
    "####### INSERT YOUR CODE HERE\n",
    "# Load spaCy English language model\n",
    "nlp = spacy.load('en_core_web_sm')\n",
    "\n",
    "def analyze_text(text):\n",
    "    # Create a spaCy document\n",
    "    doc = nlp(text)\n",
    "    \n",
    "    # Get lemmas and pos tags\n",
    "    lemmas = [token.lemma_ for token in doc if not token.is_stop]\n",
    "    pos_tags = [token.pos_ for token in doc]\n",
    "    \n",
    "    return \" \".join(lemmas), \" \".join(pos_tags)\n",
    "\n",
    "\n",
    "\n",
    "# Apply the function to the train and test data\n",
    "train['lemmas'], train['pos_tags'] = zip(*train['Combined_Review'].apply(analyze_text))\n",
    "test['lemmas'], test['pos_tags'] = zip(*test['Combined_Review'].apply(analyze_text))\n",
    "\n",
    "# Remove stopwords\n",
    "stop_words = set(stopwords.words('english'))\n",
    "train['lemmas'] = train['lemmas'].apply(lambda x: ' '.join([word for word in x.split() if word not in (stop_words)]))\n",
    "test['lemmas'] = test['lemmas'].apply(lambda x: ' '.join([word for word in x.split() if word not in (stop_words)]))\n",
    "\n",
    "# Create features\n",
    "tfidf_vectorizer = TfidfVectorizer(max_features=5000, ngram_range=(1, 2))\n",
    "X_train = tfidf_vectorizer.fit_transform(train['lemmas'])\n",
    "X_test = tfidf_vectorizer.transform(test['lemmas'])\n",
    "\n",
    "# Train a logistic regression model\n",
    "model = SGDClassifier(max_iter=1000, tol=0.001, loss='log')\n",
    "\n",
    "y_train = train['Approves']\n",
    "y_test = test['Approves']\n",
    "\n",
    "model.fit(X_train, y_train)\n",
    "\n",
    "# Predict on the test data\n",
    "y_pred = model.predict(X_test)\n",
    "\n",
    "# Calculate the accuracy\n",
    "accuracy = accuracy_score(y_test, y_pred)\n",
    "print(\"Accuracy of the model: \", accuracy)\n",
    "print()\n",
    "print(\"ROC AUC score: \", roc_auc_score(y_test, y_pred))"
   ]
  },
  {
   "cell_type": "code",
   "execution_count": 24,
   "metadata": {},
   "outputs": [
    {
     "name": "stdout",
     "output_type": "stream",
     "text": [
      "Accuracy with custom threshold:  0.9753\n",
      "ROC AUC score with custom threshold:  0.927356063718533\n"
     ]
    }
   ],
   "source": [
    "# Set a custom threshold (e.g., 0.0)\n",
    "custom_threshold = 0.0\n",
    "y_pred_custom = (decision_scores > custom_threshold).astype(int)\n",
    "\n",
    "# Calculate accuracy and ROC AUC with the custom threshold\n",
    "accuracy_custom = accuracy_score(y_test, y_pred_custom)\n",
    "roc_auc_custom = roc_auc_score(y_test, decision_scores)\n",
    "\n",
    "print(\"Accuracy with custom threshold: \", accuracy_custom)\n",
    "print(\"ROC AUC score with custom threshold: \", roc_auc_custom)"
   ]
  },
  {
   "cell_type": "code",
   "execution_count": 25,
   "metadata": {},
   "outputs": [
    {
     "data": {
      "image/png": "[encoded data removed]",
      "text/plain": [
       "<Figure size 1000x500 with 1 Axes>"
      ]
     },
     "metadata": {},
     "output_type": "display_data"
    },
    {
     "data": {
      "image/png": "[encoded data removed]",
      "text/plain": [
       "<Figure size 640x480 with 2 Axes>"
      ]
     },
     "metadata": {},
     "output_type": "display_data"
    }
   ],
   "source": [
    "# Plot auc roc curve\n",
    "fpr, tpr, _ = roc_curve(y_test, decision_scores)\n",
    "plt.figure(figsize=(10, 5))\n",
    "plt.plot(fpr, tpr)\n",
    "plt.xlabel('False Positive Rate')\n",
    "plt.ylabel('True Positive Rate')\n",
    "plt.title('ROC Curve')\n",
    "plt.show()\n",
    "\n",
    "# Get the confusion matrix\n",
    "cm = confusion_matrix(y_test, y_pred)\n",
    "cm_df = pd.DataFrame(cm, columns=['Negative', 'Positive'], index=['Negative', 'Positive'])\n",
    "\n",
    "# Plot the confusion matrix\n",
    "sns.heatmap(cm_df, annot=True, fmt='d', cmap='Blues')\n",
    "plt.xlabel('Predicted')\n",
    "plt.ylabel('Actual')\n",
    "plt.title('Confusion Matrix')\n",
    "plt.show()\n"
   ]
  },
  {
   "cell_type": "code",
   "execution_count": 26,
   "metadata": {},
   "outputs": [
    {
     "data": {
      "text/html": [
       "<div>\n",
       "<style scoped>\n",
       "    .dataframe tbody tr th:only-of-type {\n",
       "        vertical-align: middle;\n",
       "    }\n",
       "\n",
       "    .dataframe tbody tr th {\n",
       "        vertical-align: top;\n",
       "    }\n",
       "\n",
       "    .dataframe thead th {\n",
       "        text-align: right;\n",
       "    }\n",
       "</style>\n",
       "<table border=\"1\" class=\"dataframe\">\n",
       "  <thead>\n",
       "    <tr style=\"text-align: right;\">\n",
       "      <th></th>\n",
       "      <th>Negative_Review</th>\n",
       "      <th>Positive_Review</th>\n",
       "      <th>Approves</th>\n",
       "      <th>Combined_Review</th>\n",
       "      <th>lemmas</th>\n",
       "      <th>pos_tags</th>\n",
       "    </tr>\n",
       "  </thead>\n",
       "  <tbody>\n",
       "    <tr>\n",
       "      <th>0</th>\n",
       "      <td>I am so angry that i made this post available...</td>\n",
       "      <td>Only the park outside of the hotel was beauti...</td>\n",
       "      <td>False</td>\n",
       "      <td>I am so angry that i made this post available...</td>\n",
       "      <td>angry post available possible site use plane t...</td>\n",
       "      <td>SPACE PRON AUX ADV ADJ SCONJ PRON VERB DET NOU...</td>\n",
       "    </tr>\n",
       "    <tr>\n",
       "      <th>1</th>\n",
       "      <td>My room was dirty and I was afraid to walk ba...</td>\n",
       "      <td>Great location in nice surroundings the bar a...</td>\n",
       "      <td>False</td>\n",
       "      <td>My room was dirty and I was afraid to walk ba...</td>\n",
       "      <td>room dirty afraid walk barefoot floor look cle...</td>\n",
       "      <td>SPACE PRON NOUN AUX ADJ CCONJ PRON AUX ADJ PAR...</td>\n",
       "    </tr>\n",
       "    <tr>\n",
       "      <th>2</th>\n",
       "      <td>Apart from the price for the brekfast Everyth...</td>\n",
       "      <td>Good location Set in a lovely park friendly s...</td>\n",
       "      <td>True</td>\n",
       "      <td>Apart from the price for the brekfast Everyth...</td>\n",
       "      <td>apart price brekfast good good location Set lo...</td>\n",
       "      <td>SPACE ADV ADP DET NOUN ADP DET ADJ PRON ADV AD...</td>\n",
       "    </tr>\n",
       "    <tr>\n",
       "      <th>3</th>\n",
       "      <td>Nothing all great</td>\n",
       "      <td>Rooms were stunningly decorated and really sp...</td>\n",
       "      <td>True</td>\n",
       "      <td>Nothing all great   Rooms were stunningly dec...</td>\n",
       "      <td>great room stunningly decorate spacious buildi...</td>\n",
       "      <td>SPACE PRON PRON ADJ SPACE NOUN AUX ADV VERB CC...</td>\n",
       "    </tr>\n",
       "    <tr>\n",
       "      <th>4</th>\n",
       "      <td>No Negative</td>\n",
       "      <td>This hotel is being renovated with great care...</td>\n",
       "      <td>True</td>\n",
       "      <td>No Negative  This hotel is being renovated wit...</td>\n",
       "      <td>Negative hotel renovate great care appreciatio...</td>\n",
       "      <td>PRON PROPN SPACE DET NOUN AUX AUX VERB ADP ADJ...</td>\n",
       "    </tr>\n",
       "  </tbody>\n",
       "</table>\n",
       "</div>"
      ],
      "text/plain": [
       "                                     Negative_Review  \\\n",
       "0   I am so angry that i made this post available...   \n",
       "1   My room was dirty and I was afraid to walk ba...   \n",
       "2   Apart from the price for the brekfast Everyth...   \n",
       "3                                 Nothing all great    \n",
       "4                                        No Negative   \n",
       "\n",
       "                                     Positive_Review  Approves  \\\n",
       "0   Only the park outside of the hotel was beauti...     False   \n",
       "1   Great location in nice surroundings the bar a...     False   \n",
       "2   Good location Set in a lovely park friendly s...      True   \n",
       "3   Rooms were stunningly decorated and really sp...      True   \n",
       "4   This hotel is being renovated with great care...      True   \n",
       "\n",
       "                                     Combined_Review  \\\n",
       "0   I am so angry that i made this post available...   \n",
       "1   My room was dirty and I was afraid to walk ba...   \n",
       "2   Apart from the price for the brekfast Everyth...   \n",
       "3   Nothing all great   Rooms were stunningly dec...   \n",
       "4  No Negative  This hotel is being renovated wit...   \n",
       "\n",
       "                                              lemmas  \\\n",
       "0  angry post available possible site use plane t...   \n",
       "1  room dirty afraid walk barefoot floor look cle...   \n",
       "2  apart price brekfast good good location Set lo...   \n",
       "3  great room stunningly decorate spacious buildi...   \n",
       "4  Negative hotel renovate great care appreciatio...   \n",
       "\n",
       "                                            pos_tags  \n",
       "0  SPACE PRON AUX ADV ADJ SCONJ PRON VERB DET NOU...  \n",
       "1  SPACE PRON NOUN AUX ADJ CCONJ PRON AUX ADJ PAR...  \n",
       "2  SPACE ADV ADP DET NOUN ADP DET ADJ PRON ADV AD...  \n",
       "3  SPACE PRON PRON ADJ SPACE NOUN AUX ADV VERB CC...  \n",
       "4  PRON PROPN SPACE DET NOUN AUX AUX VERB ADP ADJ...  "
      ]
     },
     "execution_count": 26,
     "metadata": {},
     "output_type": "execute_result"
    }
   ],
   "source": [
    "train.head()"
   ]
  },
  {
   "cell_type": "code",
   "execution_count": null,
   "metadata": {},
   "outputs": [],
   "source": []
  },
  {
   "cell_type": "markdown",
   "metadata": {},
   "source": [
    "### Modelo basado en Deep Learning"
   ]
  },
  {
   "cell_type": "markdown",
   "metadata": {},
   "source": [
    "<table>\n",
    "<tr><td width=\"80\"><img src=\"img/question.png\" style=\"width:auto;height:auto\"></td><td style=\"text-align:left\">Construye un modelo de clasificación que en base a la crítica en texto de un hotel determine si esta es favorable o desfavorable, empleando una aproximación basada en Embeddings y algún tipo de modelo de mezcla (CNN, LSTM, GRU, ...). Mide el nivel de acierto sobre el conjunto de test. ¿Qué nivel de precisión puedes alcanzar?</td></tr>\n",
    "</table>"
   ]
  },
  {
   "cell_type": "code",
   "execution_count": 27,
   "metadata": {},
   "outputs": [],
   "source": [
    "####### INSERT YOUR CODE HERE\n",
    "from sklearn.model_selection import train_test_split\n",
    "from keras.preprocessing.text import Tokenizer\n",
    "from keras_preprocessing.sequence import pad_sequences\n",
    "from keras.layers import Embedding, LSTM, Dense, Dropout\n",
    "from keras.models import Sequential\n",
    "from keras.optimizers import Adam, RMSprop, SGD, Adagrad, Adadelta, Adamax, Nadam"
   ]
  },
  {
   "cell_type": "code",
   "execution_count": 28,
   "metadata": {},
   "outputs": [
    {
     "name": "stderr",
     "output_type": "stream",
     "text": [
      "2024-07-08 00:16:37.737808: I tensorflow/stream_executor/cuda/cuda_gpu_executor.cc:975] successful NUMA node read from SysFS had negative value (-1), but there must be at least one NUMA node, so returning NUMA node zero\n",
      "2024-07-08 00:16:37.784852: I tensorflow/stream_executor/cuda/cuda_gpu_executor.cc:975] successful NUMA node read from SysFS had negative value (-1), but there must be at least one NUMA node, so returning NUMA node zero\n",
      "2024-07-08 00:16:37.784993: I tensorflow/stream_executor/cuda/cuda_gpu_executor.cc:975] successful NUMA node read from SysFS had negative value (-1), but there must be at least one NUMA node, so returning NUMA node zero\n",
      "2024-07-08 00:16:37.785438: I tensorflow/core/platform/cpu_feature_guard.cc:193] This TensorFlow binary is optimized with oneAPI Deep Neural Network Library (oneDNN) to use the following CPU instructions in performance-critical operations:  AVX2 AVX_VNNI FMA\n",
      "To enable them in other operations, rebuild TensorFlow with the appropriate compiler flags.\n",
      "2024-07-08 00:16:37.785958: I tensorflow/stream_executor/cuda/cuda_gpu_executor.cc:975] successful NUMA node read from SysFS had negative value (-1), but there must be at least one NUMA node, so returning NUMA node zero\n",
      "2024-07-08 00:16:37.786063: I tensorflow/stream_executor/cuda/cuda_gpu_executor.cc:975] successful NUMA node read from SysFS had negative value (-1), but there must be at least one NUMA node, so returning NUMA node zero\n",
      "2024-07-08 00:16:37.786133: I tensorflow/stream_executor/cuda/cuda_gpu_executor.cc:975] successful NUMA node read from SysFS had negative value (-1), but there must be at least one NUMA node, so returning NUMA node zero\n",
      "2024-07-08 00:16:37.851454: I tensorflow/stream_executor/cuda/cuda_gpu_executor.cc:975] successful NUMA node read from SysFS had negative value (-1), but there must be at least one NUMA node, so returning NUMA node zero\n",
      "2024-07-08 00:16:37.851591: I tensorflow/stream_executor/cuda/cuda_gpu_executor.cc:975] successful NUMA node read from SysFS had negative value (-1), but there must be at least one NUMA node, so returning NUMA node zero\n",
      "2024-07-08 00:16:37.851736: I tensorflow/stream_executor/cuda/cuda_gpu_executor.cc:975] successful NUMA node read from SysFS had negative value (-1), but there must be at least one NUMA node, so returning NUMA node zero\n",
      "2024-07-08 00:16:37.851817: I tensorflow/core/common_runtime/gpu/gpu_device.cc:1532] Created device /job:localhost/replica:0/task:0/device:GPU:0 with 9698 MB memory:  -> device: 0, name: NVIDIA GeForce RTX 3060, pci bus id: 0000:01:00.0, compute capability: 8.6\n"
     ]
    },
    {
     "name": "stdout",
     "output_type": "stream",
     "text": [
      "WARNING:tensorflow:Layer lstm will not use cuDNN kernels since it doesn't meet the criteria. It will use a generic GPU kernel as fallback when running on GPU.\n",
      "Epoch 1/5\n",
      "  1/157 [..............................] - ETA: 6:24 - loss: 0.6948 - accuracy: 0.3281"
     ]
    },
    {
     "name": "stderr",
     "output_type": "stream",
     "text": [
      "2024-07-08 00:16:40.873641: I tensorflow/stream_executor/cuda/cuda_blas.cc:1786] TensorFloat-32 will be used for the matrix multiplication. This will only be logged once.\n"
     ]
    },
    {
     "name": "stdout",
     "output_type": "stream",
     "text": [
      "157/157 [==============================] - 23s 129ms/step - loss: 0.1857 - accuracy: 0.9573\n",
      "Epoch 2/5\n",
      "157/157 [==============================] - 20s 128ms/step - loss: 0.1186 - accuracy: 0.9634\n",
      "Epoch 3/5\n",
      "157/157 [==============================] - 20s 128ms/step - loss: 0.0623 - accuracy: 0.9796\n",
      "Epoch 4/5\n",
      "157/157 [==============================] - 20s 127ms/step - loss: 0.0387 - accuracy: 0.9869\n",
      "Epoch 5/5\n",
      "157/157 [==============================] - 20s 127ms/step - loss: 0.0329 - accuracy: 0.9902\n",
      "313/313 [==============================] - 5s 17ms/step\n",
      "Accuracy of the model with optimizer  Adam :  0.9778\n",
      "\n",
      "ROC AUC score:  0.6643043001917284\n",
      "\n",
      "Epoch 1/5\n",
      "157/157 [==============================] - 21s 127ms/step - loss: 0.0278 - accuracy: 0.9919\n",
      "Epoch 2/5\n",
      "157/157 [==============================] - 20s 127ms/step - loss: 0.0266 - accuracy: 0.9917\n",
      "Epoch 3/5\n",
      "157/157 [==============================] - 20s 128ms/step - loss: 0.0246 - accuracy: 0.9925\n",
      "Epoch 4/5\n",
      "157/157 [==============================] - 20s 127ms/step - loss: 0.0247 - accuracy: 0.9930\n",
      "Epoch 5/5\n",
      "157/157 [==============================] - 20s 128ms/step - loss: 0.0229 - accuracy: 0.9926\n",
      "313/313 [==============================] - 5s 17ms/step\n",
      "Accuracy of the model with optimizer  RMSprop :  0.9776\n",
      "\n",
      "ROC AUC score:  0.7102661786310102\n",
      "\n",
      "Epoch 1/5\n",
      "157/157 [==============================] - 21s 127ms/step - loss: 0.0177 - accuracy: 0.9944\n",
      "Epoch 2/5\n",
      "157/157 [==============================] - 20s 127ms/step - loss: 0.0179 - accuracy: 0.9947\n",
      "Epoch 3/5\n",
      "157/157 [==============================] - 20s 127ms/step - loss: 0.0178 - accuracy: 0.9948\n",
      "Epoch 4/5\n",
      "157/157 [==============================] - 20s 127ms/step - loss: 0.0180 - accuracy: 0.9947\n",
      "Epoch 5/5\n",
      "157/157 [==============================] - 20s 127ms/step - loss: 0.0182 - accuracy: 0.9942\n",
      "313/313 [==============================] - 5s 17ms/step\n",
      "Accuracy of the model with optimizer  SGD :  0.9777\n",
      "\n",
      "ROC AUC score:  0.7176878688279675\n",
      "\n",
      "Epoch 1/5\n",
      "157/157 [==============================] - 21s 127ms/step - loss: 0.0175 - accuracy: 0.9948\n",
      "Epoch 2/5\n",
      "157/157 [==============================] - 20s 127ms/step - loss: 0.0175 - accuracy: 0.9945\n",
      "Epoch 3/5\n",
      "157/157 [==============================] - 20s 128ms/step - loss: 0.0177 - accuracy: 0.9943\n",
      "Epoch 4/5\n",
      "157/157 [==============================] - 20s 128ms/step - loss: 0.0174 - accuracy: 0.9944\n",
      "Epoch 5/5\n",
      "157/157 [==============================] - 20s 128ms/step - loss: 0.0172 - accuracy: 0.9946\n",
      "313/313 [==============================] - 5s 17ms/step\n",
      "Accuracy of the model with optimizer  Adagrad :  0.9776\n",
      "\n",
      "ROC AUC score:  0.717636513035034\n",
      "\n",
      "Epoch 1/5\n",
      "157/157 [==============================] - 21s 127ms/step - loss: 0.0178 - accuracy: 0.9943\n",
      "Epoch 2/5\n",
      "157/157 [==============================] - 20s 127ms/step - loss: 0.0172 - accuracy: 0.9949\n",
      "Epoch 3/5\n",
      "157/157 [==============================] - 20s 128ms/step - loss: 0.0172 - accuracy: 0.9945\n",
      "Epoch 4/5\n",
      "157/157 [==============================] - 20s 127ms/step - loss: 0.0178 - accuracy: 0.9944\n",
      "Epoch 5/5\n",
      "157/157 [==============================] - 20s 127ms/step - loss: 0.0178 - accuracy: 0.9945\n",
      "313/313 [==============================] - 5s 17ms/step\n",
      "Accuracy of the model with optimizer  Adadelta :  0.9776\n",
      "\n",
      "ROC AUC score:  0.717636513035034\n",
      "\n",
      "Epoch 1/5\n",
      "157/157 [==============================] - 21s 128ms/step - loss: 0.0188 - accuracy: 0.9943\n",
      "Epoch 2/5\n",
      "157/157 [==============================] - 20s 128ms/step - loss: 0.0179 - accuracy: 0.9943\n",
      "Epoch 3/5\n",
      "157/157 [==============================] - 20s 128ms/step - loss: 0.0170 - accuracy: 0.9947\n",
      "Epoch 4/5\n",
      "157/157 [==============================] - 20s 128ms/step - loss: 0.0169 - accuracy: 0.9951\n",
      "Epoch 5/5\n",
      "157/157 [==============================] - 20s 128ms/step - loss: 0.0167 - accuracy: 0.9948\n",
      "313/313 [==============================] - 5s 17ms/step\n",
      "Accuracy of the model with optimizer  Adamax :  0.9771\n",
      "\n",
      "ROC AUC score:  0.7155371504693608\n",
      "\n",
      "Epoch 1/5\n",
      "157/157 [==============================] - 22s 128ms/step - loss: 0.0226 - accuracy: 0.9922\n",
      "Epoch 2/5\n",
      "157/157 [==============================] - 20s 128ms/step - loss: 0.0175 - accuracy: 0.9947\n",
      "Epoch 3/5\n",
      "157/157 [==============================] - 20s 127ms/step - loss: 0.0168 - accuracy: 0.9946\n",
      "Epoch 4/5\n",
      "157/157 [==============================] - 20s 128ms/step - loss: 0.0173 - accuracy: 0.9950\n",
      "Epoch 5/5\n",
      "157/157 [==============================] - 20s 128ms/step - loss: 0.0152 - accuracy: 0.9953\n",
      "313/313 [==============================] - 5s 17ms/step\n",
      "Accuracy of the model with optimizer  Nadam :  0.9758\n",
      "\n",
      "ROC AUC score:  0.6909159383481487\n",
      "\n"
     ]
    }
   ],
   "source": [
    "####### INSERT YOUR CODE HERE\n",
    "# Tokenization and padding\n",
    "tokenizer = Tokenizer(num_words=5000, lower=True)\n",
    "tokenizer.fit_on_texts(train['lemmas'])\n",
    "\n",
    "X_train = tokenizer.texts_to_sequences(train['lemmas'])\n",
    "X_test = tokenizer.texts_to_sequences(test['lemmas'])\n",
    "\n",
    "X_train = pad_sequences(X_train, maxlen=100)\n",
    "X_test = pad_sequences(X_test, maxlen=100)\n",
    "\n",
    "# Create a simple LSTM model\n",
    "model = Sequential()\n",
    "model.add(Embedding(input_dim=5000, output_dim=100, input_length=100))\n",
    "model.add(LSTM(units=100, dropout=0.2, recurrent_dropout=0.2))\n",
    "model.add(Dense(1, activation='sigmoid'))\n",
    "optimizer = ['Adam', 'RMSprop', 'SGD', 'Adagrad', 'Adadelta', 'Adamax', 'Nadam']\n",
    "\n",
    "# Compile the model for all optimizers\n",
    "for opt in optimizer:\n",
    "    model.compile(optimizer=opt, loss='binary_crossentropy', metrics=['accuracy'])\n",
    "    model.fit(X_train, y_train, epochs=5, batch_size=64)\n",
    "    y_pred = model.predict(X_test)\n",
    "    y_pred = [1 if pred > 0.5 else 0 for pred in y_pred]\n",
    "    accuracy = accuracy_score(y_test, y_pred)\n",
    "    print(\"Accuracy of the model with optimizer \", opt, \": \", accuracy)\n",
    "    print()\n",
    "    print(\"ROC AUC score: \", roc_auc_score(y_test, y_pred))\n",
    "    print()\n",
    "\n",
    "# model.compile(optimizer=Adam(learning_rate=0.001), loss='binary_crossentropy', metrics=['accuracy'])\n",
    "\n",
    "# Train the model\n",
    "# model.fit(X_train, y_train, epochs=5, batch_size=64)\n",
    "\n",
    "# # Evaluate the model\n",
    "# y_pred = model.predict(X_test)\n",
    "# y_pred = [1 if pred > 0.5 else 0 for pred in y_pred]\n",
    "# accuracy = accuracy_score(y_test, y_pred)\n",
    "# print(\"Accuracy of the model: \", accuracy)\n",
    "# print()\n",
    "# print(\"ROC AUC score: \", roc_auc_score(y_test, y_pred))"
   ]
  },
  {
   "cell_type": "code",
   "execution_count": 29,
   "metadata": {},
   "outputs": [
    {
     "name": "stdout",
     "output_type": "stream",
     "text": [
      "313/313 [==============================] - 5s 17ms/step\n",
      "Accuracy with custom threshold:  0.9758\n",
      "ROC AUC score with custom threshold:  0.8911469226986379\n"
     ]
    }
   ],
   "source": [
    "# Predict probabilities directly from the model\n",
    "y_pred_proba = model.predict(X_test)[:, 0]  # Probability of class 1 (positive sentiment)\n",
    "\n",
    "# Set a custom threshold (e.g., 0.5)\n",
    "custom_threshold = 0.5\n",
    "y_pred_custom = (y_pred_proba >= custom_threshold).astype(int)\n",
    "\n",
    "# Calculate accuracy and ROC AUC with the custom threshold\n",
    "accuracy_custom = accuracy_score(y_test, y_pred_custom)\n",
    "roc_auc_custom = roc_auc_score(y_test, y_pred_proba)\n",
    "\n",
    "print(\"Accuracy with custom threshold: \", accuracy_custom)\n",
    "print(\"ROC AUC score with custom threshold: \", roc_auc_custom)\n"
   ]
  },
  {
   "cell_type": "code",
   "execution_count": 30,
   "metadata": {},
   "outputs": [
    {
     "data": {
      "image/png": "[encoded data removed]",
      "text/plain": [
       "<Figure size 1000x500 with 1 Axes>"
      ]
     },
     "metadata": {},
     "output_type": "display_data"
    },
    {
     "data": {
      "image/png": "[encoded data removed]",
      "text/plain": [
       "<Figure size 640x480 with 2 Axes>"
      ]
     },
     "metadata": {},
     "output_type": "display_data"
    }
   ],
   "source": [
    "####### INSERT YOUR CODE HERE\n",
    "# Plot the ROC curve\n",
    "fpr, tpr, _ = roc_curve(y_test, y_pred_proba)\n",
    "plt.figure(figsize=(10, 5))\n",
    "plt.plot(fpr, tpr)\n",
    "plt.xlabel('False Positive Rate')\n",
    "plt.ylabel('True Positive Rate')\n",
    "plt.title('ROC Curve')\n",
    "plt.show()\n",
    "\n",
    "# Get the confusion matrix\n",
    "cm = confusion_matrix(y_test, y_pred)\n",
    "cm_df = pd.DataFrame(cm, columns=['Negative', 'Positive'], index=['Negative', 'Positive'])\n",
    "\n",
    "# Plot the confusion matrix\n",
    "sns.heatmap(cm_df, annot=True, fmt='d', cmap='Blues')\n",
    "plt.xlabel('Predicted')\n",
    "plt.ylabel('Actual')\n",
    "plt.title('Confusion Matrix')\n",
    "plt.show()\n"
   ]
  },
  {
   "cell_type": "markdown",
   "metadata": {},
   "source": [
    "## Otras aproximaciones"
   ]
  },
  {
   "cell_type": "markdown",
   "metadata": {},
   "source": [
    "<table>\n",
    "<tr><td width=\"80\"><img src=\"img/pro.png\" style=\"width:auto;height:auto\"></td><td style=\"text-align:left\">Intenta mezclar varias de las features de puntos anteriores en un único modelo, o probar otras aproximaciones. ¿Puedes conseguir un acierto aún mejor?</td></tr>\n",
    "</table>"
   ]
  },
  {
   "cell_type": "code",
   "execution_count": 31,
   "metadata": {},
   "outputs": [
    {
     "name": "stdout",
     "output_type": "stream",
     "text": [
      "WARNING:tensorflow:Layer gru will not use cuDNN kernels since it doesn't meet the criteria. It will use a generic GPU kernel as fallback when running on GPU.\n",
      "Epoch 1/5\n"
     ]
    },
    {
     "name": "stderr",
     "output_type": "stream",
     "text": [
      "2024-07-08 00:29:14.932563: I tensorflow/stream_executor/cuda/cuda_dnn.cc:384] Loaded cuDNN version 8902\n"
     ]
    },
    {
     "name": "stdout",
     "output_type": "stream",
     "text": [
      "157/157 [==============================] - 12s 64ms/step - loss: 0.1632 - accuracy: 0.9616\n",
      "Epoch 2/5\n",
      "157/157 [==============================] - 10s 64ms/step - loss: 0.0732 - accuracy: 0.9729\n",
      "Epoch 3/5\n",
      "157/157 [==============================] - 10s 64ms/step - loss: 0.0392 - accuracy: 0.9872\n",
      "Epoch 4/5\n",
      "157/157 [==============================] - 10s 64ms/step - loss: 0.0258 - accuracy: 0.9913\n",
      "Epoch 5/5\n",
      "157/157 [==============================] - 10s 64ms/step - loss: 0.0183 - accuracy: 0.9939\n",
      "313/313 [==============================] - 3s 10ms/step\n",
      "Accuracy of the model with optimizer  Adam :  0.9711\n",
      "\n",
      "ROC AUC score:  0.684817048878265\n",
      "\n",
      "Epoch 1/5\n",
      "157/157 [==============================] - 11s 64ms/step - loss: 0.0209 - accuracy: 0.9937\n",
      "Epoch 2/5\n",
      "157/157 [==============================] - 10s 64ms/step - loss: 0.0154 - accuracy: 0.9946\n",
      "Epoch 3/5\n",
      "157/157 [==============================] - 10s 65ms/step - loss: 0.0133 - accuracy: 0.9958\n",
      "Epoch 4/5\n",
      "157/157 [==============================] - 10s 64ms/step - loss: 0.0126 - accuracy: 0.9959\n",
      "Epoch 5/5\n",
      "157/157 [==============================] - 10s 64ms/step - loss: 0.0104 - accuracy: 0.9967\n",
      "313/313 [==============================] - 3s 10ms/step\n",
      "Accuracy of the model with optimizer  RMSprop :  0.9756\n",
      "\n",
      "ROC AUC score:  0.6852854759592639\n",
      "\n",
      "Epoch 1/5\n",
      "157/157 [==============================] - 11s 63ms/step - loss: 0.0077 - accuracy: 0.9973\n",
      "Epoch 2/5\n",
      "157/157 [==============================] - 10s 63ms/step - loss: 0.0075 - accuracy: 0.9974\n",
      "Epoch 3/5\n",
      "157/157 [==============================] - 10s 63ms/step - loss: 0.0074 - accuracy: 0.9974\n",
      "Epoch 4/5\n",
      "157/157 [==============================] - 10s 64ms/step - loss: 0.0073 - accuracy: 0.9975\n",
      "Epoch 5/5\n",
      "157/157 [==============================] - 10s 63ms/step - loss: 0.0074 - accuracy: 0.9976\n",
      "313/313 [==============================] - 3s 10ms/step\n",
      "Accuracy of the model with optimizer  SGD :  0.9755\n",
      "\n",
      "ROC AUC score:  0.6944470381713603\n",
      "\n",
      "Epoch 1/5\n",
      "157/157 [==============================] - 11s 64ms/step - loss: 0.0071 - accuracy: 0.9975\n",
      "Epoch 2/5\n",
      "157/157 [==============================] - 10s 65ms/step - loss: 0.0076 - accuracy: 0.9976\n",
      "Epoch 3/5\n",
      "157/157 [==============================] - 10s 64ms/step - loss: 0.0074 - accuracy: 0.9977\n",
      "Epoch 4/5\n",
      "157/157 [==============================] - 10s 64ms/step - loss: 0.0077 - accuracy: 0.9974\n",
      "Epoch 5/5\n",
      "157/157 [==============================] - 10s 64ms/step - loss: 0.0075 - accuracy: 0.9975\n",
      "313/313 [==============================] - 3s 10ms/step\n",
      "Accuracy of the model with optimizer  Adagrad :  0.9756\n",
      "\n",
      "ROC AUC score:  0.7000261447673115\n",
      "\n",
      "Epoch 1/5\n",
      "157/157 [==============================] - 11s 64ms/step - loss: 0.0075 - accuracy: 0.9978\n",
      "Epoch 2/5\n",
      "157/157 [==============================] - 10s 64ms/step - loss: 0.0073 - accuracy: 0.9977\n",
      "Epoch 3/5\n",
      "157/157 [==============================] - 10s 65ms/step - loss: 0.0074 - accuracy: 0.9976\n",
      "Epoch 4/5\n",
      "157/157 [==============================] - 10s 64ms/step - loss: 0.0073 - accuracy: 0.9977\n",
      "Epoch 5/5\n",
      "157/157 [==============================] - 10s 64ms/step - loss: 0.0074 - accuracy: 0.9979\n",
      "313/313 [==============================] - 3s 10ms/step\n",
      "Accuracy of the model with optimizer  Adadelta :  0.9756\n",
      "\n",
      "ROC AUC score:  0.7000261447673115\n",
      "\n",
      "Epoch 1/5\n",
      "157/157 [==============================] - 11s 64ms/step - loss: 0.0084 - accuracy: 0.9974\n",
      "Epoch 2/5\n",
      "157/157 [==============================] - 10s 64ms/step - loss: 0.0074 - accuracy: 0.9978\n",
      "Epoch 3/5\n",
      "157/157 [==============================] - 10s 64ms/step - loss: 0.0069 - accuracy: 0.9977\n",
      "Epoch 4/5\n",
      "157/157 [==============================] - 10s 65ms/step - loss: 0.0067 - accuracy: 0.9979\n",
      "Epoch 5/5\n",
      "157/157 [==============================] - 10s 64ms/step - loss: 0.0064 - accuracy: 0.9977\n",
      "313/313 [==============================] - 3s 10ms/step\n",
      "Accuracy of the model with optimizer  Adamax :  0.9752\n",
      "\n",
      "ROC AUC score:  0.6979781379945718\n",
      "\n",
      "Epoch 1/5\n",
      "157/157 [==============================] - 12s 66ms/step - loss: 0.0106 - accuracy: 0.9962\n",
      "Epoch 2/5\n",
      "157/157 [==============================] - 10s 65ms/step - loss: 0.0068 - accuracy: 0.9977\n",
      "Epoch 3/5\n",
      "157/157 [==============================] - 10s 65ms/step - loss: 0.0055 - accuracy: 0.9982\n",
      "Epoch 4/5\n",
      "157/157 [==============================] - 10s 65ms/step - loss: 0.0054 - accuracy: 0.9985\n",
      "Epoch 5/5\n",
      "157/157 [==============================] - 10s 65ms/step - loss: 0.0051 - accuracy: 0.9985\n",
      "313/313 [==============================] - 3s 10ms/step\n",
      "Accuracy of the model with optimizer  Nadam :  0.9737\n",
      "\n",
      "ROC AUC score:  0.7193188043126415\n",
      "\n"
     ]
    }
   ],
   "source": [
    "####### INSERT YOUR CODE HERE\n",
    "\n",
    "from tensorflow.keras.layers import Conv1D, MaxPooling1D, GlobalMaxPooling1D\n",
    "from tensorflow.keras.layers import Embedding, GRU, Dense\n",
    "\n",
    "# Create a model with CNN + GRU\n",
    "model = Sequential()\n",
    "model.add(Embedding(input_dim=5000, output_dim=100, input_length=100))\n",
    "model.add(Conv1D(filters=64, kernel_size=3, activation='relu'))\n",
    "model.add(MaxPooling1D(pool_size=2))\n",
    "model.add(GRU(units=100, dropout=0.2, recurrent_dropout=0.2))\n",
    "model.add(Dense(1, activation='sigmoid'))\n",
    "\n",
    "optimizer = ['Adam', 'RMSprop', 'SGD', 'Adagrad', 'Adadelta', 'Adamax', 'Nadam']\n",
    "\n",
    "# Compile the model for all optimizers\n",
    "for opt in optimizer:\n",
    "    model.compile(optimizer=opt, loss='binary_crossentropy', metrics=['accuracy'])\n",
    "    model.fit(X_train, y_train, epochs=5, batch_size=64)\n",
    "    y_pred = model.predict(X_test)\n",
    "    y_pred = [1 if pred > 0.5 else 0 for pred in y_pred]\n",
    "    accuracy = accuracy_score(y_test, y_pred)\n",
    "    print(\"Accuracy of the model with optimizer \", opt, \": \", accuracy)\n",
    "    print()\n",
    "    print(\"ROC AUC score: \", roc_auc_score(y_test, y_pred))\n",
    "    print()"
   ]
  },
  {
   "cell_type": "code",
   "execution_count": 32,
   "metadata": {},
   "outputs": [
    {
     "name": "stdout",
     "output_type": "stream",
     "text": [
      "313/313 [==============================] - 3s 10ms/step\n",
      "Accuracy with custom threshold:  0.9737\n",
      "ROC AUC score with custom threshold:  0.8891409343019346\n"
     ]
    }
   ],
   "source": [
    "y_pred_proba = model.predict(X_test)[:, 0]  # Probability of class 1 (positive sentiment)\n",
    "custom_threshold = 0.5  \n",
    "y_pred_custom = (y_pred_proba >= custom_threshold).astype(int)\n",
    "accuracy_custom = accuracy_score(y_test, y_pred_custom)\n",
    "roc_auc_custom = roc_auc_score(y_test, y_pred_proba)\n",
    "print(\"Accuracy with custom threshold: \", accuracy_custom)\n",
    "print(\"ROC AUC score with custom threshold: \", roc_auc_custom)\n"
   ]
  },
  {
   "cell_type": "code",
   "execution_count": 33,
   "metadata": {},
   "outputs": [
    {
     "data": {
      "image/png": "[encoded data removed]",
      "text/plain": [
       "<Figure size 1000x500 with 1 Axes>"
      ]
     },
     "metadata": {},
     "output_type": "display_data"
    },
    {
     "data": {
      "image/png": "[encoded data removed]",
      "text/plain": [
       "<Figure size 640x480 with 2 Axes>"
      ]
     },
     "metadata": {},
     "output_type": "display_data"
    }
   ],
   "source": [
    "# Plot the ROC curve\n",
    "fpr, tpr, _ = roc_curve(y_test, y_pred_proba)\n",
    "plt.figure(figsize=(10, 5))\n",
    "plt.plot(fpr, tpr)\n",
    "plt.xlabel('False Positive Rate')\n",
    "plt.ylabel('True Positive Rate')\n",
    "plt.title('ROC Curve')\n",
    "plt.show()\n",
    "\n",
    "# Get the confusion matrix\n",
    "cm = confusion_matrix(y_test, y_pred)\n",
    "cm_df = pd.DataFrame(cm, columns=['Negative', 'Positive'], index=['Negative', 'Positive'])\n",
    "\n",
    "# Plot the confusion matrix\n",
    "sns.heatmap(cm_df, annot=True, fmt='d', cmap='Blues')\n",
    "plt.xlabel('Predicted')\n",
    "plt.ylabel('Actual')\n",
    "plt.title('Confusion Matrix')\n",
    "plt.show()"
   ]
  },
  {
   "cell_type": "markdown",
   "metadata": {},
   "source": [
    "## Informe"
   ]
  },
  {
   "cell_type": "markdown",
   "metadata": {},
   "source": [
    "<table>\n",
    "<tr><td width=\"80\"><img src=\"img/question.png\" style=\"width:auto;height:auto\"></td><td style=\"text-align:left\">Escribe un informe explicando qué decisiones has tomado a la hora de diseñar el modelo, qué cosas has probado, qué ha funcionado y qué no. Además, realiza una tabla comparativa con los scores sobre el conjunto de test de todos los modelos realizados en la práctica indicando con cuál se ha conseguido mejores resultados.</td></tr>\n",
    "</table>"
   ]
  },
  {
   "cell_type": "markdown",
   "metadata": {},
   "source": [
    "### Modelo basado en caracteres\n",
    " \n",
    " Primero, creamos un modelo basado en caracteres. Para ello, configuramos CountVectorizer con analyzer='char'. Usando ngram, creamos tanto caracteres simples como combinaciones de 2 caracteres. Eliminamos las palabras de parada, creamos pipeline con ColumnTransformer y las aplicamos a la columna Combined_Review, combinando las columnas con comentarios positivos y negativos.\n",
    "\n",
    " Aplicamos el modelo de **Logistic Regression** y realizamos nuestra predicción.\n",
    "\n",
    " **Accuracy of the model:  0.9631**\n",
    "\n",
    "**ROC AUC score:  0.6788** \n",
    "\n",
    "Obtenidos los valores, luego aplicamos el umbral.\n",
    "\n",
    " A partir de las predicciones del modelo, obtenemos las estimaciones de probabilidad de la clase positiva definiendo pred_proba.\n",
    "\n",
    "**Threshold: 0,99**\n",
    "\n",
    "**Accuracy: 0,8211**\n",
    "\n",
    "**ROC AUC score: 0,7865**\n",
    "\n",
    "En estos resultados, observamos que la puntuación ROC AUC aumenta cuando se aplica un umbral de 0,99. También a partir de la curva ROC AUC, observamos que la precisión aumenta gradualmente.\n",
    "\n",
    "En la matriz de confusión, podemos ver que predice correctamente los valores positivos con una alta probabilidad, pero tiene dificultades para hacerlo con los valores negativos.\n",
    "\n",
    "---"
   ]
  },
  {
   "cell_type": "markdown",
   "metadata": {},
   "source": [
    "### Modelo basado en tokens (palabras)\n",
    "\n",
    "Primero, creamos un modelo basado en tokens. Para evaluar la importancia de las palabras en función de su frecuencia dentro de un documento y su rareza entre los documentos del corpus, configuramos TfidfVectorizer. Usando ngram, creamos tanto unigramas como bigramas y limitamos el tamaño del vocabulario a las 5000 características más informativas con max_features=5000. Eliminamos las palabras de parada y las aplicamos a la columna Combined_Review, combinando las columnas con comentarios positivos y negativos.\n",
    "\n",
    "Aplicamos el modelo de **Linear Support Vector Classification** y realizamos nuestras predicciones.\n",
    "\n",
    "**Accuracy of the model: 0,9753**\n",
    "\n",
    "**ROC AUC score: 0,7496**\n",
    "\n",
    "A partir de las predicciones del modelo,  Obtenemos las puntuaciones de la función de decisión para los datos de prueba aplicando threshold.\n",
    "\n",
    "**Accuracy with custom threshold:  0.9753**\n",
    "\n",
    "**ROC AUC score with custom threshold:  0.9273**\n",
    "\n",
    "A partir de la curva ROC AUC, observamos que la precisión aumenta gradualmente.\n",
    "\n",
    "En la matriz de confusión, podemos ver que el modelo predice correctamente los valores positivos con una alta probabilidad, pero tiene un rendimiento inferior para los valores negativos.\n",
    "\n",
    "---"
   ]
  },
  {
   "cell_type": "markdown",
   "metadata": {},
   "source": [
    "### Modelo basado en análisis morfosintáctico\n",
    "\n",
    "Primero, creamos un modelo basado en análisis morfosintáctico. Creamos un pequeño modelo de lengua inglesa spaCy para el tratamiento de textos. Para cada token (excepto las stop words) extraemos lemas (formas básicas de las palabras) y etiquetas de parte de la oración (POS). Para evaluar la importancia de las palabras en función de su frecuencia dentro de un documento y su rareza entre los documentos del corpus, configuramos TfidfVectorizer. Usando ngram, creamos tanto unigramas como bigramas y limitamos el tamaño del vocabulario a las 5000 características más informativas con max_features=5000. Eliminamos las palabras de parada y las aplicamos a la columna Combined_Review, combinando las columnas con comentarios positivos y negativos.\n",
    "\n",
    "Aplicamos el modelo de **Stochastic Gradient Descent Classifier** y realizamos nuestras predicciones.\n",
    "\n",
    "**Accuracy of the model: 0.9759**\n",
    "\n",
    "**ROC AUC score: 0.5490**\n",
    "\n",
    "A partir de las predicciones del modelo, aplicamos un threshold.\n",
    "\n",
    "**Accuracy with custom threshold: 0.9753**\n",
    "\n",
    "**ROC AUC score with custom threshold: 0.9273**\n",
    "\n",
    "A partir de la curva ROC AUC, observamos que la precisión aumenta gradualmente.\n",
    "\n",
    "En la matriz de confusión, podemos ver que el modelo predice correctamente los valores positivos con una alta probabilidad, y también que predice correctamente los valores negativos.\n",
    "\n",
    "---"
   ]
  },
  {
   "cell_type": "markdown",
   "metadata": {},
   "source": [
    "### Modelo basado en Deep Learning\n",
    "Primero, creamos un modelo basado en Deep Learning. Ya hemos creado un modelo de lenguaje en inglés spaCy. Para evaluar la importancia de las palabras en función de su frecuencia dentro de un documento y su rareza entre los documentos del corpus, configuramos TfidfVectorizer previamente. Usando ngram, creamos tanto unigramas como bigramas y limitamos el tamaño del vocabulario a las 5000 características más informativas con max_features=5000. Eliminamos las palabras de parada y las aplicamos a la columna Combined_Review, combinando las columnas con comentarios positivos y negativos.\n",
    "\n",
    "Con texts_to_sequence convertimos los lemas de los datos de entrenamiento en secuencias de índices enteros basadas en el vocabulario adecuado. Aplicamos el modelo LSTM y realizamos nuestras predicciones. Utilizamos capas de embedding. Creamos una lista de optimizadores y los probamos todos en el bucle for.\n",
    "\n",
    "**Accuracy of the model with optimizer  SGD :  0.9771**\n",
    "\n",
    "**ROC AUC score:  0.7044**\n",
    "\n",
    "\n",
    "**Accuracy of the model with optimizer  Adagrad :  0.9768**\n",
    "\n",
    "**ROC AUC score:  0.7043**\n",
    "\n",
    "\n",
    "**Accuracy of the model with optimizer  Adadelta :  0.9769**\n",
    "\n",
    "**ROC AUC score:  0.7043**\n",
    "\n",
    "\n",
    "**Accuracy of the model with optimizer  Adamax :  0.9767**\n",
    "\n",
    "**ROC AUC score:  0.7061**\n",
    "\n",
    "\n",
    "A**ccuracy of the model with optimizer  Nadam :  0.9699**\n",
    "\n",
    "**ROC AUC score:  0.7210**\n",
    "\n",
    "Podemos observar que el mejor optimizador es **Nadam**, con una elevada **roc auc score = 0,72**\n",
    "\n",
    "A partir de las predicciones del modelo, obtenemos las puntuaciones de la función de decisión para los datos de prueba aplicando un threshold.\n",
    "\n",
    "**Accuracy with custom threshold:  0.9699**\n",
    "\n",
    "**ROC AUC score with custom threshold:  0.8881**\n",
    "\n",
    "A partir de la curva ROC AUC, observamos que la precisión aumenta gradualmente.\n",
    "\n",
    "En la matriz de confusión, podemos ver que el modelo predice correctamente los valores positivos con una alta probabilidad, pero tiene un rendimiento inferior para los valores negativos.\n",
    "\n",
    "---"
   ]
  },
  {
   "cell_type": "markdown",
   "metadata": {},
   "source": [
    "### Otras aproximaciones\n",
    "\n",
    " Ya hemos realizado los pasos de spaCy y TfidfVectorizer mencionados anteriormente. Eliminamos las palabras de parada y las aplicamos a la columna Combined_Review, combinando las columnas con comentarios positivos y negativos.\n",
    "\n",
    " Aplicamos el modelo **GRU-CNN** y realizamos nuestras predicciones. Implementamos una capa **convolucional** para definir el número de filtros de salida (mapas de características) a aprender, **max pooling** para reducir la dimensionalidad de los mapas de características, **embedding** para incrustar palabras en vectores y capas **GRU** de 100 unidades ocultas con una arquitectura similar al LSTM pero más simple. Implementamos dropout para la regularización. Creamos una lista de optimizadores y los probamos todos en el bucle for.\n",
    "\n",
    "**Accuracy of the model with optimizer  Adam :  0.9736**\n",
    "\n",
    "**ROC AUC score:  0.6916**\n",
    "\n",
    "\n",
    "**Accuracy of the model with optimizer  RMSprop :  0.9734**\n",
    "\n",
    "**ROC AUC score:  0.7210**\n",
    "\n",
    "\n",
    "**Accuracy of the model with optimizer  SGD :  0.9739**\n",
    "\n",
    "**ROC AUC score:  0.7102**\n",
    "\n",
    "\n",
    "**Accuracy of the model with optimizer  Adagrad :  0.974**\n",
    "\n",
    "**ROC AUC score:  0.7102**\n",
    "\n",
    "\n",
    "**Accuracy of the model with optimizer  Adadelta :  0.9741**\n",
    "\n",
    "**ROC AUC score:  0.7103**\n",
    "\n",
    "\n",
    "**Accuracy of the model with optimizer  Adamax :  0.975**\n",
    "\n",
    "**ROC AUC score:  0.6905**\n",
    "\n",
    "\n",
    "**Accuracy of the model with optimizer  Nadam :  0.9755**\n",
    "\n",
    "**ROC AUC score:  0.6704**\n",
    "\n",
    "Podemos observar que el mejor optimizador es **RMSprop**, con una elevada **roc auc score = 0,72**\n",
    "\n",
    "A partir de las predicciones del modelo, aplicamos un threshold.\n",
    "\n",
    "**Accuracy with custom threshold:  0.9755**\n",
    "\n",
    "**ROC AUC score with custom threshold:  0.8826**\n",
    "\n",
    "A partir de la curva ROC AUC, observamos que la precisión aumenta gradualmente.\n",
    "\n",
    "En la matriz de confusión, podemos ver que el modelo predice correctamente los valores positivos con una alta probabilidad, pero tiene un rendimiento inferior para los valores negativos.\n",
    "\n",
    "---"
   ]
  },
  {
   "cell_type": "markdown",
   "metadata": {},
   "source": [
    "En el análisis del modelo basado en tokens de palabras, se obtuvo el mejor resultado con una puntuación ROC AUC de 0,92. Este resultado se alcanzó utilizando el clasificador lineal Support Vector Machines (SVM) junto con la aplicación de un threshold.\n",
    "\n",
    "En cuanto a las matrices de confusión, el modelo basado en análisis morfosintáctico, el mejor resultado lo obtenemos con el clasificador SGD y luego un threshold. Los resultados son: True Positive = 9733, True Negative = 23 False Positive = 238, False Negative = 3.\n",
    "\n",
    "---"
   ]
  }
 ],
 "metadata": {
  "kernelspec": {
   "display_name": "Python 3",
   "language": "python",
   "name": "python3"
  },
  "language_info": {
   "codemirror_mode": {
    "name": "ipython",
    "version": 3
   },
   "file_extension": ".py",
   "mimetype": "text/x-python",
   "name": "python",
   "nbconvert_exporter": "python",
   "pygments_lexer": "ipython3",
   "version": "3.10.14"
  }
 },
 "nbformat": 4,
 "nbformat_minor": 1
}
