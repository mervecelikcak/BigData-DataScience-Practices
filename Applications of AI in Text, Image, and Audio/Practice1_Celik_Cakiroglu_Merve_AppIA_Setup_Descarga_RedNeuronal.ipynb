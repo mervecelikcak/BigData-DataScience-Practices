{
  "cells": [
    {
      "cell_type": "markdown",
      "metadata": {
        "id": "OrScii-5hJE4"
      },
      "source": [
        "# **1. Setup**"
      ]
    },
    {
      "cell_type": "markdown",
      "metadata": {
        "id": "JZAXh9gdZ-dw"
      },
      "source": [
        "# PARTE 1 - DESARROLLO\n",
        "\n",
        "## Establecer Entorno de Trabajo"
      ]
    },
    {
      "cell_type": "code",
      "execution_count": 1,
      "metadata": {
        "colab": {
          "base_uri": "https://localhost:8080/",
          "height": 35
        },
        "id": "B_Ysx_EFY9Il",
        "outputId": "a105af0f-3a49-41ee-d9e9-5f90d99d822f"
      },
      "outputs": [
        {
          "data": {
            "application/vnd.google.colaboratory.intrinsic+json": {
              "type": "string"
            },
            "text/plain": [
              "'3.10.12 (main, Nov 20 2023, 15:14:05) [GCC 11.4.0]'"
            ]
          },
          "execution_count": 1,
          "metadata": {},
          "output_type": "execute_result"
        }
      ],
      "source": [
        "# Check python version\n",
        "import sys\n",
        "sys.version"
      ]
    },
    {
      "cell_type": "code",
      "execution_count": 2,
      "metadata": {
        "colab": {
          "base_uri": "https://localhost:8080/"
        },
        "id": "2TEELlBoY9In",
        "outputId": "573bf22d-e09f-482c-de6d-862f8a31c5d5"
      },
      "outputs": [
        {
          "name": "stdout",
          "output_type": "stream",
          "text": [
            "/bin/bash: line 1: nvidia-smi: command not found\n"
          ]
        }
      ],
      "source": [
        "!nvidia-smi"
      ]
    },
    {
      "cell_type": "markdown",
      "metadata": {
        "id": "mZx66L5SbYWN"
      },
      "source": [
        "### Instalacion de paquetes necesarios"
      ]
    },
    {
      "cell_type": "code",
      "execution_count": 3,
      "metadata": {
        "colab": {
          "base_uri": "https://localhost:8080/"
        },
        "id": "fSzzzm-3Y9In",
        "outputId": "777c6e2c-bb63-406d-a174-586daba19807"
      },
      "outputs": [
        {
          "name": "stdout",
          "output_type": "stream",
          "text": [
            "Looking in indexes: https://download.pytorch.org/whl/cu118\n",
            "Collecting torch==2.2.2\n",
            "  Downloading https://download.pytorch.org/whl/cu118/torch-2.2.2%2Bcu118-cp310-cp310-linux_x86_64.whl (819.2 MB)\n",
            "\u001b[2K     \u001b[90m━━━━━━━━━━━━━━━━━━━━━━━━━━━━━━━━━━━━━━━━\u001b[0m \u001b[32m819.2/819.2 MB\u001b[0m \u001b[31m1.4 MB/s\u001b[0m eta \u001b[36m0:00:00\u001b[0m\n",
            "\u001b[?25hCollecting torchvision==0.17.2\n",
            "  Downloading https://download.pytorch.org/whl/cu118/torchvision-0.17.2%2Bcu118-cp310-cp310-linux_x86_64.whl (6.2 MB)\n",
            "\u001b[2K     \u001b[90m━━━━━━━━━━━━━━━━━━━━━━━━━━━━━━━━━━━━━━━━\u001b[0m \u001b[32m6.2/6.2 MB\u001b[0m \u001b[31m79.3 MB/s\u001b[0m eta \u001b[36m0:00:00\u001b[0m\n",
            "\u001b[?25hCollecting torchaudio==2.2.2\n",
            "  Downloading https://download.pytorch.org/whl/cu118/torchaudio-2.2.2%2Bcu118-cp310-cp310-linux_x86_64.whl (3.3 MB)\n",
            "\u001b[2K     \u001b[90m━━━━━━━━━━━━━━━━━━━━━━━━━━━━━━━━━━━━━━━━\u001b[0m \u001b[32m3.3/3.3 MB\u001b[0m \u001b[31m75.8 MB/s\u001b[0m eta \u001b[36m0:00:00\u001b[0m\n",
            "\u001b[?25hRequirement already satisfied: filelock in /usr/local/lib/python3.10/dist-packages (from torch==2.2.2) (3.14.0)\n",
            "Requirement already satisfied: typing-extensions>=4.8.0 in /usr/local/lib/python3.10/dist-packages (from torch==2.2.2) (4.12.1)\n",
            "Requirement already satisfied: sympy in /usr/local/lib/python3.10/dist-packages (from torch==2.2.2) (1.12.1)\n",
            "Requirement already satisfied: networkx in /usr/local/lib/python3.10/dist-packages (from torch==2.2.2) (3.3)\n",
            "Requirement already satisfied: jinja2 in /usr/local/lib/python3.10/dist-packages (from torch==2.2.2) (3.1.4)\n",
            "Requirement already satisfied: fsspec in /usr/local/lib/python3.10/dist-packages (from torch==2.2.2) (2023.6.0)\n",
            "Collecting nvidia-cuda-nvrtc-cu11==11.8.89 (from torch==2.2.2)\n",
            "  Downloading https://download.pytorch.org/whl/cu118/nvidia_cuda_nvrtc_cu11-11.8.89-py3-none-manylinux1_x86_64.whl (23.2 MB)\n",
            "\u001b[2K     \u001b[90m━━━━━━━━━━━━━━━━━━━━━━━━━━━━━━━━━━━━━━━━\u001b[0m \u001b[32m23.2/23.2 MB\u001b[0m \u001b[31m56.7 MB/s\u001b[0m eta \u001b[36m0:00:00\u001b[0m\n",
            "\u001b[?25hCollecting nvidia-cuda-runtime-cu11==11.8.89 (from torch==2.2.2)\n",
            "  Downloading https://download.pytorch.org/whl/cu118/nvidia_cuda_runtime_cu11-11.8.89-py3-none-manylinux1_x86_64.whl (875 kB)\n",
            "\u001b[2K     \u001b[90m━━━━━━━━━━━━━━━━━━━━━━━━━━━━━━━━━━━━━━━━\u001b[0m \u001b[32m875.6/875.6 kB\u001b[0m \u001b[31m55.4 MB/s\u001b[0m eta \u001b[36m0:00:00\u001b[0m\n",
            "\u001b[?25hCollecting nvidia-cuda-cupti-cu11==11.8.87 (from torch==2.2.2)\n",
            "  Downloading https://download.pytorch.org/whl/cu118/nvidia_cuda_cupti_cu11-11.8.87-py3-none-manylinux1_x86_64.whl (13.1 MB)\n",
            "\u001b[2K     \u001b[90m━━━━━━━━━━━━━━━━━━━━━━━━━━━━━━━━━━━━━━━━\u001b[0m \u001b[32m13.1/13.1 MB\u001b[0m \u001b[31m79.3 MB/s\u001b[0m eta \u001b[36m0:00:00\u001b[0m\n",
            "\u001b[?25hCollecting nvidia-cudnn-cu11==8.7.0.84 (from torch==2.2.2)\n",
            "  Downloading https://download.pytorch.org/whl/cu118/nvidia_cudnn_cu11-8.7.0.84-py3-none-manylinux1_x86_64.whl (728.5 MB)\n",
            "\u001b[2K     \u001b[90m━━━━━━━━━━━━━━━━━━━━━━━━━━━━━━━━━━━━━━━━\u001b[0m \u001b[32m728.5/728.5 MB\u001b[0m \u001b[31m1.6 MB/s\u001b[0m eta \u001b[36m0:00:00\u001b[0m\n",
            "\u001b[?25hCollecting nvidia-cublas-cu11==11.11.3.6 (from torch==2.2.2)\n",
            "  Downloading https://download.pytorch.org/whl/cu118/nvidia_cublas_cu11-11.11.3.6-py3-none-manylinux1_x86_64.whl (417.9 MB)\n",
            "\u001b[2K     \u001b[90m━━━━━━━━━━━━━━━━━━━━━━━━━━━━━━━━━━━━━━━━\u001b[0m \u001b[32m417.9/417.9 MB\u001b[0m \u001b[31m2.3 MB/s\u001b[0m eta \u001b[36m0:00:00\u001b[0m\n",
            "\u001b[?25hCollecting nvidia-cufft-cu11==10.9.0.58 (from torch==2.2.2)\n",
            "  Downloading https://download.pytorch.org/whl/cu118/nvidia_cufft_cu11-10.9.0.58-py3-none-manylinux1_x86_64.whl (168.4 MB)\n",
            "\u001b[2K     \u001b[90m━━━━━━━━━━━━━━━━━━━━━━━━━━━━━━━━━━━━━━━━\u001b[0m \u001b[32m168.4/168.4 MB\u001b[0m \u001b[31m7.7 MB/s\u001b[0m eta \u001b[36m0:00:00\u001b[0m\n",
            "\u001b[?25hCollecting nvidia-curand-cu11==10.3.0.86 (from torch==2.2.2)\n",
            "  Downloading https://download.pytorch.org/whl/cu118/nvidia_curand_cu11-10.3.0.86-py3-none-manylinux1_x86_64.whl (58.1 MB)\n",
            "\u001b[2K     \u001b[90m━━━━━━━━━━━━━━━━━━━━━━━━━━━━━━━━━━━━━━━━\u001b[0m \u001b[32m58.1/58.1 MB\u001b[0m \u001b[31m10.9 MB/s\u001b[0m eta \u001b[36m0:00:00\u001b[0m\n",
            "\u001b[?25hCollecting nvidia-cusolver-cu11==11.4.1.48 (from torch==2.2.2)\n",
            "  Downloading https://download.pytorch.org/whl/cu118/nvidia_cusolver_cu11-11.4.1.48-py3-none-manylinux1_x86_64.whl (128.2 MB)\n",
            "\u001b[2K     \u001b[90m━━━━━━━━━━━━━━━━━━━━━━━━━━━━━━━━━━━━━━━━\u001b[0m \u001b[32m128.2/128.2 MB\u001b[0m \u001b[31m6.7 MB/s\u001b[0m eta \u001b[36m0:00:00\u001b[0m\n",
            "\u001b[?25hCollecting nvidia-cusparse-cu11==11.7.5.86 (from torch==2.2.2)\n",
            "  Downloading https://download.pytorch.org/whl/cu118/nvidia_cusparse_cu11-11.7.5.86-py3-none-manylinux1_x86_64.whl (204.1 MB)\n",
            "\u001b[2K     \u001b[90m━━━━━━━━━━━━━━━━━━━━━━━━━━━━━━━━━━━━━━━━\u001b[0m \u001b[32m204.1/204.1 MB\u001b[0m \u001b[31m2.6 MB/s\u001b[0m eta \u001b[36m0:00:00\u001b[0m\n",
            "\u001b[?25hCollecting nvidia-nccl-cu11==2.19.3 (from torch==2.2.2)\n",
            "  Downloading https://download.pytorch.org/whl/cu118/nvidia_nccl_cu11-2.19.3-py3-none-manylinux1_x86_64.whl (135.3 MB)\n",
            "\u001b[2K     \u001b[90m━━━━━━━━━━━━━━━━━━━━━━━━━━━━━━━━━━━━━━━━\u001b[0m \u001b[32m135.3/135.3 MB\u001b[0m \u001b[31m8.5 MB/s\u001b[0m eta \u001b[36m0:00:00\u001b[0m\n",
            "\u001b[?25hCollecting nvidia-nvtx-cu11==11.8.86 (from torch==2.2.2)\n",
            "  Downloading https://download.pytorch.org/whl/cu118/nvidia_nvtx_cu11-11.8.86-py3-none-manylinux1_x86_64.whl (99 kB)\n",
            "\u001b[2K     \u001b[90m━━━━━━━━━━━━━━━━━━━━━━━━━━━━━━━━━━━━━━━━\u001b[0m \u001b[32m99.1/99.1 kB\u001b[0m \u001b[31m10.4 MB/s\u001b[0m eta \u001b[36m0:00:00\u001b[0m\n",
            "\u001b[?25hCollecting triton==2.2.0 (from torch==2.2.2)\n",
            "  Downloading https://download.pytorch.org/whl/triton-2.2.0-cp310-cp310-manylinux_2_17_x86_64.manylinux2014_x86_64.whl (167.9 MB)\n",
            "\u001b[2K     \u001b[90m━━━━━━━━━━━━━━━━━━━━━━━━━━━━━━━━━━━━━━━━\u001b[0m \u001b[32m167.9/167.9 MB\u001b[0m \u001b[31m2.6 MB/s\u001b[0m eta \u001b[36m0:00:00\u001b[0m\n",
            "\u001b[?25hRequirement already satisfied: numpy in /usr/local/lib/python3.10/dist-packages (from torchvision==0.17.2) (1.25.2)\n",
            "Requirement already satisfied: pillow!=8.3.*,>=5.3.0 in /usr/local/lib/python3.10/dist-packages (from torchvision==0.17.2) (9.4.0)\n",
            "Requirement already satisfied: MarkupSafe>=2.0 in /usr/local/lib/python3.10/dist-packages (from jinja2->torch==2.2.2) (2.1.5)\n",
            "Requirement already satisfied: mpmath<1.4.0,>=1.1.0 in /usr/local/lib/python3.10/dist-packages (from sympy->torch==2.2.2) (1.3.0)\n",
            "Installing collected packages: triton, nvidia-nvtx-cu11, nvidia-nccl-cu11, nvidia-cusparse-cu11, nvidia-curand-cu11, nvidia-cufft-cu11, nvidia-cuda-runtime-cu11, nvidia-cuda-nvrtc-cu11, nvidia-cuda-cupti-cu11, nvidia-cublas-cu11, nvidia-cusolver-cu11, nvidia-cudnn-cu11, torch, torchvision, torchaudio\n",
            "  Attempting uninstall: triton\n",
            "    Found existing installation: triton 2.3.0\n",
            "    Uninstalling triton-2.3.0:\n",
            "      Successfully uninstalled triton-2.3.0\n",
            "  Attempting uninstall: torch\n",
            "    Found existing installation: torch 2.3.0+cu121\n",
            "    Uninstalling torch-2.3.0+cu121:\n",
            "      Successfully uninstalled torch-2.3.0+cu121\n",
            "  Attempting uninstall: torchvision\n",
            "    Found existing installation: torchvision 0.18.0+cu121\n",
            "    Uninstalling torchvision-0.18.0+cu121:\n",
            "      Successfully uninstalled torchvision-0.18.0+cu121\n",
            "  Attempting uninstall: torchaudio\n",
            "    Found existing installation: torchaudio 2.3.0+cu121\n",
            "    Uninstalling torchaudio-2.3.0+cu121:\n",
            "      Successfully uninstalled torchaudio-2.3.0+cu121\n",
            "\u001b[31mERROR: pip's dependency resolver does not currently take into account all the packages that are installed. This behaviour is the source of the following dependency conflicts.\n",
            "torchtext 0.18.0 requires torch>=2.3.0, but you have torch 2.2.2+cu118 which is incompatible.\u001b[0m\u001b[31m\n",
            "\u001b[0mSuccessfully installed nvidia-cublas-cu11-11.11.3.6 nvidia-cuda-cupti-cu11-11.8.87 nvidia-cuda-nvrtc-cu11-11.8.89 nvidia-cuda-runtime-cu11-11.8.89 nvidia-cudnn-cu11-8.7.0.84 nvidia-cufft-cu11-10.9.0.58 nvidia-curand-cu11-10.3.0.86 nvidia-cusolver-cu11-11.4.1.48 nvidia-cusparse-cu11-11.7.5.86 nvidia-nccl-cu11-2.19.3 nvidia-nvtx-cu11-11.8.86 torch-2.2.2+cu118 torchaudio-2.2.2+cu118 torchvision-0.17.2+cu118 triton-2.2.0\n"
          ]
        }
      ],
      "source": [
        "# Install pytorch for python 3.10 with CUDA 11.8 support\n",
        "!pip3 install torch==2.2.2 torchvision==0.17.2 torchaudio==2.2.2 --index-url https://download.pytorch.org/whl/cu118"
      ]
    },
    {
      "cell_type": "code",
      "execution_count": 4,
      "metadata": {
        "colab": {
          "base_uri": "https://localhost:8080/"
        },
        "id": "9tNr4GLBSUzY",
        "outputId": "1a8e8d89-6c58-4417-9395-e8d42547fef9"
      },
      "outputs": [
        {
          "name": "stdout",
          "output_type": "stream",
          "text": [
            "Requirement already satisfied: Pillow==9.4.0 in /usr/local/lib/python3.10/dist-packages (9.4.0)\n",
            "Name: Pillow\n",
            "Version: 9.4.0\n",
            "Summary: Python Imaging Library (Fork)\n",
            "Home-page: https://python-pillow.org\n",
            "Author: Alex Clark (PIL Fork Author)\n",
            "Author-email: aclark@python-pillow.org\n",
            "License: HPND\n",
            "Location: /usr/local/lib/python3.10/dist-packages\n",
            "Requires: \n",
            "Required-by: bokeh, dopamine_rl, fastai, imageio, imgaug, matplotlib, scikit-image, torchvision, wordcloud\n"
          ]
        }
      ],
      "source": [
        "!pip install Pillow==9.4.0\n",
        "!pip show pillow #check pillow version"
      ]
    },
    {
      "cell_type": "code",
      "execution_count": 5,
      "metadata": {
        "colab": {
          "base_uri": "https://localhost:8080/"
        },
        "id": "yqAWqJiEbxoz",
        "outputId": "b7873907-ec70-4200-f65e-c0e374913de1"
      },
      "outputs": [
        {
          "name": "stdout",
          "output_type": "stream",
          "text": [
            "Mounted at /content/gdrive\n"
          ]
        }
      ],
      "source": [
        "from google.colab import drive\n",
        "drive.mount('/content/gdrive')"
      ]
    },
    {
      "cell_type": "code",
      "execution_count": 6,
      "metadata": {
        "id": "muOvZswOAbU3"
      },
      "outputs": [],
      "source": [
        "# !mkdir /content/gdrive/My\\ Drive/P1aplicacionesIA"
      ]
    },
    {
      "cell_type": "code",
      "execution_count": 7,
      "metadata": {
        "id": "fKJTSU_H8Jcy"
      },
      "outputs": [],
      "source": [
        "# !ls /content/gdrive/My\\ Drive/P1aplicacionesIA"
      ]
    },
    {
      "cell_type": "code",
      "execution_count": 8,
      "metadata": {
        "colab": {
          "base_uri": "https://localhost:8080/"
        },
        "id": "ywTuEnh4Y9In",
        "outputId": "d9516462-a952-4d30-c993-a5cdf918c7ab"
      },
      "outputs": [
        {
          "name": "stdout",
          "output_type": "stream",
          "text": [
            "/content/gdrive/My Drive/P1aplicacionesIA\n"
          ]
        }
      ],
      "source": [
        "#move to a specific directory\n",
        "import os\n",
        "os.chdir('/content/gdrive/My Drive/P1aplicacionesIA/')\n",
        "!pwd"
      ]
    },
    {
      "cell_type": "markdown",
      "metadata": {
        "id": "T_2zEo0dhnMH"
      },
      "source": [
        "# **2. Carga de conjuntos de datos/imágenes (datasets)**"
      ]
    },
    {
      "cell_type": "markdown",
      "metadata": {
        "id": "vY_UU7m1hqM4"
      },
      "source": [
        "## Manejo de Datasets\n"
      ]
    },
    {
      "cell_type": "markdown",
      "metadata": {
        "id": "9s5bx2CAkQBY"
      },
      "source": [
        "### Datasets por defecto\n",
        "\n",
        "#### Descarga CIFAR10"
      ]
    },
    {
      "cell_type": "code",
      "execution_count": 37,
      "metadata": {
        "id": "xZU0bBsB1yTs"
      },
      "outputs": [],
      "source": [
        "import subprocess\n",
        "import os\n",
        "import torch\n",
        "import torchvision\n",
        "from torchvision import datasets\n",
        "import torchvision.transforms as transforms\n",
        "import matplotlib.pyplot as plt\n",
        "import numpy as np\n",
        "from PIL import Image\n",
        "import torch.nn as nn\n",
        "import torch.nn.functional as F\n",
        "from torch.autograd import Variable\n",
        "import torch.optim as optim"
      ]
    },
    {
      "cell_type": "code",
      "execution_count": 38,
      "metadata": {
        "colab": {
          "base_uri": "https://localhost:8080/"
        },
        "id": "Z4hL1BAB4N3e",
        "outputId": "8bbdc621-7e1b-44fd-f651-03761e5585a4"
      },
      "outputs": [
        {
          "name": "stdout",
          "output_type": "stream",
          "text": [
            "Files already downloaded and verified\n",
            "Files already downloaded and verified\n",
            "Train dataset with 50000 images\n",
            "Test dataset with 10000 images\n"
          ]
        }
      ],
      "source": [
        "transform = transforms.Compose([transforms.ToTensor(), transforms.Normalize((0.5,0.5,0.5),(0.5,0.5,0.5))])\n",
        "download_dir = './data' #download directory\n",
        "trainset = torchvision.datasets.CIFAR10(root=download_dir, train=True, download=True, transform=transform) #train set\n",
        "testset = torchvision.datasets.CIFAR10(root=download_dir, train=False, download=True, transform=transform) #test set\n",
        "\n",
        "print('Train dataset with ' + str(len(trainset)) + ' images')\n",
        "print('Test dataset with ' + str(len(testset)) + ' images')"
      ]
    },
    {
      "cell_type": "code",
      "execution_count": 39,
      "metadata": {
        "colab": {
          "base_uri": "https://localhost:8080/"
        },
        "id": "fO_BPrGM37-u",
        "outputId": "d4dc1f1a-3abd-4049-c22c-a23078335f30"
      },
      "outputs": [
        {
          "name": "stdout",
          "output_type": "stream",
          "text": [
            "Loaders done.\n",
            "Each batch with 6 samples/images\n",
            "Train dataset with 8334 batches\n",
            "Test dataset with 1667 lotes\n",
            "Available classes:\n",
            "('plane', 'car', 'bird', 'deer', 'dog', 'frog', 'horse', 'ship', 'truck')\n"
          ]
        }
      ],
      "source": [
        "# number of samples/images per group\n",
        "batch_size = 6\n",
        "\n",
        "#load & convert images to tensors in Python\n",
        "trainloader = torch.utils.data.DataLoader(trainset, batch_size, shuffle=True, num_workers=2)\n",
        "trainloader_len = len(trainloader)\n",
        "\n",
        "testloader = torch.utils.data.DataLoader(testset, batch_size, shuffle=False, num_workers=2)\n",
        "testloader_len = len(testloader)\n",
        "\n",
        "classes = ('plane', 'car', 'bird', 'deer', 'dog', 'frog', 'horse', 'ship', 'truck')\n",
        "\n",
        "print('Loaders done.')\n",
        "print('Each batch with ' + str(batch_size) + ' samples/images')\n",
        "print(f\"Train dataset with {trainloader_len} batches\")\n",
        "print(f\"Test dataset with {testloader_len} batches\")\n",
        "print('Available classes:')\n",
        "print(classes)"
      ]
    },
    {
      "cell_type": "markdown",
      "metadata": {
        "id": "SVI3UGlZ-17M"
      },
      "source": [
        "#### Visualización"
      ]
    },
    {
      "cell_type": "code",
      "execution_count": 40,
      "metadata": {
        "id": "0PVIW_3CkTgv"
      },
      "outputs": [],
      "source": [
        "# function to un-normalize and display an image\n",
        "def imshow(img):\n",
        "  img = img / 2 + 0.5 #desnormalizar\n",
        "  npimg = img.numpy()\n",
        "  plt.imshow(np.transpose(npimg, (1,2,0)))"
      ]
    },
    {
      "cell_type": "code",
      "execution_count": 41,
      "metadata": {
        "colab": {
          "base_uri": "https://localhost:8080/",
          "height": 168
        },
        "id": "kEcoQjv25eaz",
        "outputId": "568e7cb6-d15b-462a-c673-7a36a8cdc455"
      },
      "outputs": [
        {
          "name": "stdout",
          "output_type": "stream",
          "text": [
            "deer truck truck plane horse horse "
          ]
        },
        {
          "data": {
            "image/png": "[encoded data removed]",
            "text/plain": [
              "<Figure size 640x480 with 1 Axes>"
            ]
          },
          "metadata": {},
          "output_type": "display_data"
        }
      ],
      "source": [
        "dataiter = iter(testloader)\n",
        "images, labels = next(dataiter)\n",
        "\n",
        "# Concatenate images\n",
        "imgconcat = torchvision.utils.make_grid(images)\n",
        "\n",
        "# Show image\n",
        "imshow(imgconcat)\n",
        "\n",
        "# Print labels\n",
        "for i in range(batch_size):\n",
        "  print(classes[labels[i]], end=' ')\n",
        "\n"
      ]
    },
    {
      "cell_type": "markdown",
      "metadata": {
        "id": "JkYokqfHk1cy"
      },
      "source": [
        "### Bonus Transformaciones de Los Datos"
      ]
    },
    {
      "cell_type": "code",
      "execution_count": 42,
      "metadata": {
        "colab": {
          "base_uri": "https://localhost:8080/",
          "height": 447
        },
        "id": "hyaKgzevkTjc",
        "outputId": "63300e8a-fec9-4e6e-a37d-b8f8ea7c249e"
      },
      "outputs": [
        {
          "name": "stdout",
          "output_type": "stream",
          "text": [
            " deer\n"
          ]
        },
        {
          "data": {
            "image/png": "[encoded data removed]",
            "text/plain": [
              "<Figure size 640x480 with 1 Axes>"
            ]
          },
          "metadata": {},
          "output_type": "display_data"
        }
      ],
      "source": [
        "#load a sample batch from previous section\n",
        "dataiter = iter(trainloader)\n",
        "images, labels = next(dataiter)\n",
        "\n",
        "#display first image of the batch\n",
        "imshow(images[0])\n",
        "print ('%5s' % classes[labels[0]])"
      ]
    },
    {
      "cell_type": "code",
      "execution_count": 44,
      "metadata": {
        "colab": {
          "base_uri": "https://localhost:8080/",
          "height": 447
        },
        "id": "ysgSJSRMkTmK",
        "outputId": "28390b9d-449e-4bed-82c4-600aea78844c"
      },
      "outputs": [
        {
          "name": "stdout",
          "output_type": "stream",
          "text": [
            " deer\n"
          ]
        },
        {
          "data": {
            "image/png": "[encoded data removed]",
            "text/plain": [
              "<Figure size 640x480 with 1 Axes>"
            ]
          },
          "metadata": {},
          "output_type": "display_data"
        }
      ],
      "source": [
        "to_pil_image = transforms.ToPILImage()\n",
        "\n",
        "img = to_pil_image(images[0])\n",
        "imtran = transform(img)\n",
        "imshow(imtran)\n",
        "print ('%5s' % classes[labels[0]])"
      ]
    },
    {
      "cell_type": "markdown",
      "metadata": {
        "id": "hGdwYMC_h3Vh"
      },
      "source": [
        "# **3. Definición de la red neuronal convolucional**"
      ]
    },
    {
      "cell_type": "code",
      "execution_count": 45,
      "metadata": {
        "colab": {
          "base_uri": "https://localhost:8080/"
        },
        "id": "UapcRE8TAf8r",
        "outputId": "1a5cf7c6-d3fe-4576-c272-ecd3f3cd0b15"
      },
      "outputs": [
        {
          "name": "stdout",
          "output_type": "stream",
          "text": [
            "Net(\n",
            "  (conv1): Conv2d(3, 16, kernel_size=(3, 3), stride=(1, 1), padding=(1, 1))\n",
            "  (conv2): Conv2d(16, 32, kernel_size=(3, 3), stride=(1, 1), padding=(1, 1))\n",
            "  (conv3): Conv2d(32, 64, kernel_size=(3, 3), stride=(1, 1), padding=(1, 1))\n",
            "  (pool): MaxPool2d(kernel_size=2, stride=2, padding=0, dilation=1, ceil_mode=False)\n",
            "  (fc1): Linear(in_features=1024, out_features=120, bias=True)\n",
            "  (fc2): Linear(in_features=120, out_features=60, bias=True)\n",
            "  (fc3): Linear(in_features=60, out_features=10, bias=True)\n",
            "  (dropout): Dropout(p=0.25, inplace=False)\n",
            ")\n"
          ]
        }
      ],
      "source": [
        "class Net(nn.Module):\n",
        "  def __init__(self):\n",
        "    super(Net,self).__init__()\n",
        "\n",
        "    # Convolutional Layer\n",
        "    self.conv1 = nn.Conv2d(3,16,3, padding=1)\n",
        "    self.conv2 = nn.Conv2d(16,32,3,padding=1)\n",
        "    self.conv3 = nn.Conv2d(32,64,3,padding=1)\n",
        "    self.pool = nn.MaxPool2d(2,2)\n",
        "    self.fc1 = nn.Linear(64*4*4,120)\n",
        "    self.fc2 = nn.Linear(120, 60)\n",
        "    self.fc3 = nn.Linear(60,10)\n",
        "    self.dropout = nn.Dropout(0.25)\n",
        "\n",
        "  def forward(self, x):\n",
        "\n",
        "    x =  self.pool(F.relu(self.conv1(x)))\n",
        "    x =  self.pool(F.relu(self.conv2(x)))\n",
        "    x =  self.pool(F.relu(self.conv3(x)))\n",
        "    x =  x.view(-1,64*4*4)\n",
        "    x =  self.dropout(x)\n",
        "    x = F.relu(self.fc1(x))\n",
        "    x =  self.dropout(x)\n",
        "    x = F.relu(self.fc2(x))\n",
        "    x =  self.dropout(x)\n",
        "    x = self.fc3(x)\n",
        "    return x\n",
        "\n",
        "\n",
        "model = Net()\n",
        "print(model)"
      ]
    },
    {
      "cell_type": "code",
      "execution_count": 46,
      "metadata": {
        "id": "kJGrIuceAf-a"
      },
      "outputs": [],
      "source": [
        "criterion = nn.CrossEntropyLoss()\n",
        "optimizer = optim.SGD(model.parameters(), lr=0.001, momentum=0.9)"
      ]
    },
    {
      "cell_type": "code",
      "execution_count": 47,
      "metadata": {
        "colab": {
          "base_uri": "https://localhost:8080/"
        },
        "id": "dGUBkwkeAgA6",
        "outputId": "4b2cd3be-4e89-4b43-af99-283d2bd40578"
      },
      "outputs": [
        {
          "name": "stdout",
          "output_type": "stream",
          "text": [
            "[1, 2000] loss: 2.290027562022209\n",
            "[1, 4000] loss: 2.0190899024605753\n",
            "[1, 6000] loss: 1.8048909222185612\n",
            "[1, 8000] loss: 1.680369874984026\n",
            "Epoch: 1\n",
            "Average accuracy on the training set: 0.39354\n",
            "Average accuracy on the test set: 0.3918\n"
          ]
        },
        {
          "name": "stderr",
          "output_type": "stream",
          "text": [
            "<ipython-input-47-6d1c39cbd8a7>:49: UserWarning: volatile was removed and now has no effect. Use `with torch.no_grad():` instead.\n",
            "  data, target = Variable(data, volatile=True), Variable(target)\n"
          ]
        },
        {
          "name": "stdout",
          "output_type": "stream",
          "text": [
            "Epoch: 1, Training Loss: 0.010778877415657043, Test Loss: 0.25604259900450704\n",
            "[2, 2000] loss: 1.4888835453391076\n",
            "[2, 4000] loss: 1.3957219253480435\n",
            "[2, 6000] loss: 1.284238545715809\n",
            "[2, 8000] loss: 1.2290446592196822\n",
            "Epoch: 2\n",
            "Average accuracy on the training set: 0.5846\n",
            "Average accuracy on the test set: 0.576\n",
            "Epoch: 2, Training Loss: 0.008005805959701538, Test Loss: 0.19425799431800841\n",
            "[3, 2000] loss: 1.1315023749023676\n",
            "[3, 4000] loss: 1.0858975495956837\n",
            "[3, 6000] loss: 1.0310169589817524\n",
            "[3, 8000] loss: 0.9782059528212994\n",
            "Epoch: 3\n",
            "Average accuracy on the training set: 0.66972\n",
            "Average accuracy on the test set: 0.6457\n",
            "Epoch: 3, Training Loss: 0.006508630061000585, Test Loss: 0.1696136837296188\n",
            "[4, 2000] loss: 0.9221344244852662\n",
            "[4, 4000] loss: 0.8894605506174267\n",
            "[4, 6000] loss: 0.8675466076284647\n",
            "[4, 8000] loss: 0.8583699518553912\n",
            "Epoch: 4\n",
            "Average accuracy on the training set: 0.7311\n",
            "Average accuracy on the test set: 0.6906\n",
            "Epoch: 4, Training Loss: 0.005604440536666661, Test Loss: 0.14751335892528294\n",
            "[5, 2000] loss: 0.762533077810891\n",
            "[5, 4000] loss: 0.7806716417055577\n",
            "[5, 6000] loss: 0.7897645646678284\n",
            "[5, 8000] loss: 0.7561270842440426\n",
            "Epoch: 5\n",
            "Average accuracy on the training set: 0.77538\n",
            "Average accuracy on the test set: 0.7147\n",
            "Epoch: 5, Training Loss: 0.004950727674514055, Test Loss: 0.1374313693843782\n",
            "[6, 2000] loss: 0.6715594882224687\n",
            "[6, 4000] loss: 0.6975220057535917\n",
            "[6, 6000] loss: 0.6910031187816057\n",
            "[6, 8000] loss: 0.6777463053213433\n",
            "Epoch: 6\n",
            "Average accuracy on the training set: 0.79116\n",
            "Average accuracy on the test set: 0.713\n",
            "Epoch: 6, Training Loss: 0.004474780975095928, Test Loss: 0.1404121688412968\n",
            "[7, 2000] loss: 0.5879490089608007\n",
            "[7, 4000] loss: 0.6242496301056817\n",
            "[7, 6000] loss: 0.608743826408172\n",
            "[7, 8000] loss: 0.6287355502697174\n",
            "Epoch: 7\n",
            "Average accuracy on the training set: 0.83222\n",
            "Average accuracy on the test set: 0.7294\n",
            "Epoch: 7, Training Loss: 0.004577268486637622, Test Loss: 0.129970217974158\n",
            "[8, 2000] loss: 0.5203847448056331\n",
            "[8, 4000] loss: 0.5628149314220063\n",
            "[8, 6000] loss: 0.5812256663071458\n",
            "[8, 8000] loss: 0.5707893756806152\n",
            "Epoch: 8\n",
            "Average accuracy on the training set: 0.83966\n",
            "Average accuracy on the test set: 0.7318\n",
            "Epoch: 8, Training Loss: 0.003826492657884955, Test Loss: 0.1338589107074775\n",
            "[9, 2000] loss: 0.4696983059271006\n",
            "[9, 4000] loss: 0.4930862194541842\n",
            "[9, 6000] loss: 0.5220152445012937\n",
            "[9, 8000] loss: 0.5193002355942153\n",
            "Epoch: 9\n",
            "Average accuracy on the training set: 0.85302\n",
            "Average accuracy on the test set: 0.7322\n",
            "Epoch: 9, Training Loss: 0.0032650960979703813, Test Loss: 0.1421034529632423\n",
            "[10, 2000] loss: 0.42088145947397426\n",
            "[10, 4000] loss: 0.4409735077577061\n",
            "[10, 6000] loss: 0.4846765102846548\n",
            "[10, 8000] loss: 0.4730369608987821\n",
            "Epoch: 10\n",
            "Average accuracy on the training set: 0.86044\n",
            "Average accuracy on the test set: 0.7177\n",
            "Epoch: 10, Training Loss: 0.0034083360086753964, Test Loss: 0.14868656509295106\n",
            "[11, 2000] loss: 0.366027838248614\n",
            "[11, 4000] loss: 0.4059230755839417\n",
            "[11, 6000] loss: 0.41749002711672073\n",
            "[11, 8000] loss: 0.4495122568449296\n",
            "Epoch: 11\n",
            "Average accuracy on the training set: 0.88664\n",
            "Average accuracy on the test set: 0.7245\n",
            "Epoch: 11, Training Loss: 0.0029109097334044055, Test Loss: 0.15341097776695387\n",
            "[12, 2000] loss: 0.33568767943428246\n",
            "[12, 4000] loss: 0.3679099097651852\n",
            "[12, 6000] loss: 0.3810796841948613\n",
            "[12, 8000] loss: 0.412511909857586\n",
            "Epoch: 12\n",
            "Average accuracy on the training set: 0.90242\n",
            "Average accuracy on the test set: 0.7282\n",
            "Epoch: 12, Training Loss: 0.0028436108985496686, Test Loss: 0.15699056160261388\n",
            "[13, 2000] loss: 0.29803824703187276\n",
            "[13, 4000] loss: 0.33384406021777796\n",
            "[13, 6000] loss: 0.3466998195946362\n",
            "[13, 8000] loss: 0.3704936339680571\n",
            "Epoch: 13\n",
            "Average accuracy on the training set: 0.90714\n",
            "Average accuracy on the test set: 0.7215\n",
            "Epoch: 13, Training Loss: 0.0024990945452079178, Test Loss: 0.1666567168849986\n",
            "[14, 2000] loss: 0.2708806660710725\n",
            "[14, 4000] loss: 0.2927682394393562\n",
            "[14, 6000] loss: 0.34132305270313007\n",
            "[14, 8000] loss: 0.3405768090681922\n",
            "Epoch: 14\n",
            "Average accuracy on the training set: 0.91514\n",
            "Average accuracy on the test set: 0.7207\n",
            "Epoch: 14, Training Loss: 0.002249044104521163, Test Loss: 0.1727268159649102\n",
            "[15, 2000] loss: 0.2341015024769913\n",
            "[15, 4000] loss: 0.2758423231982815\n",
            "[15, 6000] loss: 0.31394713460022283\n",
            "[15, 8000] loss: 0.31570556816188766\n",
            "Epoch: 15\n",
            "Average accuracy on the training set: 0.9227\n",
            "Average accuracy on the test set: 0.7225\n",
            "Epoch: 15, Training Loss: 0.0022977561183099102, Test Loss: 0.18354272975130007\n",
            "[16, 2000] loss: 0.21192662157484757\n",
            "[16, 4000] loss: 0.25200380672164285\n",
            "[16, 6000] loss: 0.27611316504046046\n",
            "[16, 8000] loss: 0.2863404243225268\n",
            "Epoch: 16\n",
            "Average accuracy on the training set: 0.9385\n",
            "Average accuracy on the test set: 0.7266\n",
            "Epoch: 16, Training Loss: 0.0019015696894552094, Test Loss: 0.19365771846413263\n",
            "[17, 2000] loss: 0.2073830050951583\n",
            "[17, 4000] loss: 0.23976130439696852\n",
            "[17, 6000] loss: 0.2691641313481814\n",
            "[17, 8000] loss: 0.28295915416436945\n",
            "Epoch: 17\n",
            "Average accuracy on the training set: 0.93758\n",
            "Average accuracy on the test set: 0.7182\n",
            "Epoch: 17, Training Loss: 0.0019746406310773455, Test Loss: 0.19086380543501583\n",
            "[18, 2000] loss: 0.17900462672581033\n",
            "[18, 4000] loss: 0.23296348694170957\n",
            "[18, 6000] loss: 0.23941010708268504\n",
            "[18, 8000] loss: 0.256124436378293\n",
            "Epoch: 18\n",
            "Average accuracy on the training set: 0.94022\n",
            "Average accuracy on the test set: 0.7242\n",
            "Epoch: 18, Training Loss: 0.0020177472815800864, Test Loss: 0.20017719127913225\n",
            "[19, 2000] loss: 0.1753080776692277\n",
            "[19, 4000] loss: 0.23036609226836485\n",
            "[19, 6000] loss: 0.23025349409426496\n",
            "[19, 8000] loss: 0.2518880968184594\n",
            "Epoch: 19\n",
            "Average accuracy on the training set: 0.9501\n",
            "Average accuracy on the test set: 0.7242\n",
            "Epoch: 19, Training Loss: 0.001667836522263242, Test Loss: 0.21434300396478137\n",
            "[20, 2000] loss: 0.15320845557475843\n",
            "[20, 4000] loss: 0.19079968343032724\n",
            "[20, 6000] loss: 0.20412558654150417\n",
            "[20, 8000] loss: 0.2302045502418696\n",
            "Epoch: 20\n",
            "Average accuracy on the training set: 0.95036\n",
            "Average accuracy on the test set: 0.7172\n",
            "Epoch: 20, Training Loss: 0.0012375285337677634, Test Loss: 0.22524118303421892\n",
            "[21, 2000] loss: 0.16150432477969298\n",
            "[21, 4000] loss: 0.20610695333203422\n",
            "[21, 6000] loss: 0.21157437535714552\n",
            "[21, 8000] loss: 0.22025447887883656\n",
            "Epoch: 21\n",
            "Average accuracy on the training set: 0.94788\n",
            "Average accuracy on the test set: 0.7221\n",
            "Epoch: 21, Training Loss: 0.0016843053750906529, Test Loss: 0.21352357626490556\n",
            "[22, 2000] loss: 0.13928160126384137\n",
            "[22, 4000] loss: 0.17854416946223403\n",
            "[22, 6000] loss: 0.1868344367262327\n",
            "[22, 8000] loss: 0.20508347518887193\n",
            "Epoch: 22\n",
            "Average accuracy on the training set: 0.9429\n",
            "Average accuracy on the test set: 0.7113\n",
            "Epoch: 22, Training Loss: 0.0017634844780841377, Test Loss: 0.23764181134020038\n",
            "[23, 2000] loss: 0.15128719151703887\n",
            "[23, 4000] loss: 0.17722358485153508\n",
            "[23, 6000] loss: 0.18523056025893805\n",
            "[23, 8000] loss: 0.2062748914988014\n",
            "Epoch: 23\n",
            "Average accuracy on the training set: 0.95692\n",
            "Average accuracy on the test set: 0.715\n",
            "Epoch: 23, Training Loss: 0.0013549282578602334, Test Loss: 0.2441455717485449\n",
            "[24, 2000] loss: 0.13819204564817164\n",
            "[24, 4000] loss: 0.16731268728103169\n",
            "[24, 6000] loss: 0.17251777985751784\n",
            "[24, 8000] loss: 0.18046264443313964\n",
            "Epoch: 24\n",
            "Average accuracy on the training set: 0.95738\n",
            "Average accuracy on the test set: 0.7107\n",
            "Epoch: 24, Training Loss: 0.0015149104575233672, Test Loss: 0.2507732644815798\n",
            "[25, 2000] loss: 0.1365265559419257\n",
            "[25, 4000] loss: 0.14983940415340102\n",
            "[25, 6000] loss: 0.17537516343506138\n",
            "[25, 8000] loss: 0.18319471903081427\n",
            "Epoch: 25\n",
            "Average accuracy on the training set: 0.94306\n",
            "Average accuracy on the test set: 0.7067\n",
            "Epoch: 25, Training Loss: 0.0014537897314840058, Test Loss: 0.2797709031374735\n",
            "[26, 2000] loss: 0.13130340387679315\n",
            "[26, 4000] loss: 0.15771742004339998\n",
            "[26, 6000] loss: 0.17618664771628356\n",
            "[26, 8000] loss: 0.18134183546689747\n",
            "Epoch: 26\n",
            "Average accuracy on the training set: 0.96358\n",
            "Average accuracy on the test set: 0.7151\n",
            "Epoch: 26, Training Loss: 0.001381677365742653, Test Loss: 0.24310580350676064\n",
            "[27, 2000] loss: 0.11251303094928\n",
            "[27, 4000] loss: 0.11717179236250587\n",
            "[27, 6000] loss: 0.17437078238848236\n",
            "[27, 8000] loss: 0.1876657101230394\n",
            "Epoch: 27\n",
            "Average accuracy on the training set: 0.97202\n",
            "Average accuracy on the test set: 0.73\n",
            "Epoch: 27, Training Loss: 0.0009050934118150781, Test Loss: 0.2607634552670293\n",
            "[28, 2000] loss: 0.10931597514248215\n",
            "[28, 4000] loss: 0.13788207278351072\n",
            "[28, 6000] loss: 0.16367324926907964\n",
            "[28, 8000] loss: 0.17748829944741476\n",
            "Epoch: 28\n",
            "Average accuracy on the training set: 0.95176\n",
            "Average accuracy on the test set: 0.7066\n",
            "Epoch: 28, Training Loss: 0.0011772785447370915, Test Loss: 0.2695036131245384\n",
            "[29, 2000] loss: 0.09760581954543245\n",
            "[29, 4000] loss: 0.132817947839803\n",
            "[29, 6000] loss: 0.16619688936395324\n",
            "[29, 8000] loss: 0.17162474058045774\n",
            "Epoch: 29\n",
            "Average accuracy on the training set: 0.95234\n",
            "Average accuracy on the test set: 0.7009\n",
            "Epoch: 29, Training Loss: 0.0010141901059009069, Test Loss: 0.2974092249508236\n",
            "[30, 2000] loss: 0.09870111700582328\n",
            "[30, 4000] loss: 0.11906074602295043\n",
            "[30, 6000] loss: 0.1586279464758182\n",
            "[30, 8000] loss: 0.15345020265546816\n",
            "Epoch: 30\n",
            "Average accuracy on the training set: 0.96072\n",
            "Average accuracy on the test set: 0.7102\n",
            "Epoch: 30, Training Loss: 0.0012168669169434043, Test Loss: 0.300133617635384\n",
            "Finished Training\n"
          ]
        }
      ],
      "source": [
        "# Training the model\n",
        "n_epochs = 30\n",
        "model.train()\n",
        "\n",
        "for epoch in range(n_epochs):\n",
        "    running_loss = 0.0\n",
        "    test_loss = 0.0\n",
        "    for i, data in enumerate(trainloader, 0):\n",
        "        inputs, labels = data\n",
        "        # zero the parameter gradients\n",
        "        optimizer.zero_grad()\n",
        "        # forward + backward + optimize\n",
        "        outputs = model(inputs)\n",
        "        loss = criterion(outputs, labels)\n",
        "        loss.backward()\n",
        "        optimizer.step()\n",
        "\n",
        "        running_loss += loss.item()\n",
        "        if i % 2000 == 1999:     # print every 2000 mini-batches\n",
        "            print(f'[{epoch + 1}, {i + 1}] loss: {running_loss / 2000}')\n",
        "            running_loss = 0.0\n",
        "\n",
        "    # Compute the accuracy on the training set\n",
        "    correct1 = 0.0\n",
        "    for data in trainloader:\n",
        "        inputs, labels = data\n",
        "        outputs = model(Variable(inputs))\n",
        "        _, predicted = torch.max(outputs.data, 1)\n",
        "        correct1 += (predicted == labels).sum().item()\n",
        "\n",
        "    correct2 = 0.0\n",
        "    for data in testloader:\n",
        "        inputs, labels = data\n",
        "        outputs = model(Variable(inputs))\n",
        "        _, predicted = torch.max(outputs.data, 1)\n",
        "        correct2 += (predicted == labels).sum().item()\n",
        "\n",
        "    print(f'Epoch: {epoch + 1}')\n",
        "    print(f'Average accuracy on the training set: {correct1 / len(trainset)}')\n",
        "    print(f'Average accuracy on the test set: {correct2 / len(testset)}')\n",
        "\n",
        "\n",
        "    # Evaluate the model\n",
        "    model.eval()\n",
        "\n",
        "    for data, target in testloader:\n",
        "        data, target = Variable(data, volatile=True), Variable(target)\n",
        "        output = model(data)\n",
        "        loss = criterion(output, target)\n",
        "        test_loss += loss.item()\n",
        "\n",
        "    # Calculate the average loss\n",
        "    running_loss /= len(trainloader.dataset)\n",
        "    test_loss /= len(testloader.dataset)\n",
        "\n",
        "    print(f'Epoch: {epoch + 1}, Training Loss: {running_loss}, Test Loss: {test_loss}')\n",
        "\n",
        "\n",
        "\n",
        "# # Save the model\n",
        "# PATH = './cifar_net.pth'\n",
        "# torch.save(model.state_dict(), PATH)\n",
        "\n",
        "print('Finished Training')"
      ]
    },
    {
      "cell_type": "markdown",
      "metadata": {},
      "source": [
        "---"
      ]
    }
  ],
  "metadata": {
    "accelerator": "GPU",
    "colab": {
      "gpuType": "T4",
      "provenance": []
    },
    "kernelspec": {
      "display_name": "Python 3",
      "name": "python3"
    },
    "language_info": {
      "codemirror_mode": {
        "name": "ipython",
        "version": 3
      },
      "file_extension": ".py",
      "mimetype": "text/x-python",
      "name": "python",
      "nbconvert_exporter": "python",
      "pygments_lexer": "ipython3",
      "version": "3.9.13"
    }
  },
  "nbformat": 4,
  "nbformat_minor": 0
}
