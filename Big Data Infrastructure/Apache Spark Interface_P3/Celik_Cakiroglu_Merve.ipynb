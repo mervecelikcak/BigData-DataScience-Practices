{
 "cells": [
  {
   "cell_type": "code",
   "execution_count": 1,
   "metadata": {},
   "outputs": [
    {
     "name": "stderr",
     "output_type": "stream",
     "text": [
      "24/03/30 20:06:50 WARN Utils: Your hostname, onur-ideacenter resolves to a loopback address: 127.0.1.1; using 192.168.0.19 instead (on interface wlo1)\n",
      "24/03/30 20:06:50 WARN Utils: Set SPARK_LOCAL_IP if you need to bind to another address\n",
      "Setting default log level to \"WARN\".\n",
      "To adjust logging level use sc.setLogLevel(newLevel). For SparkR, use setLogLevel(newLevel).\n",
      "24/03/30 20:06:56 WARN NativeCodeLoader: Unable to load native-hadoop library for your platform... using builtin-java classes where applicable\n"
     ]
    }
   ],
   "source": [
    "from __future__ import print_function\n",
    "\n",
    "from pyspark.sql import SparkSession\n",
    "spark = SparkSession \\\n",
    "    .builder \\\n",
    "    .appName(\"extraccion de datos del censo\") \\\n",
    "    .getOrCreate()\n",
    "\n",
    "from pyspark.sql.functions import col, filter"
   ]
  },
  {
   "cell_type": "code",
   "execution_count": 2,
   "metadata": {},
   "outputs": [
    {
     "name": "stdout",
     "output_type": "stream",
     "text": [
      "Partitions: 2\n"
     ]
    }
   ],
   "source": [
    "sc = spark.sparkContext\n",
    "sc.setLogLevel(\"WARN\")\n",
    "\n",
    "#path = '/media/DiscoLocal/BigData/spark/'\n",
    "#path = 'file:///home/sparkuser/'\n",
    "path = 'data/'\n",
    "\n",
    "# Lee el fichero de microdatos\n",
    "rdd = spark.sparkContext.textFile(path + 'censo2011s.txt.bz2')\n",
    "\n",
    "# ¿cuántas particiones tenemos?\n",
    "print(\"Partitions:\", rdd.getNumPartitions())"
   ]
  },
  {
   "cell_type": "code",
   "execution_count": 3,
   "metadata": {},
   "outputs": [
    {
     "name": "stderr",
     "output_type": "stream",
     "text": [
      "                                                                                \r"
     ]
    },
    {
     "name": "stdout",
     "output_type": "stream",
     "text": [
      "Schema:\n",
      "root\n",
      " |-- CPRO: string (nullable = true)\n",
      " |-- CMUN: string (nullable = true)\n",
      " |-- IDHUECO: string (nullable = true)\n",
      " |-- NORDEN: string (nullable = true)\n",
      " |-- FACTOR: string (nullable = true)\n",
      " |-- MNAC: string (nullable = true)\n",
      " |-- ANAC: string (nullable = true)\n",
      " |-- EDAD: string (nullable = true)\n",
      " |-- SEXO: string (nullable = true)\n",
      " |-- NACI: string (nullable = true)\n",
      " |-- CPAISN: string (nullable = true)\n",
      " |-- CPRON: string (nullable = true)\n",
      " |-- CMUNN: string (nullable = true)\n",
      " |-- ANORES: string (nullable = true)\n",
      " |-- ANOM: string (nullable = true)\n",
      " |-- ANOC: string (nullable = true)\n",
      " |-- ANOE: string (nullable = true)\n",
      " |-- CLPAIS: string (nullable = true)\n",
      " |-- CLPRO: string (nullable = true)\n",
      " |-- CLMUNP: string (nullable = true)\n",
      " |-- RES_ANTERIOR: string (nullable = true)\n",
      " |-- CPAISUNANO: string (nullable = true)\n",
      " |-- CPROUNANO: string (nullable = true)\n",
      " |-- CMUNANO: string (nullable = true)\n",
      " |-- RES_UNANO: string (nullable = true)\n",
      " |-- CPAISDANO: string (nullable = true)\n",
      " |-- CPRODANO: string (nullable = true)\n",
      " |-- CMUNDANO: string (nullable = true)\n",
      " |-- RES_DANO: string (nullable = true)\n",
      " |-- SEG_VIV: string (nullable = true)\n",
      " |-- SEG_PAIS: string (nullable = true)\n",
      " |-- SEG_PROV: string (nullable = true)\n",
      " |-- SEG_MUN: string (nullable = true)\n",
      " |-- SEG_NOCHES: string (nullable = true)\n",
      " |-- SEG_DISP: string (nullable = true)\n",
      " |-- ECIVIL: string (nullable = true)\n",
      " |-- ESCOLAR: string (nullable = true)\n",
      " |-- ESREAL: string (nullable = true)\n",
      " |-- TESTUD: string (nullable = true)\n",
      " |-- TAREA1: string (nullable = true)\n",
      " |-- TAREA2: string (nullable = true)\n",
      " |-- TAREA3: string (nullable = true)\n",
      " |-- TAREA4: string (nullable = true)\n",
      " |-- HIJOS: string (nullable = true)\n",
      " |-- NHIJOS: string (nullable = true)\n",
      " |-- RELA: string (nullable = true)\n",
      " |-- JORNADA: string (nullable = true)\n",
      " |-- CNO: string (nullable = true)\n",
      " |-- CNAE: string (nullable = true)\n",
      " |-- SITU: string (nullable = true)\n",
      " |-- CSE: string (nullable = true)\n",
      " |-- ESCUR1: string (nullable = true)\n",
      " |-- ESCUR2: string (nullable = true)\n",
      " |-- ESCUR3: string (nullable = true)\n",
      " |-- LTRABA: string (nullable = true)\n",
      " |-- PAISTRABA: string (nullable = true)\n",
      " |-- PROTRABA: string (nullable = true)\n",
      " |-- MUNTRABA: string (nullable = true)\n",
      " |-- CODTRABA: string (nullable = true)\n",
      " |-- NVIAJE: string (nullable = true)\n",
      " |-- MDESP1: string (nullable = true)\n",
      " |-- MDESP2: string (nullable = true)\n",
      " |-- TDESP: string (nullable = true)\n",
      " |-- TENEN: string (nullable = true)\n",
      " |-- CALE: string (nullable = true)\n",
      " |-- ASEO: string (nullable = true)\n",
      " |-- BADUCH: string (nullable = true)\n",
      " |-- INTERNET: string (nullable = true)\n",
      " |-- AGUACOR: string (nullable = true)\n",
      " |-- SUT: string (nullable = true)\n",
      " |-- NHAB: string (nullable = true)\n",
      " |-- PLANTAS: string (nullable = true)\n",
      " |-- PLANTAB: string (nullable = true)\n",
      " |-- TIPOEDIF: string (nullable = true)\n",
      " |-- ANOCONS: string (nullable = true)\n",
      " |-- ESTADO: string (nullable = true)\n",
      " |-- ASCENSOR: string (nullable = true)\n",
      " |-- ACCESIB: string (nullable = true)\n",
      " |-- GARAJE: string (nullable = true)\n",
      " |-- PLAZAS: string (nullable = true)\n",
      " |-- GAS: string (nullable = true)\n",
      " |-- TELEF: string (nullable = true)\n",
      " |-- ACAL: string (nullable = true)\n",
      " |-- RESID: string (nullable = true)\n",
      " |-- FAMILIA: string (nullable = true)\n",
      " |-- PAD_NORDEN: string (nullable = true)\n",
      " |-- MAD_NORDEN: string (nullable = true)\n",
      " |-- CON_NORDEN: string (nullable = true)\n",
      " |-- OPA_NORDEN: string (nullable = true)\n",
      " |-- TIPOPER: string (nullable = true)\n",
      " |-- NUCLEO: string (nullable = true)\n",
      " |-- NMIEM: string (nullable = true)\n",
      " |-- NFAM: string (nullable = true)\n",
      " |-- NNUC: string (nullable = true)\n",
      " |-- NGENER: string (nullable = true)\n",
      " |-- ESTHOG: string (nullable = true)\n",
      " |-- TIPOHOG: string (nullable = true)\n",
      " |-- NOCU: string (nullable = true)\n",
      " |-- NPARAIN: string (nullable = true)\n",
      " |-- NPFAM: string (nullable = true)\n",
      " |-- NPNUC: string (nullable = true)\n",
      " |-- HM5: string (nullable = true)\n",
      " |-- H0515: string (nullable = true)\n",
      " |-- H1624: string (nullable = true)\n",
      " |-- H2534: string (nullable = true)\n",
      " |-- H3564: string (nullable = true)\n",
      " |-- H6584: string (nullable = true)\n",
      " |-- H85M: string (nullable = true)\n",
      " |-- HESPHOG: string (nullable = true)\n",
      " |-- MESPHOG: string (nullable = true)\n",
      " |-- HEXTHOG: string (nullable = true)\n",
      " |-- MEXTHOG: string (nullable = true)\n",
      " |-- COMBINAC: string (nullable = true)\n",
      " |-- EDADPAD: string (nullable = true)\n",
      " |-- PAISNACPAD: string (nullable = true)\n",
      " |-- NACIPAD: string (nullable = true)\n",
      " |-- ECIVPAD: string (nullable = true)\n",
      " |-- ESTUPAD: string (nullable = true)\n",
      " |-- SITUPAD: string (nullable = true)\n",
      " |-- SITPPAD: string (nullable = true)\n",
      " |-- EDADMAD: string (nullable = true)\n",
      " |-- PAISNACMAD: string (nullable = true)\n",
      " |-- NACIMAD: string (nullable = true)\n",
      " |-- ECIVMAD: string (nullable = true)\n",
      " |-- ESTUMAD: string (nullable = true)\n",
      " |-- SITUMAD: string (nullable = true)\n",
      " |-- SITPMAD: string (nullable = true)\n",
      " |-- EDADCON: string (nullable = true)\n",
      " |-- NACCON: string (nullable = true)\n",
      " |-- NACICON: string (nullable = true)\n",
      " |-- ECIVCON: string (nullable = true)\n",
      " |-- ESTUCON: string (nullable = true)\n",
      " |-- SITUCON: string (nullable = true)\n",
      " |-- SITPCON: string (nullable = true)\n",
      " |-- TIPONUC: string (nullable = true)\n",
      " |-- TAMNUC: string (nullable = true)\n",
      " |-- NHIJO: string (nullable = true)\n",
      " |-- NHIJOC: string (nullable = true)\n",
      " |-- FAMNUM: string (nullable = true)\n",
      " |-- TIPOPARECIV: string (nullable = true)\n",
      " |-- TIPOPARSEX: string (nullable = true)\n",
      " |-- DIFEDAD: string (nullable = true)\n",
      "\n"
     ]
    },
    {
     "name": "stderr",
     "output_type": "stream",
     "text": [
      "24/03/30 20:09:31 WARN package: Truncated the string representation of a plan since it was too large. This behavior can be adjusted by setting 'spark.sql.debug.maxToStringFields'.\n",
      "[Stage 1:>                                                          (0 + 2) / 2]\r"
     ]
    },
    {
     "name": "stdout",
     "output_type": "stream",
     "text": [
      "Size: 410605\n"
     ]
    },
    {
     "name": "stderr",
     "output_type": "stream",
     "text": [
      "                                                                                \r"
     ]
    }
   ],
   "source": [
    "import cparser\n",
    "sc.addPyFile('cparser.py')\n",
    "parsed = rdd.map(cparser.field_split)\n",
    "\n",
    "from pyspark.sql import Row\n",
    "# Definimos el objeto de fila usando los nombres de columna\n",
    "CensoRow = Row(*cparser.NAMES._fields)\n",
    "# Mapeamos cada fila a un objeto de fila\n",
    "rows = parsed.map(lambda x: CensoRow(*x))\n",
    "\n",
    "# RDD de Row a DataFrame\n",
    "censo = spark.createDataFrame(rows)\n",
    "\n",
    "print(\"Schema:\")\n",
    "censo.printSchema()\n",
    "\n",
    "print(\"Size:\", censo.count())"
   ]
  },
  {
   "cell_type": "code",
   "execution_count": 4,
   "metadata": {},
   "outputs": [
    {
     "name": "stdout",
     "output_type": "stream",
     "text": [
      "Schema + MUN:\n",
      "root\n",
      " |-- CPRO: string (nullable = true)\n",
      " |-- CMUN: string (nullable = true)\n",
      " |-- IDHUECO: string (nullable = true)\n",
      " |-- NORDEN: string (nullable = true)\n",
      " |-- FACTOR: string (nullable = true)\n",
      " |-- MNAC: string (nullable = true)\n",
      " |-- ANAC: string (nullable = true)\n",
      " |-- EDAD: string (nullable = true)\n",
      " |-- SEXO: string (nullable = true)\n",
      " |-- NACI: string (nullable = true)\n",
      " |-- CPAISN: string (nullable = true)\n",
      " |-- CPRON: string (nullable = true)\n",
      " |-- CMUNN: string (nullable = true)\n",
      " |-- ANORES: string (nullable = true)\n",
      " |-- ANOM: string (nullable = true)\n",
      " |-- ANOC: string (nullable = true)\n",
      " |-- ANOE: string (nullable = true)\n",
      " |-- CLPAIS: string (nullable = true)\n",
      " |-- CLPRO: string (nullable = true)\n",
      " |-- CLMUNP: string (nullable = true)\n",
      " |-- RES_ANTERIOR: string (nullable = true)\n",
      " |-- CPAISUNANO: string (nullable = true)\n",
      " |-- CPROUNANO: string (nullable = true)\n",
      " |-- CMUNANO: string (nullable = true)\n",
      " |-- RES_UNANO: string (nullable = true)\n",
      " |-- CPAISDANO: string (nullable = true)\n",
      " |-- CPRODANO: string (nullable = true)\n",
      " |-- CMUNDANO: string (nullable = true)\n",
      " |-- RES_DANO: string (nullable = true)\n",
      " |-- SEG_VIV: string (nullable = true)\n",
      " |-- SEG_PAIS: string (nullable = true)\n",
      " |-- SEG_PROV: string (nullable = true)\n",
      " |-- SEG_MUN: string (nullable = true)\n",
      " |-- SEG_NOCHES: string (nullable = true)\n",
      " |-- SEG_DISP: string (nullable = true)\n",
      " |-- ECIVIL: string (nullable = true)\n",
      " |-- ESCOLAR: string (nullable = true)\n",
      " |-- ESREAL: string (nullable = true)\n",
      " |-- TESTUD: string (nullable = true)\n",
      " |-- TAREA1: string (nullable = true)\n",
      " |-- TAREA2: string (nullable = true)\n",
      " |-- TAREA3: string (nullable = true)\n",
      " |-- TAREA4: string (nullable = true)\n",
      " |-- HIJOS: string (nullable = true)\n",
      " |-- NHIJOS: string (nullable = true)\n",
      " |-- RELA: string (nullable = true)\n",
      " |-- JORNADA: string (nullable = true)\n",
      " |-- CNO: string (nullable = true)\n",
      " |-- CNAE: string (nullable = true)\n",
      " |-- SITU: string (nullable = true)\n",
      " |-- CSE: string (nullable = true)\n",
      " |-- ESCUR1: string (nullable = true)\n",
      " |-- ESCUR2: string (nullable = true)\n",
      " |-- ESCUR3: string (nullable = true)\n",
      " |-- LTRABA: string (nullable = true)\n",
      " |-- PAISTRABA: string (nullable = true)\n",
      " |-- PROTRABA: string (nullable = true)\n",
      " |-- MUNTRABA: string (nullable = true)\n",
      " |-- CODTRABA: string (nullable = true)\n",
      " |-- NVIAJE: string (nullable = true)\n",
      " |-- MDESP1: string (nullable = true)\n",
      " |-- MDESP2: string (nullable = true)\n",
      " |-- TDESP: string (nullable = true)\n",
      " |-- TENEN: string (nullable = true)\n",
      " |-- CALE: string (nullable = true)\n",
      " |-- ASEO: string (nullable = true)\n",
      " |-- BADUCH: string (nullable = true)\n",
      " |-- INTERNET: string (nullable = true)\n",
      " |-- AGUACOR: string (nullable = true)\n",
      " |-- SUT: string (nullable = true)\n",
      " |-- NHAB: string (nullable = true)\n",
      " |-- PLANTAS: string (nullable = true)\n",
      " |-- PLANTAB: string (nullable = true)\n",
      " |-- TIPOEDIF: string (nullable = true)\n",
      " |-- ANOCONS: string (nullable = true)\n",
      " |-- ESTADO: string (nullable = true)\n",
      " |-- ASCENSOR: string (nullable = true)\n",
      " |-- ACCESIB: string (nullable = true)\n",
      " |-- GARAJE: string (nullable = true)\n",
      " |-- PLAZAS: string (nullable = true)\n",
      " |-- GAS: string (nullable = true)\n",
      " |-- TELEF: string (nullable = true)\n",
      " |-- ACAL: string (nullable = true)\n",
      " |-- RESID: string (nullable = true)\n",
      " |-- FAMILIA: string (nullable = true)\n",
      " |-- PAD_NORDEN: string (nullable = true)\n",
      " |-- MAD_NORDEN: string (nullable = true)\n",
      " |-- CON_NORDEN: string (nullable = true)\n",
      " |-- OPA_NORDEN: string (nullable = true)\n",
      " |-- TIPOPER: string (nullable = true)\n",
      " |-- NUCLEO: string (nullable = true)\n",
      " |-- NMIEM: string (nullable = true)\n",
      " |-- NFAM: string (nullable = true)\n",
      " |-- NNUC: string (nullable = true)\n",
      " |-- NGENER: string (nullable = true)\n",
      " |-- ESTHOG: string (nullable = true)\n",
      " |-- TIPOHOG: string (nullable = true)\n",
      " |-- NOCU: string (nullable = true)\n",
      " |-- NPARAIN: string (nullable = true)\n",
      " |-- NPFAM: string (nullable = true)\n",
      " |-- NPNUC: string (nullable = true)\n",
      " |-- HM5: string (nullable = true)\n",
      " |-- H0515: string (nullable = true)\n",
      " |-- H1624: string (nullable = true)\n",
      " |-- H2534: string (nullable = true)\n",
      " |-- H3564: string (nullable = true)\n",
      " |-- H6584: string (nullable = true)\n",
      " |-- H85M: string (nullable = true)\n",
      " |-- HESPHOG: string (nullable = true)\n",
      " |-- MESPHOG: string (nullable = true)\n",
      " |-- HEXTHOG: string (nullable = true)\n",
      " |-- MEXTHOG: string (nullable = true)\n",
      " |-- COMBINAC: string (nullable = true)\n",
      " |-- EDADPAD: string (nullable = true)\n",
      " |-- PAISNACPAD: string (nullable = true)\n",
      " |-- NACIPAD: string (nullable = true)\n",
      " |-- ECIVPAD: string (nullable = true)\n",
      " |-- ESTUPAD: string (nullable = true)\n",
      " |-- SITUPAD: string (nullable = true)\n",
      " |-- SITPPAD: string (nullable = true)\n",
      " |-- EDADMAD: string (nullable = true)\n",
      " |-- PAISNACMAD: string (nullable = true)\n",
      " |-- NACIMAD: string (nullable = true)\n",
      " |-- ECIVMAD: string (nullable = true)\n",
      " |-- ESTUMAD: string (nullable = true)\n",
      " |-- SITUMAD: string (nullable = true)\n",
      " |-- SITPMAD: string (nullable = true)\n",
      " |-- EDADCON: string (nullable = true)\n",
      " |-- NACCON: string (nullable = true)\n",
      " |-- NACICON: string (nullable = true)\n",
      " |-- ECIVCON: string (nullable = true)\n",
      " |-- ESTUCON: string (nullable = true)\n",
      " |-- SITUCON: string (nullable = true)\n",
      " |-- SITPCON: string (nullable = true)\n",
      " |-- TIPONUC: string (nullable = true)\n",
      " |-- TAMNUC: string (nullable = true)\n",
      " |-- NHIJO: string (nullable = true)\n",
      " |-- NHIJOC: string (nullable = true)\n",
      " |-- FAMNUM: string (nullable = true)\n",
      " |-- TIPOPARECIV: string (nullable = true)\n",
      " |-- TIPOPARSEX: string (nullable = true)\n",
      " |-- DIFEDAD: string (nullable = true)\n",
      " |-- NOMBRE_MUN: string (nullable = true)\n",
      "\n",
      "Sample:\n"
     ]
    },
    {
     "name": "stderr",
     "output_type": "stream",
     "text": [
      "[Stage 6:>                                                          (0 + 1) / 1]\r"
     ]
    },
    {
     "name": "stdout",
     "output_type": "stream",
     "text": [
      "Row(CPRO='01', CMUN='059', IDHUECO='0000000356', NORDEN='0002', FACTOR='011.0002419100', MNAC='02', ANAC='1951', EDAD='060', SEXO='1', NACI='108', CPAISN='108', CPRON='31', CMUNN='992', ANORES='1983', ANOM='1974', ANOC='1974', ANOE='1951', CLPAIS='108', CLPRO='31', CLMUNP='992', RES_ANTERIOR=' ', CPAISUNANO='108', CPROUNANO='01', CMUNANO='059', RES_UNANO='1', CPAISDANO='108', CPRODANO='01', CMUNDANO='059', RES_DANO='1', SEG_VIV='1', SEG_PAIS='108', SEG_PROV='31', SEG_MUN='991', SEG_NOCHES='150', SEG_DISP='1', ECIVIL='2', ESCOLAR=' ', ESREAL='07', TESTUD='5', TAREA1='2', TAREA2='2', TAREA3='2', TAREA4='2', HIJOS=' ', NHIJOS='  ', RELA='5', JORNADA=' ', CNO='  ', CNAE='  ', SITU=' ', CSE='     ', ESCUR1='  ', ESCUR2='  ', ESCUR3='  ', LTRABA=' ', PAISTRABA='   ', PROTRABA='  ', MUNTRABA='   ', CODTRABA='     ', NVIAJE=' ', MDESP1=' ', MDESP2=' ', TDESP=' ', TENEN='1', CALE='2', ASEO='1', BADUCH='1', INTERNET='1', AGUACOR='1', SUT='090', NHAB='06', PLANTAS='08', PLANTAB='0', TIPOEDIF='1', ANOCONS='09', ESTADO='4', ASCENSOR='1', ACCESIB='1', GARAJE='1', PLAZAS='7', GAS='1', TELEF='1', ACAL='2', RESID='1', FAMILIA='1', PAD_NORDEN='  ', MAD_NORDEN='  ', CON_NORDEN='01', OPA_NORDEN='04', TIPOPER='C', NUCLEO='01', NMIEM='04', NFAM='1', NNUC='1', NGENER='03', ESTHOG='11', TIPOHOG='05', NOCU='03', NPARAIN='02', NPFAM='4 ', NPNUC='3 ', HM5='00', H0515='00', H1624='00', H2534='01', H3564='02', H6584='00', H85M='01', HESPHOG='03', MESPHOG='01', HEXTHOG='00', MEXTHOG='00', COMBINAC='1', EDADPAD='  ', PAISNACPAD='108', NACIPAD=' ', ECIVPAD=' ', ESTUPAD=' ', SITUPAD=' ', SITPPAD=' ', EDADMAD='  ', PAISNACMAD='108', NACIMAD=' ', ECIVMAD=' ', ESTUMAD=' ', SITUMAD=' ', SITPMAD=' ', EDADCON='13', NACCON='2', NACICON='2', ECIVCON='2', ESTUCON='6', SITUCON='2', SITPCON='4', TIPONUC='2', TAMNUC='02', NHIJO='1 ', NHIJOC='1 ', FAMNUM='01', TIPOPARECIV='01', TIPOPARSEX='01', DIFEDAD='05', NOMBRE_MUN='Vitoria-Gasteiz')\n",
      "Row(CPRO='01', CMUN='059', IDHUECO='0000001763', NORDEN='0001', FACTOR='013.9078151930', MNAC='01', ANAC='1925', EDAD='086', SEXO='1', NACI='108', CPAISN='108', CPRON='01', CMUNN='059', ANORES='2008', ANOM='1925', ANOC='1925', ANOE='1925', CLPAIS='108', CLPRO='01', CLMUNP='059', RES_ANTERIOR='1', CPAISUNANO='108', CPROUNANO='01', CMUNANO='059', RES_UNANO='1', CPAISDANO='108', CPRODANO='01', CMUNDANO='059', RES_DANO='1', SEG_VIV='2', SEG_PAIS='   ', SEG_PROV='  ', SEG_MUN='   ', SEG_NOCHES='   ', SEG_DISP=' ', ECIVIL='2', ESCOLAR=' ', ESREAL='05', TESTUD=' ', TAREA1='2', TAREA2='2', TAREA3='2', TAREA4='2', HIJOS=' ', NHIJOS='  ', RELA='5', JORNADA=' ', CNO='  ', CNAE='  ', SITU=' ', CSE='     ', ESCUR1='  ', ESCUR2='  ', ESCUR3='  ', LTRABA=' ', PAISTRABA='   ', PROTRABA='  ', MUNTRABA='   ', CODTRABA='     ', NVIAJE=' ', MDESP1=' ', MDESP2=' ', TDESP=' ', TENEN='2', CALE='1', ASEO='1', BADUCH='1', INTERNET='2', AGUACOR='2', SUT='056', NHAB='03', PLANTAS='05', PLANTAB='0', TIPOEDIF='1', ANOCONS='15', ESTADO='4', ASCENSOR='1', ACCESIB='1', GARAJE='1', PLAZAS='5', GAS='1', TELEF='1', ACAL='2', RESID='1', FAMILIA='1', PAD_NORDEN='  ', MAD_NORDEN='  ', CON_NORDEN='02', OPA_NORDEN='  ', TIPOPER='C', NUCLEO='01', NMIEM='02', NFAM='1', NNUC='1', NGENER='01', ESTHOG='07', TIPOHOG='04', NOCU='01', NPARAIN='01', NPFAM='2 ', NPNUC='2 ', HM5='00', H0515='00', H1624='00', H2534='00', H3564='00', H6584='01', H85M='01', HESPHOG='01', MESPHOG='01', HEXTHOG='00', MEXTHOG='00', COMBINAC='1', EDADPAD='  ', PAISNACPAD='108', NACIPAD=' ', ECIVPAD=' ', ESTUPAD=' ', SITUPAD=' ', SITPPAD=' ', EDADMAD='  ', PAISNACMAD='108', NACIMAD=' ', ECIVMAD=' ', ESTUMAD=' ', SITUMAD=' ', SITPMAD=' ', EDADCON='18', NACCON='2', NACICON='2', ECIVCON='2', ESTUCON='4', SITUCON='7', SITPCON='8', TIPONUC='1', TAMNUC='01', NHIJO='0 ', NHIJOC='0 ', FAMNUM='01', TIPOPARECIV='01', TIPOPARSEX='01', DIFEDAD='06', NOMBRE_MUN='Vitoria-Gasteiz')\n",
      "Row(CPRO='01', CMUN='991', IDHUECO='0000002173', NORDEN='0001', FACTOR='001.5957005454', MNAC='01', ANAC='1926', EDAD='085', SEXO='1', NACI='108', CPAISN='108', CPRON='01', CMUNN='991', ANORES='1926', ANOM='1926', ANOC='1926', ANOE='1926', CLPAIS='108', CLPRO='01', CLMUNP='991', RES_ANTERIOR='1', CPAISUNANO='108', CPROUNANO='01', CMUNANO='991', RES_UNANO='1', CPAISDANO='108', CPRODANO='01', CMUNDANO='991', RES_DANO='1', SEG_VIV='2', SEG_PAIS='   ', SEG_PROV='  ', SEG_MUN='   ', SEG_NOCHES='   ', SEG_DISP=' ', ECIVIL='2', ESCOLAR=' ', ESREAL='03', TESTUD=' ', TAREA1='2', TAREA2='2', TAREA3='2', TAREA4='2', HIJOS=' ', NHIJOS='  ', RELA='5', JORNADA=' ', CNO='  ', CNAE='  ', SITU=' ', CSE='     ', ESCUR1='  ', ESCUR2='  ', ESCUR3='  ', LTRABA=' ', PAISTRABA='   ', PROTRABA='  ', MUNTRABA='   ', CODTRABA='     ', NVIAJE=' ', MDESP1=' ', MDESP2=' ', TDESP=' ', TENEN='3', CALE='2', ASEO='1', BADUCH='1', INTERNET='1', AGUACOR='1', SUT='250', NHAB='09', PLANTAS='02', PLANTAB='0', TIPOEDIF='1', ANOCONS='02', ESTADO='4', ASCENSOR='2', ACCESIB='2', GARAJE='2', PLAZAS=' ', GAS='2', TELEF='1', ACAL='2', RESID='1', FAMILIA='1', PAD_NORDEN='  ', MAD_NORDEN='  ', CON_NORDEN='02', OPA_NORDEN='03', TIPOPER='C', NUCLEO='01', NMIEM='04', NFAM='1', NNUC='1', NGENER='02', ESTHOG='09', TIPOHOG='04', NOCU='03', NPARAIN='01', NPFAM='4 ', NPNUC='4 ', HM5='00', H0515='00', H1624='00', H2534='00', H3564='02', H6584='00', H85M='02', HESPHOG='02', MESPHOG='02', HEXTHOG='00', MEXTHOG='00', COMBINAC='1', EDADPAD='  ', PAISNACPAD='108', NACIPAD=' ', ECIVPAD=' ', ESTUPAD=' ', SITUPAD=' ', SITPPAD=' ', EDADMAD='  ', PAISNACMAD='108', NACIMAD=' ', ECIVMAD=' ', ESTUMAD=' ', SITUMAD=' ', SITPMAD=' ', EDADCON='19', NACCON='2', NACICON='2', ECIVCON='2', ESTUCON='5', SITUCON='2', SITPCON='4', TIPONUC='2', TAMNUC='03', NHIJO='2 ', NHIJOC='2 ', FAMNUM='01', TIPOPARECIV='01', TIPOPARSEX='01', DIFEDAD='03', NOMBRE_MUN=None)\n"
     ]
    },
    {
     "name": "stderr",
     "output_type": "stream",
     "text": [
      "24/03/30 20:11:16 WARN PythonRunner: Detected deadlock while completing task 0.0 in stage 6 (TID 6): Attempting to kill Python Worker\n",
      "                                                                                \r"
     ]
    }
   ],
   "source": [
    "# Carga los nombres de municipio\n",
    "cmun = spark.read.format('csv').option(\"header\", True).option(\"encoding\", \"utf-8\").load(path + 'codes-cmun.csv')\n",
    "\n",
    "# Añade el nombre del municipio de residencia al Dataframe\n",
    "# Hacemos un left join para no perder los registros que (por privacidad)\n",
    "# no contienen información de municipio\n",
    "cond = [censo.CMUN == cmun.CMUN, censo.CPRO == cmun.CPRO]\n",
    "censo_mun = censo.join(cmun, on=cond, how='left').drop(cmun.CPRO).drop(cmun.CMUN).drop(cmun.DC)\n",
    "\n",
    "print(\"Schema + MUN:\")\n",
    "censo_mun.printSchema()\n",
    "\n",
    "print(\"Sample:\")\n",
    "for row in censo_mun.limit(3).collect():\n",
    "    print(row)"
   ]
  },
  {
   "cell_type": "code",
   "execution_count": 5,
   "metadata": {},
   "outputs": [
    {
     "name": "stderr",
     "output_type": "stream",
     "text": [
      "                                                                                \r"
     ]
    }
   ],
   "source": [
    "# Repartition DataFrame to have only one partition\n",
    "censo_mun_single_partition = censo_mun.repartition(1)\n",
    "\n",
    "# Save DataFrame as a single Parquet file\n",
    "censo_mun_single_partition.write.format('parquet').mode('overwrite').save(path + 'censo-2011s.parquet')"
   ]
  },
  {
   "cell_type": "markdown",
   "metadata": {},
   "source": [
    "### 1. Leemos los datos que fueron grabados en Parquet"
   ]
  },
  {
   "cell_type": "code",
   "execution_count": 6,
   "metadata": {},
   "outputs": [
    {
     "name": "stdout",
     "output_type": "stream",
     "text": [
      "Schema for Parquet File :\n",
      "root\n",
      " |-- CPRO: string (nullable = true)\n",
      " |-- CMUN: string (nullable = true)\n",
      " |-- IDHUECO: string (nullable = true)\n",
      " |-- NORDEN: string (nullable = true)\n",
      " |-- FACTOR: string (nullable = true)\n",
      " |-- MNAC: string (nullable = true)\n",
      " |-- ANAC: string (nullable = true)\n",
      " |-- EDAD: string (nullable = true)\n",
      " |-- SEXO: string (nullable = true)\n",
      " |-- NACI: string (nullable = true)\n",
      " |-- CPAISN: string (nullable = true)\n",
      " |-- CPRON: string (nullable = true)\n",
      " |-- CMUNN: string (nullable = true)\n",
      " |-- ANORES: string (nullable = true)\n",
      " |-- ANOM: string (nullable = true)\n",
      " |-- ANOC: string (nullable = true)\n",
      " |-- ANOE: string (nullable = true)\n",
      " |-- CLPAIS: string (nullable = true)\n",
      " |-- CLPRO: string (nullable = true)\n",
      " |-- CLMUNP: string (nullable = true)\n",
      " |-- RES_ANTERIOR: string (nullable = true)\n",
      " |-- CPAISUNANO: string (nullable = true)\n",
      " |-- CPROUNANO: string (nullable = true)\n",
      " |-- CMUNANO: string (nullable = true)\n",
      " |-- RES_UNANO: string (nullable = true)\n",
      " |-- CPAISDANO: string (nullable = true)\n",
      " |-- CPRODANO: string (nullable = true)\n",
      " |-- CMUNDANO: string (nullable = true)\n",
      " |-- RES_DANO: string (nullable = true)\n",
      " |-- SEG_VIV: string (nullable = true)\n",
      " |-- SEG_PAIS: string (nullable = true)\n",
      " |-- SEG_PROV: string (nullable = true)\n",
      " |-- SEG_MUN: string (nullable = true)\n",
      " |-- SEG_NOCHES: string (nullable = true)\n",
      " |-- SEG_DISP: string (nullable = true)\n",
      " |-- ECIVIL: string (nullable = true)\n",
      " |-- ESCOLAR: string (nullable = true)\n",
      " |-- ESREAL: string (nullable = true)\n",
      " |-- TESTUD: string (nullable = true)\n",
      " |-- TAREA1: string (nullable = true)\n",
      " |-- TAREA2: string (nullable = true)\n",
      " |-- TAREA3: string (nullable = true)\n",
      " |-- TAREA4: string (nullable = true)\n",
      " |-- HIJOS: string (nullable = true)\n",
      " |-- NHIJOS: string (nullable = true)\n",
      " |-- RELA: string (nullable = true)\n",
      " |-- JORNADA: string (nullable = true)\n",
      " |-- CNO: string (nullable = true)\n",
      " |-- CNAE: string (nullable = true)\n",
      " |-- SITU: string (nullable = true)\n",
      " |-- CSE: string (nullable = true)\n",
      " |-- ESCUR1: string (nullable = true)\n",
      " |-- ESCUR2: string (nullable = true)\n",
      " |-- ESCUR3: string (nullable = true)\n",
      " |-- LTRABA: string (nullable = true)\n",
      " |-- PAISTRABA: string (nullable = true)\n",
      " |-- PROTRABA: string (nullable = true)\n",
      " |-- MUNTRABA: string (nullable = true)\n",
      " |-- CODTRABA: string (nullable = true)\n",
      " |-- NVIAJE: string (nullable = true)\n",
      " |-- MDESP1: string (nullable = true)\n",
      " |-- MDESP2: string (nullable = true)\n",
      " |-- TDESP: string (nullable = true)\n",
      " |-- TENEN: string (nullable = true)\n",
      " |-- CALE: string (nullable = true)\n",
      " |-- ASEO: string (nullable = true)\n",
      " |-- BADUCH: string (nullable = true)\n",
      " |-- INTERNET: string (nullable = true)\n",
      " |-- AGUACOR: string (nullable = true)\n",
      " |-- SUT: string (nullable = true)\n",
      " |-- NHAB: string (nullable = true)\n",
      " |-- PLANTAS: string (nullable = true)\n",
      " |-- PLANTAB: string (nullable = true)\n",
      " |-- TIPOEDIF: string (nullable = true)\n",
      " |-- ANOCONS: string (nullable = true)\n",
      " |-- ESTADO: string (nullable = true)\n",
      " |-- ASCENSOR: string (nullable = true)\n",
      " |-- ACCESIB: string (nullable = true)\n",
      " |-- GARAJE: string (nullable = true)\n",
      " |-- PLAZAS: string (nullable = true)\n",
      " |-- GAS: string (nullable = true)\n",
      " |-- TELEF: string (nullable = true)\n",
      " |-- ACAL: string (nullable = true)\n",
      " |-- RESID: string (nullable = true)\n",
      " |-- FAMILIA: string (nullable = true)\n",
      " |-- PAD_NORDEN: string (nullable = true)\n",
      " |-- MAD_NORDEN: string (nullable = true)\n",
      " |-- CON_NORDEN: string (nullable = true)\n",
      " |-- OPA_NORDEN: string (nullable = true)\n",
      " |-- TIPOPER: string (nullable = true)\n",
      " |-- NUCLEO: string (nullable = true)\n",
      " |-- NMIEM: string (nullable = true)\n",
      " |-- NFAM: string (nullable = true)\n",
      " |-- NNUC: string (nullable = true)\n",
      " |-- NGENER: string (nullable = true)\n",
      " |-- ESTHOG: string (nullable = true)\n",
      " |-- TIPOHOG: string (nullable = true)\n",
      " |-- NOCU: string (nullable = true)\n",
      " |-- NPARAIN: string (nullable = true)\n",
      " |-- NPFAM: string (nullable = true)\n",
      " |-- NPNUC: string (nullable = true)\n",
      " |-- HM5: string (nullable = true)\n",
      " |-- H0515: string (nullable = true)\n",
      " |-- H1624: string (nullable = true)\n",
      " |-- H2534: string (nullable = true)\n",
      " |-- H3564: string (nullable = true)\n",
      " |-- H6584: string (nullable = true)\n",
      " |-- H85M: string (nullable = true)\n",
      " |-- HESPHOG: string (nullable = true)\n",
      " |-- MESPHOG: string (nullable = true)\n",
      " |-- HEXTHOG: string (nullable = true)\n",
      " |-- MEXTHOG: string (nullable = true)\n",
      " |-- COMBINAC: string (nullable = true)\n",
      " |-- EDADPAD: string (nullable = true)\n",
      " |-- PAISNACPAD: string (nullable = true)\n",
      " |-- NACIPAD: string (nullable = true)\n",
      " |-- ECIVPAD: string (nullable = true)\n",
      " |-- ESTUPAD: string (nullable = true)\n",
      " |-- SITUPAD: string (nullable = true)\n",
      " |-- SITPPAD: string (nullable = true)\n",
      " |-- EDADMAD: string (nullable = true)\n",
      " |-- PAISNACMAD: string (nullable = true)\n",
      " |-- NACIMAD: string (nullable = true)\n",
      " |-- ECIVMAD: string (nullable = true)\n",
      " |-- ESTUMAD: string (nullable = true)\n",
      " |-- SITUMAD: string (nullable = true)\n",
      " |-- SITPMAD: string (nullable = true)\n",
      " |-- EDADCON: string (nullable = true)\n",
      " |-- NACCON: string (nullable = true)\n",
      " |-- NACICON: string (nullable = true)\n",
      " |-- ECIVCON: string (nullable = true)\n",
      " |-- ESTUCON: string (nullable = true)\n",
      " |-- SITUCON: string (nullable = true)\n",
      " |-- SITPCON: string (nullable = true)\n",
      " |-- TIPONUC: string (nullable = true)\n",
      " |-- TAMNUC: string (nullable = true)\n",
      " |-- NHIJO: string (nullable = true)\n",
      " |-- NHIJOC: string (nullable = true)\n",
      " |-- FAMNUM: string (nullable = true)\n",
      " |-- TIPOPARECIV: string (nullable = true)\n",
      " |-- TIPOPARSEX: string (nullable = true)\n",
      " |-- DIFEDAD: string (nullable = true)\n",
      " |-- NOMBRE_MUN: string (nullable = true)\n",
      "\n",
      "Sample for Parquet File:\n",
      "Row(CPRO='01', CMUN='059', IDHUECO='0000000356', NORDEN='0002', FACTOR='011.0002419100', MNAC='02', ANAC='1951', EDAD='060', SEXO='1', NACI='108', CPAISN='108', CPRON='31', CMUNN='992', ANORES='1983', ANOM='1974', ANOC='1974', ANOE='1951', CLPAIS='108', CLPRO='31', CLMUNP='992', RES_ANTERIOR=' ', CPAISUNANO='108', CPROUNANO='01', CMUNANO='059', RES_UNANO='1', CPAISDANO='108', CPRODANO='01', CMUNDANO='059', RES_DANO='1', SEG_VIV='1', SEG_PAIS='108', SEG_PROV='31', SEG_MUN='991', SEG_NOCHES='150', SEG_DISP='1', ECIVIL='2', ESCOLAR=' ', ESREAL='07', TESTUD='5', TAREA1='2', TAREA2='2', TAREA3='2', TAREA4='2', HIJOS=' ', NHIJOS='  ', RELA='5', JORNADA=' ', CNO='  ', CNAE='  ', SITU=' ', CSE='     ', ESCUR1='  ', ESCUR2='  ', ESCUR3='  ', LTRABA=' ', PAISTRABA='   ', PROTRABA='  ', MUNTRABA='   ', CODTRABA='     ', NVIAJE=' ', MDESP1=' ', MDESP2=' ', TDESP=' ', TENEN='1', CALE='2', ASEO='1', BADUCH='1', INTERNET='1', AGUACOR='1', SUT='090', NHAB='06', PLANTAS='08', PLANTAB='0', TIPOEDIF='1', ANOCONS='09', ESTADO='4', ASCENSOR='1', ACCESIB='1', GARAJE='1', PLAZAS='7', GAS='1', TELEF='1', ACAL='2', RESID='1', FAMILIA='1', PAD_NORDEN='  ', MAD_NORDEN='  ', CON_NORDEN='01', OPA_NORDEN='04', TIPOPER='C', NUCLEO='01', NMIEM='04', NFAM='1', NNUC='1', NGENER='03', ESTHOG='11', TIPOHOG='05', NOCU='03', NPARAIN='02', NPFAM='4 ', NPNUC='3 ', HM5='00', H0515='00', H1624='00', H2534='01', H3564='02', H6584='00', H85M='01', HESPHOG='03', MESPHOG='01', HEXTHOG='00', MEXTHOG='00', COMBINAC='1', EDADPAD='  ', PAISNACPAD='108', NACIPAD=' ', ECIVPAD=' ', ESTUPAD=' ', SITUPAD=' ', SITPPAD=' ', EDADMAD='  ', PAISNACMAD='108', NACIMAD=' ', ECIVMAD=' ', ESTUMAD=' ', SITUMAD=' ', SITPMAD=' ', EDADCON='13', NACCON='2', NACICON='2', ECIVCON='2', ESTUCON='6', SITUCON='2', SITPCON='4', TIPONUC='2', TAMNUC='02', NHIJO='1 ', NHIJOC='1 ', FAMNUM='01', TIPOPARECIV='01', TIPOPARSEX='01', DIFEDAD='05', NOMBRE_MUN='Vitoria-Gasteiz')\n",
      "Row(CPRO='01', CMUN='059', IDHUECO='0000001763', NORDEN='0001', FACTOR='013.9078151930', MNAC='01', ANAC='1925', EDAD='086', SEXO='1', NACI='108', CPAISN='108', CPRON='01', CMUNN='059', ANORES='2008', ANOM='1925', ANOC='1925', ANOE='1925', CLPAIS='108', CLPRO='01', CLMUNP='059', RES_ANTERIOR='1', CPAISUNANO='108', CPROUNANO='01', CMUNANO='059', RES_UNANO='1', CPAISDANO='108', CPRODANO='01', CMUNDANO='059', RES_DANO='1', SEG_VIV='2', SEG_PAIS='   ', SEG_PROV='  ', SEG_MUN='   ', SEG_NOCHES='   ', SEG_DISP=' ', ECIVIL='2', ESCOLAR=' ', ESREAL='05', TESTUD=' ', TAREA1='2', TAREA2='2', TAREA3='2', TAREA4='2', HIJOS=' ', NHIJOS='  ', RELA='5', JORNADA=' ', CNO='  ', CNAE='  ', SITU=' ', CSE='     ', ESCUR1='  ', ESCUR2='  ', ESCUR3='  ', LTRABA=' ', PAISTRABA='   ', PROTRABA='  ', MUNTRABA='   ', CODTRABA='     ', NVIAJE=' ', MDESP1=' ', MDESP2=' ', TDESP=' ', TENEN='2', CALE='1', ASEO='1', BADUCH='1', INTERNET='2', AGUACOR='2', SUT='056', NHAB='03', PLANTAS='05', PLANTAB='0', TIPOEDIF='1', ANOCONS='15', ESTADO='4', ASCENSOR='1', ACCESIB='1', GARAJE='1', PLAZAS='5', GAS='1', TELEF='1', ACAL='2', RESID='1', FAMILIA='1', PAD_NORDEN='  ', MAD_NORDEN='  ', CON_NORDEN='02', OPA_NORDEN='  ', TIPOPER='C', NUCLEO='01', NMIEM='02', NFAM='1', NNUC='1', NGENER='01', ESTHOG='07', TIPOHOG='04', NOCU='01', NPARAIN='01', NPFAM='2 ', NPNUC='2 ', HM5='00', H0515='00', H1624='00', H2534='00', H3564='00', H6584='01', H85M='01', HESPHOG='01', MESPHOG='01', HEXTHOG='00', MEXTHOG='00', COMBINAC='1', EDADPAD='  ', PAISNACPAD='108', NACIPAD=' ', ECIVPAD=' ', ESTUPAD=' ', SITUPAD=' ', SITPPAD=' ', EDADMAD='  ', PAISNACMAD='108', NACIMAD=' ', ECIVMAD=' ', ESTUMAD=' ', SITUMAD=' ', SITPMAD=' ', EDADCON='18', NACCON='2', NACICON='2', ECIVCON='2', ESTUCON='4', SITUCON='7', SITPCON='8', TIPONUC='1', TAMNUC='01', NHIJO='0 ', NHIJOC='0 ', FAMNUM='01', TIPOPARECIV='01', TIPOPARSEX='01', DIFEDAD='06', NOMBRE_MUN='Vitoria-Gasteiz')\n",
      "Row(CPRO='01', CMUN='991', IDHUECO='0000002173', NORDEN='0001', FACTOR='001.5957005454', MNAC='01', ANAC='1926', EDAD='085', SEXO='1', NACI='108', CPAISN='108', CPRON='01', CMUNN='991', ANORES='1926', ANOM='1926', ANOC='1926', ANOE='1926', CLPAIS='108', CLPRO='01', CLMUNP='991', RES_ANTERIOR='1', CPAISUNANO='108', CPROUNANO='01', CMUNANO='991', RES_UNANO='1', CPAISDANO='108', CPRODANO='01', CMUNDANO='991', RES_DANO='1', SEG_VIV='2', SEG_PAIS='   ', SEG_PROV='  ', SEG_MUN='   ', SEG_NOCHES='   ', SEG_DISP=' ', ECIVIL='2', ESCOLAR=' ', ESREAL='03', TESTUD=' ', TAREA1='2', TAREA2='2', TAREA3='2', TAREA4='2', HIJOS=' ', NHIJOS='  ', RELA='5', JORNADA=' ', CNO='  ', CNAE='  ', SITU=' ', CSE='     ', ESCUR1='  ', ESCUR2='  ', ESCUR3='  ', LTRABA=' ', PAISTRABA='   ', PROTRABA='  ', MUNTRABA='   ', CODTRABA='     ', NVIAJE=' ', MDESP1=' ', MDESP2=' ', TDESP=' ', TENEN='3', CALE='2', ASEO='1', BADUCH='1', INTERNET='1', AGUACOR='1', SUT='250', NHAB='09', PLANTAS='02', PLANTAB='0', TIPOEDIF='1', ANOCONS='02', ESTADO='4', ASCENSOR='2', ACCESIB='2', GARAJE='2', PLAZAS=' ', GAS='2', TELEF='1', ACAL='2', RESID='1', FAMILIA='1', PAD_NORDEN='  ', MAD_NORDEN='  ', CON_NORDEN='02', OPA_NORDEN='03', TIPOPER='C', NUCLEO='01', NMIEM='04', NFAM='1', NNUC='1', NGENER='02', ESTHOG='09', TIPOHOG='04', NOCU='03', NPARAIN='01', NPFAM='4 ', NPNUC='4 ', HM5='00', H0515='00', H1624='00', H2534='00', H3564='02', H6584='00', H85M='02', HESPHOG='02', MESPHOG='02', HEXTHOG='00', MEXTHOG='00', COMBINAC='1', EDADPAD='  ', PAISNACPAD='108', NACIPAD=' ', ECIVPAD=' ', ESTUPAD=' ', SITUPAD=' ', SITPPAD=' ', EDADMAD='  ', PAISNACMAD='108', NACIMAD=' ', ECIVMAD=' ', ESTUMAD=' ', SITUMAD=' ', SITPMAD=' ', EDADCON='19', NACCON='2', NACICON='2', ECIVCON='2', ESTUCON='5', SITUCON='2', SITPCON='4', TIPONUC='2', TAMNUC='03', NHIJO='2 ', NHIJOC='2 ', FAMNUM='01', TIPOPARECIV='01', TIPOPARSEX='01', DIFEDAD='03', NOMBRE_MUN=None)\n"
     ]
    }
   ],
   "source": [
    "# Read Parquet file\n",
    "censo_parquet = spark.read.format('parquet').load(path + 'censo-2011s.parquet')\n",
    "\n",
    "print(\"Schema for Parquet File :\")\n",
    "censo_parquet.printSchema()\n",
    "\n",
    "print(\"Sample for Parquet File:\")\n",
    "for row in censo_parquet.limit(3).collect():\n",
    "    print(row)\n"
   ]
  },
  {
   "cell_type": "code",
   "execution_count": 8,
   "metadata": {},
   "outputs": [
    {
     "name": "stdout",
     "output_type": "stream",
     "text": [
      "Size of Parquet File: 410605\n",
      "Number of columns in Parquet File: 143\n"
     ]
    }
   ],
   "source": [
    "# Size of the Parquet file (number of rows and columns)\n",
    "print(\"Size of Parquet File:\", censo_parquet.count())\n",
    "print(\"Number of columns in Parquet File:\", len(censo_parquet.columns))"
   ]
  },
  {
   "cell_type": "code",
   "execution_count": 9,
   "metadata": {},
   "outputs": [
    {
     "name": "stdout",
     "output_type": "stream",
     "text": [
      "Number of partitions in Parquet File: 7\n",
      "First 10 rows of Parquet File:\n",
      "+----+----+----------+------+--------------+----+----+----+----+----+------+-----+-----+------+----+----+----+------+-----+------+------------+----------+---------+-------+---------+---------+--------+--------+--------+-------+--------+--------+-------+----------+--------+------+-------+------+------+------+------+------+------+-----+------+----+-------+---+----+----+-----+------+------+------+------+---------+--------+--------+--------+------+------+------+-----+-----+----+----+------+--------+-------+---+----+-------+-------+--------+-------+------+--------+-------+------+------+---+-----+----+-----+-------+----------+----------+----------+----------+-------+------+-----+----+----+------+------+-------+----+-------+-----+-----+---+-----+-----+-----+-----+-----+----+-------+-------+-------+-------+--------+-------+----------+-------+-------+-------+-------+-------+-------+----------+-------+-------+-------+-------+-------+-------+------+-------+-------+-------+-------+-------+-------+------+-----+------+------+-----------+----------+-------+---------------+\n",
      "|CPRO|CMUN|   IDHUECO|NORDEN|        FACTOR|MNAC|ANAC|EDAD|SEXO|NACI|CPAISN|CPRON|CMUNN|ANORES|ANOM|ANOC|ANOE|CLPAIS|CLPRO|CLMUNP|RES_ANTERIOR|CPAISUNANO|CPROUNANO|CMUNANO|RES_UNANO|CPAISDANO|CPRODANO|CMUNDANO|RES_DANO|SEG_VIV|SEG_PAIS|SEG_PROV|SEG_MUN|SEG_NOCHES|SEG_DISP|ECIVIL|ESCOLAR|ESREAL|TESTUD|TAREA1|TAREA2|TAREA3|TAREA4|HIJOS|NHIJOS|RELA|JORNADA|CNO|CNAE|SITU|  CSE|ESCUR1|ESCUR2|ESCUR3|LTRABA|PAISTRABA|PROTRABA|MUNTRABA|CODTRABA|NVIAJE|MDESP1|MDESP2|TDESP|TENEN|CALE|ASEO|BADUCH|INTERNET|AGUACOR|SUT|NHAB|PLANTAS|PLANTAB|TIPOEDIF|ANOCONS|ESTADO|ASCENSOR|ACCESIB|GARAJE|PLAZAS|GAS|TELEF|ACAL|RESID|FAMILIA|PAD_NORDEN|MAD_NORDEN|CON_NORDEN|OPA_NORDEN|TIPOPER|NUCLEO|NMIEM|NFAM|NNUC|NGENER|ESTHOG|TIPOHOG|NOCU|NPARAIN|NPFAM|NPNUC|HM5|H0515|H1624|H2534|H3564|H6584|H85M|HESPHOG|MESPHOG|HEXTHOG|MEXTHOG|COMBINAC|EDADPAD|PAISNACPAD|NACIPAD|ECIVPAD|ESTUPAD|SITUPAD|SITPPAD|EDADMAD|PAISNACMAD|NACIMAD|ECIVMAD|ESTUMAD|SITUMAD|SITPMAD|EDADCON|NACCON|NACICON|ECIVCON|ESTUCON|SITUCON|SITPCON|TIPONUC|TAMNUC|NHIJO|NHIJOC|FAMNUM|TIPOPARECIV|TIPOPARSEX|DIFEDAD|     NOMBRE_MUN|\n",
      "+----+----+----------+------+--------------+----+----+----+----+----+------+-----+-----+------+----+----+----+------+-----+------+------------+----------+---------+-------+---------+---------+--------+--------+--------+-------+--------+--------+-------+----------+--------+------+-------+------+------+------+------+------+------+-----+------+----+-------+---+----+----+-----+------+------+------+------+---------+--------+--------+--------+------+------+------+-----+-----+----+----+------+--------+-------+---+----+-------+-------+--------+-------+------+--------+-------+------+------+---+-----+----+-----+-------+----------+----------+----------+----------+-------+------+-----+----+----+------+------+-------+----+-------+-----+-----+---+-----+-----+-----+-----+-----+----+-------+-------+-------+-------+--------+-------+----------+-------+-------+-------+-------+-------+-------+----------+-------+-------+-------+-------+-------+-------+------+-------+-------+-------+-------+-------+-------+------+-----+------+------+-----------+----------+-------+---------------+\n",
      "|  01| 059|0000000356|  0002|011.0002419100|  02|1951| 060|   1| 108|   108|   31|  992|  1983|1974|1974|1951|   108|   31|   992|            |       108|       01|    059|        1|      108|      01|     059|       1|      1|     108|      31|    991|       150|       1|     2|       |    07|     5|     2|     2|     2|     2|     |      |   5|       |   |    |    |     |      |      |      |      |         |        |        |        |      |      |      |     |    1|   2|   1|     1|       1|      1|090|  06|     08|      0|       1|     09|     4|       1|      1|     1|     7|  1|    1|   2|    1|      1|          |          |        01|        04|      C|    01|   04|   1|   1|    03|    11|     05|  03|     02|   4 |   3 | 00|   00|   00|   01|   02|   00|  01|     03|     01|     00|     00|       1|       |       108|       |       |       |       |       |       |       108|       |       |       |       |       |     13|     2|      2|      2|      6|      2|      4|      2|    02|   1 |    1 |    01|         01|        01|     05|Vitoria-Gasteiz|\n",
      "|  01| 059|0000001763|  0001|013.9078151930|  01|1925| 086|   1| 108|   108|   01|  059|  2008|1925|1925|1925|   108|   01|   059|           1|       108|       01|    059|        1|      108|      01|     059|       1|      2|        |        |       |          |        |     2|       |    05|      |     2|     2|     2|     2|     |      |   5|       |   |    |    |     |      |      |      |      |         |        |        |        |      |      |      |     |    2|   1|   1|     1|       2|      2|056|  03|     05|      0|       1|     15|     4|       1|      1|     1|     5|  1|    1|   2|    1|      1|          |          |        02|          |      C|    01|   02|   1|   1|    01|    07|     04|  01|     01|   2 |   2 | 00|   00|   00|   00|   00|   01|  01|     01|     01|     00|     00|       1|       |       108|       |       |       |       |       |       |       108|       |       |       |       |       |     18|     2|      2|      2|      4|      7|      8|      1|    01|   0 |    0 |    01|         01|        01|     06|Vitoria-Gasteiz|\n",
      "|  01| 991|0000002173|  0001|001.5957005454|  01|1926| 085|   1| 108|   108|   01|  991|  1926|1926|1926|1926|   108|   01|   991|           1|       108|       01|    991|        1|      108|      01|     991|       1|      2|        |        |       |          |        |     2|       |    03|      |     2|     2|     2|     2|     |      |   5|       |   |    |    |     |      |      |      |      |         |        |        |        |      |      |      |     |    3|   2|   1|     1|       1|      1|250|  09|     02|      0|       1|     02|     4|       2|      2|     2|      |  2|    1|   2|    1|      1|          |          |        02|        03|      C|    01|   04|   1|   1|    02|    09|     04|  03|     01|   4 |   4 | 00|   00|   00|   00|   02|   00|  02|     02|     02|     00|     00|       1|       |       108|       |       |       |       |       |       |       108|       |       |       |       |       |     19|     2|      2|      2|      5|      2|      4|      2|    03|   2 |    2 |    01|         01|        01|     03|           null|\n",
      "|  01| 059|0000003332|  0002|013.8891865280|  07|1928| 083|   6| 108|   108|   01|  991|  1974|1952|1952|1928|   108|   01|   991|            |       108|       01|    059|        1|      108|      01|     059|       1|      1|     108|      01|    991|       050|       1|     2|       |    03|      |     2|     2|     2|     2|    1|    02|   5|       |   |    |    |     |      |      |      |      |         |        |        |        |      |      |      |     |    1|   1|   1|     1|       1|      1|078|  06|     07|      0|       1|     08|     4|       1|      2|     2|      |  2|    1|   1|    1|      1|          |          |        01|          |      C|    01|   02|   1|   1|    01|    07|     04|  01|     01|   2 |   2 | 00|   00|   00|   00|   00|   02|  00|     01|     01|     00|     00|       1|       |       108|       |       |       |       |       |       |       108|       |       |       |       |       |     18|     2|      2|      2|      4|      7|      8|      1|    01|   0 |    0 |    01|         01|        01|     04|Vitoria-Gasteiz|\n",
      "|  01| 991|0000003980|  0001|002.7006308753|  01|1929| 082|   1| 108|   108|   01|  991|  1959|1929|1929|1929|   108|   01|   991|           1|       108|       01|    991|        1|      108|      01|     991|       1|      2|        |        |       |          |        |     2|       |    03|      |     2|     2|     2|     2|     |      |   5|       |   |    |    |     |      |      |      |      |         |        |        |        |      |      |      |     |    1|   2|   1|     1|       2|      1|054|  04|     02|      0|       1|     08|     4|       2|      2|     1|     2|  2|    1|   2|    1|      1|          |          |        02|          |      C|    01|   02|   1|   1|    01|    07|     04|  01|     01|   2 |   2 | 00|   00|   00|   00|   00|   02|  00|     01|     01|     00|     00|       1|       |       108|       |       |       |       |       |       |       108|       |       |       |       |       |     18|     2|      2|      2|      4|      7|      8|      1|    01|   0 |    0 |    01|         01|        01|     04|           null|\n",
      "|  01| 991|0000003982|  0003|001.2263627511|  04|1959| 052|   6| 108|   108|   01|  991|  2006|1959|1959|1959|   108|   01|   991|           1|       108|       01|    991|        1|      108|      01|     991|       1|      1|     108|      25|    993|       080|       1|     2|       |    06|     3|     2|     1|     2|     1|    1|    02|   1|      1| 45|  84|   3|13   |    09|      |      |     4|      108|      25|     993|   99999|     1|      |      |     |    1|   2|   1|     1|       2|      1|200|  11|     02|      0|       1|     07|     4|       2|      2|     1|     1|  2|    1|   2|    1|      1|        01|        02|          |          |      H|    01|   03|   1|   1|    02|    09|     04|  02|     01|   3 |   3 | 00|   00|   00|   00|   01|   02|  00|     01|     02|     00|     00|       1|     18|       108|      2|      2|      4|      7|      8|     18|       108|      2|      2|      4|      7|      8|       |      |       |       |       |       |       |      2|    02|   1 |    1 |    01|         01|        01|     05|           null|\n",
      "|  01| 994|0000005465|  0001|007.8592240561|  01|1931| 080|   1| 108|   108|   06|  992|  1975|1975|1975|1931|   108|   06|   992|            |       108|       01|    994|        1|      108|      01|     994|       1|      1|     108|      06|    992|       015|       1|     2|       |    02|      |     1|     2|     2|     2|     |      |   5|       |   |    |    |     |      |      |      |      |         |        |        |        |      |      |      |     |    1|   2|   1|     1|       2|      1|081|  06|     05|      0|       1|     07|     4|       1|      2|     2|      |  1|    1|   2|    1|      1|          |          |        02|          |      C|    01|   02|   1|   1|    01|    07|     04|  01|     01|   2 |   2 | 00|   00|   00|   00|   00|   02|  00|     01|     01|     00|     00|       1|       |       108|       |       |       |       |       |       |       108|       |       |       |       |       |     17|     2|      2|      2|      2|      7|      8|      1|    01|   0 |    0 |    01|         01|        01|     05|           null|\n",
      "|  01| 991|0000005467|  0001|001.7271115553|  01|1931| 080|   1| 108|   108|   01|  991|  1968|1931|1931|1931|   108|   01|   991|           1|       108|       01|    991|        1|      108|      01|     991|       1|      2|        |        |       |          |        |     3|       |    02|      |     2|     2|     2|     1|     |      |   5|       |   |    |    |     |      |      |      |      |         |        |        |        |      |      |      |     |    3|   2|   1|     1|       1|      1|110|  06|     02|      0|       1|     08|     4|       2|      2|     2|      |  1|    1|   2|    1|      1|          |          |          |        02|       |    00|   02|   1|   0|    01|    11|     03|  01|     01|   2 |   0 | 00|   01|   00|   00|   00|   01|  00|     01|     01|     00|     00|       1|       |       108|       |       |       |       |       |       |       108|       |       |       |       |       |       |      |       |       |       |       |       |       |      |     |      |      |           |          |       |           null|\n",
      "|  01| 059|0000005472|  0002|012.1405619400|  08|1938| 073|   6| 108|   108|   14|  013|  1988|1968|1968|1938|   108|   14|   013|            |       108|       01|    059|        1|      108|      01|     059|       1|      2|        |        |       |          |        |     2|       |    02|      |     2|     2|     2|     2|    2|      |   5|       |   |    |    |     |      |      |      |      |         |        |        |        |      |      |      |     |    1|   2|   1|     1|       2|      1|082|  05|     10|      0|       1|     09|     4|       1|      1|     1|     6|  1|    1|   2|    1|      1|          |          |        01|          |      C|    01|   02|   1|   1|    01|    07|     04|  01|     01|   2 |   2 | 00|   00|   00|   00|   00|   02|  00|     01|     01|     00|     00|       1|       |       108|       |       |       |       |       |       |       108|       |       |       |       |       |     18|     2|      2|      2|      4|      7|      8|      1|    01|   0 |    0 |    01|         01|        01|     06|Vitoria-Gasteiz|\n",
      "|  01| 994|0000006319|  0001|006.9252693018|  01|1932| 079|   1| 108|   108|   01|  994|  1958|1957|1932|1932|   108|   01|   992|            |       108|       01|    994|        1|      108|      01|     994|       1|      2|        |        |       |          |        |     3|       |    03|      |     2|     2|     2|     2|     |      |   5|       |   |    |    |     |      |      |      |      |         |        |        |        |      |      |      |     |    1|   2|   1|     1|       2|      1|054|  05|     05|      0|       1|     06|     4|       2|      2|     2|      |  1|    1|   2|    1|      0|          |          |          |          |       |    00|   01|   0|   0|    01|    04|     01|  01|     01|   0 |   0 | 00|   00|   00|   00|   00|   01|  00|     01|     00|     00|     00|       1|       |       108|       |       |       |       |       |       |       108|       |       |       |       |       |       |      |       |       |       |       |       |       |      |     |      |      |           |          |       |           null|\n",
      "+----+----+----------+------+--------------+----+----+----+----+----+------+-----+-----+------+----+----+----+------+-----+------+------------+----------+---------+-------+---------+---------+--------+--------+--------+-------+--------+--------+-------+----------+--------+------+-------+------+------+------+------+------+------+-----+------+----+-------+---+----+----+-----+------+------+------+------+---------+--------+--------+--------+------+------+------+-----+-----+----+----+------+--------+-------+---+----+-------+-------+--------+-------+------+--------+-------+------+------+---+-----+----+-----+-------+----------+----------+----------+----------+-------+------+-----+----+----+------+------+-------+----+-------+-----+-----+---+-----+-----+-----+-----+-----+----+-------+-------+-------+-------+--------+-------+----------+-------+-------+-------+-------+-------+-------+----------+-------+-------+-------+-------+-------+-------+------+-------+-------+-------+-------+-------+-------+------+-----+------+------+-----------+----------+-------+---------------+\n",
      "only showing top 10 rows\n",
      "\n"
     ]
    }
   ],
   "source": [
    "# See the number of partitions in the Parquet file\n",
    "print(\"Number of partitions in Parquet File:\", censo_parquet.rdd.getNumPartitions())\n",
    "\n",
    "# See the first 10 rows of the Parquet file\n",
    "print(\"First 10 rows of Parquet File:\")\n",
    "censo_parquet.show(10)"
   ]
  },
  {
   "cell_type": "markdown",
   "metadata": {},
   "source": [
    "Realizamos un join para obtener los nombres de las provincias."
   ]
  },
  {
   "cell_type": "code",
   "execution_count": 10,
   "metadata": {},
   "outputs": [
    {
     "name": "stdout",
     "output_type": "stream",
     "text": [
      "Schema for CSV File:\n",
      "root\n",
      " |-- CPRO: string (nullable = true)\n",
      " |-- NOMBRE_PRO: string (nullable = true)\n",
      "\n",
      "First 10 rows of CSV File:\n",
      "+----+----------+\n",
      "|CPRO|NOMBRE_PRO|\n",
      "+----+----------+\n",
      "|  01|     Alava|\n",
      "|  02|  Albacete|\n",
      "|  03|  Alicante|\n",
      "|  04|   Almería|\n",
      "|  05|     Avila|\n",
      "|  06|   Badajoz|\n",
      "|  07|  Baleares|\n",
      "|  08| Barcelona|\n",
      "|  09|    Burgos|\n",
      "|  10|   Cáceres|\n",
      "+----+----------+\n",
      "only showing top 10 rows\n",
      "\n"
     ]
    }
   ],
   "source": [
    "# Read the csv file\n",
    "censo_pro = spark.read.format('csv').option(\"header\", True).option(\"encoding\", \"utf-8\").load(path + 'codes-prov.csv')\n",
    "\n",
    "print(\"Schema for CSV File:\")\n",
    "censo_pro.printSchema()\n",
    "\n",
    "print(\"First 10 rows of CSV Province File:\")\n",
    "censo_pro.show(10)"
   ]
  },
  {
   "cell_type": "code",
   "execution_count": 11,
   "metadata": {},
   "outputs": [
    {
     "name": "stdout",
     "output_type": "stream",
     "text": [
      "First 10 rows of the joined DataFrame:\n",
      "+----+----+----------+------+--------------+----+----+----+----+----+------+-----+-----+------+----+----+----+------+-----+------+------------+----------+---------+-------+---------+---------+--------+--------+--------+-------+--------+--------+-------+----------+--------+------+-------+------+------+------+------+------+------+-----+------+----+-------+---+----+----+-----+------+------+------+------+---------+--------+--------+--------+------+------+------+-----+-----+----+----+------+--------+-------+---+----+-------+-------+--------+-------+------+--------+-------+------+------+---+-----+----+-----+-------+----------+----------+----------+----------+-------+------+-----+----+----+------+------+-------+----+-------+-----+-----+---+-----+-----+-----+-----+-----+----+-------+-------+-------+-------+--------+-------+----------+-------+-------+-------+-------+-------+-------+----------+-------+-------+-------+-------+-------+-------+------+-------+-------+-------+-------+-------+-------+------+-----+------+------+-----------+----------+-------+---------------+----------+\n",
      "|CPRO|CMUN|   IDHUECO|NORDEN|        FACTOR|MNAC|ANAC|EDAD|SEXO|NACI|CPAISN|CPRON|CMUNN|ANORES|ANOM|ANOC|ANOE|CLPAIS|CLPRO|CLMUNP|RES_ANTERIOR|CPAISUNANO|CPROUNANO|CMUNANO|RES_UNANO|CPAISDANO|CPRODANO|CMUNDANO|RES_DANO|SEG_VIV|SEG_PAIS|SEG_PROV|SEG_MUN|SEG_NOCHES|SEG_DISP|ECIVIL|ESCOLAR|ESREAL|TESTUD|TAREA1|TAREA2|TAREA3|TAREA4|HIJOS|NHIJOS|RELA|JORNADA|CNO|CNAE|SITU|  CSE|ESCUR1|ESCUR2|ESCUR3|LTRABA|PAISTRABA|PROTRABA|MUNTRABA|CODTRABA|NVIAJE|MDESP1|MDESP2|TDESP|TENEN|CALE|ASEO|BADUCH|INTERNET|AGUACOR|SUT|NHAB|PLANTAS|PLANTAB|TIPOEDIF|ANOCONS|ESTADO|ASCENSOR|ACCESIB|GARAJE|PLAZAS|GAS|TELEF|ACAL|RESID|FAMILIA|PAD_NORDEN|MAD_NORDEN|CON_NORDEN|OPA_NORDEN|TIPOPER|NUCLEO|NMIEM|NFAM|NNUC|NGENER|ESTHOG|TIPOHOG|NOCU|NPARAIN|NPFAM|NPNUC|HM5|H0515|H1624|H2534|H3564|H6584|H85M|HESPHOG|MESPHOG|HEXTHOG|MEXTHOG|COMBINAC|EDADPAD|PAISNACPAD|NACIPAD|ECIVPAD|ESTUPAD|SITUPAD|SITPPAD|EDADMAD|PAISNACMAD|NACIMAD|ECIVMAD|ESTUMAD|SITUMAD|SITPMAD|EDADCON|NACCON|NACICON|ECIVCON|ESTUCON|SITUCON|SITPCON|TIPONUC|TAMNUC|NHIJO|NHIJOC|FAMNUM|TIPOPARECIV|TIPOPARSEX|DIFEDAD|     NOMBRE_MUN|NOMBRE_PRO|\n",
      "+----+----+----------+------+--------------+----+----+----+----+----+------+-----+-----+------+----+----+----+------+-----+------+------------+----------+---------+-------+---------+---------+--------+--------+--------+-------+--------+--------+-------+----------+--------+------+-------+------+------+------+------+------+------+-----+------+----+-------+---+----+----+-----+------+------+------+------+---------+--------+--------+--------+------+------+------+-----+-----+----+----+------+--------+-------+---+----+-------+-------+--------+-------+------+--------+-------+------+------+---+-----+----+-----+-------+----------+----------+----------+----------+-------+------+-----+----+----+------+------+-------+----+-------+-----+-----+---+-----+-----+-----+-----+-----+----+-------+-------+-------+-------+--------+-------+----------+-------+-------+-------+-------+-------+-------+----------+-------+-------+-------+-------+-------+-------+------+-------+-------+-------+-------+-------+-------+------+-----+------+------+-----------+----------+-------+---------------+----------+\n",
      "|  01| 059|0000000356|  0002|011.0002419100|  02|1951| 060|   1| 108|   108|   31|  992|  1983|1974|1974|1951|   108|   31|   992|            |       108|       01|    059|        1|      108|      01|     059|       1|      1|     108|      31|    991|       150|       1|     2|       |    07|     5|     2|     2|     2|     2|     |      |   5|       |   |    |    |     |      |      |      |      |         |        |        |        |      |      |      |     |    1|   2|   1|     1|       1|      1|090|  06|     08|      0|       1|     09|     4|       1|      1|     1|     7|  1|    1|   2|    1|      1|          |          |        01|        04|      C|    01|   04|   1|   1|    03|    11|     05|  03|     02|   4 |   3 | 00|   00|   00|   01|   02|   00|  01|     03|     01|     00|     00|       1|       |       108|       |       |       |       |       |       |       108|       |       |       |       |       |     13|     2|      2|      2|      6|      2|      4|      2|    02|   1 |    1 |    01|         01|        01|     05|Vitoria-Gasteiz|     Alava|\n",
      "|  01| 059|0000001763|  0001|013.9078151930|  01|1925| 086|   1| 108|   108|   01|  059|  2008|1925|1925|1925|   108|   01|   059|           1|       108|       01|    059|        1|      108|      01|     059|       1|      2|        |        |       |          |        |     2|       |    05|      |     2|     2|     2|     2|     |      |   5|       |   |    |    |     |      |      |      |      |         |        |        |        |      |      |      |     |    2|   1|   1|     1|       2|      2|056|  03|     05|      0|       1|     15|     4|       1|      1|     1|     5|  1|    1|   2|    1|      1|          |          |        02|          |      C|    01|   02|   1|   1|    01|    07|     04|  01|     01|   2 |   2 | 00|   00|   00|   00|   00|   01|  01|     01|     01|     00|     00|       1|       |       108|       |       |       |       |       |       |       108|       |       |       |       |       |     18|     2|      2|      2|      4|      7|      8|      1|    01|   0 |    0 |    01|         01|        01|     06|Vitoria-Gasteiz|     Alava|\n",
      "|  01| 991|0000002173|  0001|001.5957005454|  01|1926| 085|   1| 108|   108|   01|  991|  1926|1926|1926|1926|   108|   01|   991|           1|       108|       01|    991|        1|      108|      01|     991|       1|      2|        |        |       |          |        |     2|       |    03|      |     2|     2|     2|     2|     |      |   5|       |   |    |    |     |      |      |      |      |         |        |        |        |      |      |      |     |    3|   2|   1|     1|       1|      1|250|  09|     02|      0|       1|     02|     4|       2|      2|     2|      |  2|    1|   2|    1|      1|          |          |        02|        03|      C|    01|   04|   1|   1|    02|    09|     04|  03|     01|   4 |   4 | 00|   00|   00|   00|   02|   00|  02|     02|     02|     00|     00|       1|       |       108|       |       |       |       |       |       |       108|       |       |       |       |       |     19|     2|      2|      2|      5|      2|      4|      2|    03|   2 |    2 |    01|         01|        01|     03|           null|     Alava|\n",
      "|  01| 059|0000003332|  0002|013.8891865280|  07|1928| 083|   6| 108|   108|   01|  991|  1974|1952|1952|1928|   108|   01|   991|            |       108|       01|    059|        1|      108|      01|     059|       1|      1|     108|      01|    991|       050|       1|     2|       |    03|      |     2|     2|     2|     2|    1|    02|   5|       |   |    |    |     |      |      |      |      |         |        |        |        |      |      |      |     |    1|   1|   1|     1|       1|      1|078|  06|     07|      0|       1|     08|     4|       1|      2|     2|      |  2|    1|   1|    1|      1|          |          |        01|          |      C|    01|   02|   1|   1|    01|    07|     04|  01|     01|   2 |   2 | 00|   00|   00|   00|   00|   02|  00|     01|     01|     00|     00|       1|       |       108|       |       |       |       |       |       |       108|       |       |       |       |       |     18|     2|      2|      2|      4|      7|      8|      1|    01|   0 |    0 |    01|         01|        01|     04|Vitoria-Gasteiz|     Alava|\n",
      "|  01| 991|0000003980|  0001|002.7006308753|  01|1929| 082|   1| 108|   108|   01|  991|  1959|1929|1929|1929|   108|   01|   991|           1|       108|       01|    991|        1|      108|      01|     991|       1|      2|        |        |       |          |        |     2|       |    03|      |     2|     2|     2|     2|     |      |   5|       |   |    |    |     |      |      |      |      |         |        |        |        |      |      |      |     |    1|   2|   1|     1|       2|      1|054|  04|     02|      0|       1|     08|     4|       2|      2|     1|     2|  2|    1|   2|    1|      1|          |          |        02|          |      C|    01|   02|   1|   1|    01|    07|     04|  01|     01|   2 |   2 | 00|   00|   00|   00|   00|   02|  00|     01|     01|     00|     00|       1|       |       108|       |       |       |       |       |       |       108|       |       |       |       |       |     18|     2|      2|      2|      4|      7|      8|      1|    01|   0 |    0 |    01|         01|        01|     04|           null|     Alava|\n",
      "|  01| 991|0000003982|  0003|001.2263627511|  04|1959| 052|   6| 108|   108|   01|  991|  2006|1959|1959|1959|   108|   01|   991|           1|       108|       01|    991|        1|      108|      01|     991|       1|      1|     108|      25|    993|       080|       1|     2|       |    06|     3|     2|     1|     2|     1|    1|    02|   1|      1| 45|  84|   3|13   |    09|      |      |     4|      108|      25|     993|   99999|     1|      |      |     |    1|   2|   1|     1|       2|      1|200|  11|     02|      0|       1|     07|     4|       2|      2|     1|     1|  2|    1|   2|    1|      1|        01|        02|          |          |      H|    01|   03|   1|   1|    02|    09|     04|  02|     01|   3 |   3 | 00|   00|   00|   00|   01|   02|  00|     01|     02|     00|     00|       1|     18|       108|      2|      2|      4|      7|      8|     18|       108|      2|      2|      4|      7|      8|       |      |       |       |       |       |       |      2|    02|   1 |    1 |    01|         01|        01|     05|           null|     Alava|\n",
      "|  01| 994|0000005465|  0001|007.8592240561|  01|1931| 080|   1| 108|   108|   06|  992|  1975|1975|1975|1931|   108|   06|   992|            |       108|       01|    994|        1|      108|      01|     994|       1|      1|     108|      06|    992|       015|       1|     2|       |    02|      |     1|     2|     2|     2|     |      |   5|       |   |    |    |     |      |      |      |      |         |        |        |        |      |      |      |     |    1|   2|   1|     1|       2|      1|081|  06|     05|      0|       1|     07|     4|       1|      2|     2|      |  1|    1|   2|    1|      1|          |          |        02|          |      C|    01|   02|   1|   1|    01|    07|     04|  01|     01|   2 |   2 | 00|   00|   00|   00|   00|   02|  00|     01|     01|     00|     00|       1|       |       108|       |       |       |       |       |       |       108|       |       |       |       |       |     17|     2|      2|      2|      2|      7|      8|      1|    01|   0 |    0 |    01|         01|        01|     05|           null|     Alava|\n",
      "|  01| 991|0000005467|  0001|001.7271115553|  01|1931| 080|   1| 108|   108|   01|  991|  1968|1931|1931|1931|   108|   01|   991|           1|       108|       01|    991|        1|      108|      01|     991|       1|      2|        |        |       |          |        |     3|       |    02|      |     2|     2|     2|     1|     |      |   5|       |   |    |    |     |      |      |      |      |         |        |        |        |      |      |      |     |    3|   2|   1|     1|       1|      1|110|  06|     02|      0|       1|     08|     4|       2|      2|     2|      |  1|    1|   2|    1|      1|          |          |          |        02|       |    00|   02|   1|   0|    01|    11|     03|  01|     01|   2 |   0 | 00|   01|   00|   00|   00|   01|  00|     01|     01|     00|     00|       1|       |       108|       |       |       |       |       |       |       108|       |       |       |       |       |       |      |       |       |       |       |       |       |      |     |      |      |           |          |       |           null|     Alava|\n",
      "|  01| 059|0000005472|  0002|012.1405619400|  08|1938| 073|   6| 108|   108|   14|  013|  1988|1968|1968|1938|   108|   14|   013|            |       108|       01|    059|        1|      108|      01|     059|       1|      2|        |        |       |          |        |     2|       |    02|      |     2|     2|     2|     2|    2|      |   5|       |   |    |    |     |      |      |      |      |         |        |        |        |      |      |      |     |    1|   2|   1|     1|       2|      1|082|  05|     10|      0|       1|     09|     4|       1|      1|     1|     6|  1|    1|   2|    1|      1|          |          |        01|          |      C|    01|   02|   1|   1|    01|    07|     04|  01|     01|   2 |   2 | 00|   00|   00|   00|   00|   02|  00|     01|     01|     00|     00|       1|       |       108|       |       |       |       |       |       |       108|       |       |       |       |       |     18|     2|      2|      2|      4|      7|      8|      1|    01|   0 |    0 |    01|         01|        01|     06|Vitoria-Gasteiz|     Alava|\n",
      "|  01| 994|0000006319|  0001|006.9252693018|  01|1932| 079|   1| 108|   108|   01|  994|  1958|1957|1932|1932|   108|   01|   992|            |       108|       01|    994|        1|      108|      01|     994|       1|      2|        |        |       |          |        |     3|       |    03|      |     2|     2|     2|     2|     |      |   5|       |   |    |    |     |      |      |      |      |         |        |        |        |      |      |      |     |    1|   2|   1|     1|       2|      1|054|  05|     05|      0|       1|     06|     4|       2|      2|     2|      |  1|    1|   2|    1|      0|          |          |          |          |       |    00|   01|   0|   0|    01|    04|     01|  01|     01|   0 |   0 | 00|   00|   00|   00|   00|   01|  00|     01|     00|     00|     00|       1|       |       108|       |       |       |       |       |       |       108|       |       |       |       |       |       |      |       |       |       |       |       |       |      |     |      |      |           |          |       |           null|     Alava|\n",
      "+----+----+----------+------+--------------+----+----+----+----+----+------+-----+-----+------+----+----+----+------+-----+------+------------+----------+---------+-------+---------+---------+--------+--------+--------+-------+--------+--------+-------+----------+--------+------+-------+------+------+------+------+------+------+-----+------+----+-------+---+----+----+-----+------+------+------+------+---------+--------+--------+--------+------+------+------+-----+-----+----+----+------+--------+-------+---+----+-------+-------+--------+-------+------+--------+-------+------+------+---+-----+----+-----+-------+----------+----------+----------+----------+-------+------+-----+----+----+------+------+-------+----+-------+-----+-----+---+-----+-----+-----+-----+-----+----+-------+-------+-------+-------+--------+-------+----------+-------+-------+-------+-------+-------+-------+----------+-------+-------+-------+-------+-------+-------+------+-------+-------+-------+-------+-------+-------+------+-----+------+------+-----------+----------+-------+---------------+----------+\n",
      "only showing top 10 rows\n",
      "\n"
     ]
    }
   ],
   "source": [
    "# Perform a join operation between the Parquet file and the CSV file if the column CPRO is the same\n",
    "censo_data = censo_parquet.join(censo_pro, censo_parquet.CPRO == censo_pro.CPRO, how='left').drop(censo_pro.CPRO)\n",
    "\n",
    "print(\"First 10 rows of the joined DataFrame:\")\n",
    "censo_data.show(10)"
   ]
  },
  {
   "cell_type": "markdown",
   "metadata": {},
   "source": [
    "### 2. Realizamos un filtrado de las muestras, dejando sólo las de las personas cuyo país de nacimiento sea o Francia o Portugal"
   ]
  },
  {
   "cell_type": "code",
   "execution_count": 12,
   "metadata": {},
   "outputs": [
    {
     "name": "stdout",
     "output_type": "stream",
     "text": [
      "First 10 rows of the filtered DataFrame:\n",
      "+----+----+----------+------+--------------+----+----+----+----+----+------+-----+-----+------+----+----+----+------+-----+------+------------+----------+---------+-------+---------+---------+--------+--------+--------+-------+--------+--------+-------+----------+--------+------+-------+------+------+------+------+------+------+-----+------+----+-------+---+----+----+-----+------+------+------+------+---------+--------+--------+--------+------+------+------+-----+-----+----+----+------+--------+-------+---+----+-------+-------+--------+-------+------+--------+-------+------+------+---+-----+----+-----+-------+----------+----------+----------+----------+-------+------+-----+----+----+------+------+-------+----+-------+-----+-----+---+-----+-----+-----+-----+-----+----+-------+-------+-------+-------+--------+-------+----------+-------+-------+-------+-------+-------+-------+----------+-------+-------+-------+-------+-------+-------+------+-------+-------+-------+-------+-------+-------+------+-----+------+------+-----------+----------+-------+---------------+----------+\n",
      "|CPRO|CMUN|   IDHUECO|NORDEN|        FACTOR|MNAC|ANAC|EDAD|SEXO|NACI|CPAISN|CPRON|CMUNN|ANORES|ANOM|ANOC|ANOE|CLPAIS|CLPRO|CLMUNP|RES_ANTERIOR|CPAISUNANO|CPROUNANO|CMUNANO|RES_UNANO|CPAISDANO|CPRODANO|CMUNDANO|RES_DANO|SEG_VIV|SEG_PAIS|SEG_PROV|SEG_MUN|SEG_NOCHES|SEG_DISP|ECIVIL|ESCOLAR|ESREAL|TESTUD|TAREA1|TAREA2|TAREA3|TAREA4|HIJOS|NHIJOS|RELA|JORNADA|CNO|CNAE|SITU|  CSE|ESCUR1|ESCUR2|ESCUR3|LTRABA|PAISTRABA|PROTRABA|MUNTRABA|CODTRABA|NVIAJE|MDESP1|MDESP2|TDESP|TENEN|CALE|ASEO|BADUCH|INTERNET|AGUACOR|SUT|NHAB|PLANTAS|PLANTAB|TIPOEDIF|ANOCONS|ESTADO|ASCENSOR|ACCESIB|GARAJE|PLAZAS|GAS|TELEF|ACAL|RESID|FAMILIA|PAD_NORDEN|MAD_NORDEN|CON_NORDEN|OPA_NORDEN|TIPOPER|NUCLEO|NMIEM|NFAM|NNUC|NGENER|ESTHOG|TIPOHOG|NOCU|NPARAIN|NPFAM|NPNUC|HM5|H0515|H1624|H2534|H3564|H6584|H85M|HESPHOG|MESPHOG|HEXTHOG|MEXTHOG|COMBINAC|EDADPAD|PAISNACPAD|NACIPAD|ECIVPAD|ESTUPAD|SITUPAD|SITPPAD|EDADMAD|PAISNACMAD|NACIMAD|ECIVMAD|ESTUMAD|SITUMAD|SITPMAD|EDADCON|NACCON|NACICON|ECIVCON|ESTUCON|SITUCON|SITPCON|TIPONUC|TAMNUC|NHIJO|NHIJOC|FAMNUM|TIPOPARECIV|TIPOPARSEX|DIFEDAD|     NOMBRE_MUN|NOMBRE_PRO|\n",
      "+----+----+----------+------+--------------+----+----+----+----+----+------+-----+-----+------+----+----+----+------+-----+------+------------+----------+---------+-------+---------+---------+--------+--------+--------+-------+--------+--------+-------+----------+--------+------+-------+------+------+------+------+------+------+-----+------+----+-------+---+----+----+-----+------+------+------+------+---------+--------+--------+--------+------+------+------+-----+-----+----+----+------+--------+-------+---+----+-------+-------+--------+-------+------+--------+-------+------+------+---+-----+----+-----+-------+----------+----------+----------+----------+-------+------+-----+----+----+------+------+-------+----+-------+-----+-----+---+-----+-----+-----+-----+-----+----+-------+-------+-------+-------+--------+-------+----------+-------+-------+-------+-------+-------+-------+----------+-------+-------+-------+-------+-------+-------+------+-------+-------+-------+-------+-------+-------+------+-----+------+------+-----------+----------+-------+---------------+----------+\n",
      "|  01| 991|0000087486|  0003|004.0871491621|  01|1922| 089|   6| 108|   110|     |     |  2009|2009|2009|1937|   108|   48|   020|            |       108|       01|    991|        1|      108|      11|     993|        |      2|        |        |       |          |        |     3|       |    05|      |     2|     2|     2|     2|    2|      |   5|       |   |    |    |     |      |      |      |      |         |        |        |        |      |      |      |     |    1|   2|   1|     1|       1|      1|150|  05|     03|      0|       1|     08|     4|       2|      2|     2|      |  2|    1|   2|    1|      1|          |          |          |        02|       |    00|   03|   1|   1|    02|    11|     05|  01|     02|   3 |   2 | 00|   00|   00|   00|   01|   01|  01|     01|     02|     00|     00|       1|       |       108|       |       |       |       |       |       |       108|       |       |       |       |       |       |      |       |       |       |       |       |       |      |     |      |      |           |          |       |           null|     Alava|\n",
      "|  01| 059|0000271947|  0002|035.2527725270|  10|1973| 038|   1| 110|   110|     |     |  2001|1999|1999|1999|   110|     |      |            |       108|       01|    059|        1|      108|      01|     059|       1|      1|     110|        |       |       020|       2|     2|       |    08|     4|     1|     2|     2|     1|     |      |   1|      1| 31|  30|   3|11-12|      |      |      |     3|      108|      01|     059|   99999|     2|     6|      |    3|    2|   2|   1|     1|       1|      1|059|  03|     08|      0|       1|     07|     4|       1|      1|     2|      |  1|    1|   2|    1|      1|          |          |        01|        04|      C|    01|   04|   1|   1|    02|    08|     04|  03|     01|   4 |   4 | 01|   01|   00|   00|   02|   00|  00|     01|     02|     01|     00|       2|       |       110|       |       |       |       |       |       |       110|       |       |       |       |       |     09|     2|      2|      2|      5|      3|      5|      2|    03|   2 |    2 |    01|         01|        01|     05|Vitoria-Gasteiz|     Alava|\n",
      "|  01| 059|0000637786|  0001|013.0300107580|  05|1977| 034|   1| 108|   123|     |     |  2009|1977|1977|1977|   123|     |      |            |       108|       01|    059|        1|      108|      01|     059|       1|      1|     110|        |       |       030|       1|     2|       |    03|      |     2|     2|     2|     1|     |      |   1|      1| 84|  47|   3|16   |      |      |      |     3|      108|      01|     059|   99999|     3|     1|      |    2|    2|   1|   1|     1|       1|      1|090|  05|     08|      0|       1|     18|     4|       1|      1|     2|      |  1|    1|   1|    1|      1|          |          |        02|        03|      C|    01|   04|   1|   1|    02|    08|     04|  03|     01|   4 |   4 | 00|   02|   00|   02|   00|   00|  00|     03|     01|     00|     00|       1|       |       123|       |       |       |       |       |       |       123|       |       |       |       |       |     08|     3|      2|      2|      5|      3|      4|      2|    03|   2 |    2 |    01|         01|        01|     05|Vitoria-Gasteiz|     Alava|\n",
      "|  01| 991|0000686990|  0002|005.5162803925|  07|1965| 046|   1| 123|   123|     |     |  1991|1989|1989|1989|   123|     |      |            |       108|       01|    991|        1|      108|      01|     991|       1|      2|        |        |       |          |        |     2|       |    03|      |     2|     2|     2|     2|     |      |   1|      1| 83|  43|   4|16   |      |      |      |     2|      108|        |        |        |      |      |      |     |    2|   4|   1|     1|       1|      1|060|  04|     03|      0|       1|     06|     4|       2|      2|     2|      |  2|    1|   2|    1|      1|          |          |        01|        03|      C|    01|   04|   1|   1|    02|    08|     04|  02|     03|   4 |   4 | 00|   01|   01|   00|   02|   00|  00|     02|     01|     01|     00|       2|       |       123|       |       |       |       |       |       |       123|       |       |       |       |       |     10|     2|      2|      2|      5|      9|      8|      2|    03|   2 |    2 |    01|         01|        01|     05|           null|     Alava|\n",
      "|  01| 059|0000700179|  0002|070.9902016540|  09|2004| 007|   1| 137|   123|     |     |  2011|2005|2005|2005|   123|     |      |            |       108|       01|    059|        1|         |        |        |        |      2|        |        |       |          |        |     1|      1|      |      |      |      |      |      |     |      |    |       |   |    |    |     |      |      |      |     3|      108|      01|     059|   99999|     2|     3|      |    3|    4|   1|   1|     1|       1|      1|060|  03|     09|      0|       1|     19|     4|       1|      1|     1|     6|  1|    1|   1|    1|      1|          |        01|          |        03|      H|    01|   03|   1|   1|    02|    05|     04|  01|     02|   3 |   3 | 01|   01|   00|   01|   00|   00|  00|     00|     01|     01|     01|       2|       |       137|       |       |       |       |       |     08|       137|      3|      4|      6|      4|      2|       |      |       |       |       |       |       |      4|    02|   2 |    0 |    01|         04|        04|     08|Vitoria-Gasteiz|     Alava|\n",
      "|  01| 059|0000836101|  0002|014.7326217830|  06|1987| 024|   6| 123|   123|     |     |  2002|1995|1995|1995|   123|     |      |            |       108|       01|    059|        1|      108|      01|     059|       1|      1|     123|        |       |       030|       1|     1|       |    07|     8|     2|     2|     2|     2|    2|      |   6|       |   |    |    |     |    09|      |      |     3|      108|      01|     059|   01010|     2|     6|      |    2|    2|   2|   1|     1|       1|      1|080|  03|     05|      0|       1|     15|     4|       1|      1|     1|     4|  1|    1|   2|    1|      1|        03|        06|          |        05|      H|    01|   04|   1|   1|    02|    08|     04|  04|     02|   4 |   4 | 00|   00|   01|   01|   02|   00|  00|     00|     00|     01|     03|       2|     12|       123|      3|      2|      4|      2|      4|     13|       123|      3|      2|      4|      2|      4|       |      |       |       |       |       |       |      2|    03|   2 |    2 |    01|         01|        01|     03|Vitoria-Gasteiz|     Alava|\n",
      "|  01| 059|0000836101|  0003|014.7326217830|  08|1959| 052|   1| 123|   123|     |     |  2002|1987|1987|1987|   123|     |      |            |       108|       01|    059|        1|      108|      01|     059|       1|      1|     123|        |       |       030|       1|     2|       |    03|      |     2|     2|     2|     2|     |      |   1|      1| 71|  41|   3|16   |      |      |      |     3|      108|      01|     059|   99999|     3|     6|      |    1|    2|   2|   1|     1|       1|      1|080|  03|     05|      0|       1|     15|     4|       1|      1|     1|     4|  1|    1|   2|    1|      1|          |          |        06|        05|      C|    01|   04|   1|   1|    02|    08|     04|  04|     02|   4 |   4 | 00|   00|   01|   01|   02|   00|  00|     00|     00|     01|     03|       2|       |       123|       |       |       |       |       |       |       123|       |       |       |       |       |     13|     3|      3|      2|      4|      2|      4|      2|    03|   2 |    2 |    01|         01|        01|     03|Vitoria-Gasteiz|     Alava|\n",
      "|  01| 059|0000888942|  0001|012.6383012270|  07|1966| 045|   1| 108|   110|     |     |  2007|2007|2007|1976|   108|   47|   186|            |       108|       01|    059|        1|      108|      47|     186|        |      2|        |        |       |          |        |     2|       |    07|     5|     2|     2|     2|     2|     |      |   1|      1| 31|  43|   3|11-12|      |      |      |     3|      108|      01|     059|   01010|     3|     8|      |    2|    2|   2|   1|     1|       1|      1|096|  05|     08|      0|       1|     15|     4|       1|      1|     1|     6|  1|    1|   2|    1|      1|          |          |        02|        03|      C|    01|   04|   1|   1|    02|    08|     04|  02|     02|   4 |   4 | 00|   02|   00|   00|   02|   00|  00|     02|     02|     00|     00|       1|       |       110|       |       |       |       |       |       |       110|       |       |       |       |       |     10|     2|      2|      2|      5|      9|      8|      2|    03|   2 |    2 |    01|         01|        01|     05|Vitoria-Gasteiz|     Alava|\n",
      "|  01| 059|0001219999|  0001|014.3665111430|  09|1971| 040|   6| 108|   110|     |     |  1977|1977|1977|1977|   110|     |      |            |       108|       01|    059|        1|      108|      01|     059|       1|      1|     108|      32|    991|       015|       2|     1|       |    10|     3|     2|     2|     2|     1|    2|      |   1|      1| 26|  84|   3|11-12|    15|      |      |     4|      108|      01|     991|   99999|     2|     1|      |    2|    2|   2|   1|     1|       1|      1|084|  05|     07|      0|       1|     09|     4|       1|      1|     2|      |  1|    1|   2|    1|      1|          |          |        02|          |      C|    01|   02|   1|   1|    01|    07|     04|  03|     01|   2 |   2 | 00|   00|   00|   00|   02|   00|  00|     01|     01|     00|     00|       1|       |       108|       |       |       |       |       |       |       108|       |       |       |       |       |     09|     2|      2|      1|      5|      2|      4|      1|    01|   0 |    0 |    01|         02|        01|     03|Vitoria-Gasteiz|     Alava|\n",
      "|  01| 059|0001229374|  0002|016.7939568490|  09|1982| 029|   6| 123|   123|     |     |  2001|2000|2000|2000|   123|     |      |            |       108|       01|    059|        1|      108|      01|     059|       1|      2|        |        |       |          |        |     2|       |    08|     8|     1|     2|     2|     1|    1|    02|   1|      1| 72|  43|   1|07   |      |      |      |     3|      108|      01|     059|   99999|     2|     1|      |    2|    2|   2|   1|     1|       1|      1|080|  03|     05|      0|       1|     08|     4|       1|      2|     2|      |  1|    1|   2|    1|      1|          |          |          |        04|       |    00|   05|   1|   1|    01|    11|     05|  03|     02|   5 |   2 | 00|   02|   01|   02|   00|   00|  00|     00|     01|     01|     03|       2|       |       123|       |       |       |       |       |       |       123|       |       |       |       |       |       |      |       |       |       |       |       |       |      |     |      |      |           |          |       |Vitoria-Gasteiz|     Alava|\n",
      "+----+----+----------+------+--------------+----+----+----+----+----+------+-----+-----+------+----+----+----+------+-----+------+------------+----------+---------+-------+---------+---------+--------+--------+--------+-------+--------+--------+-------+----------+--------+------+-------+------+------+------+------+------+------+-----+------+----+-------+---+----+----+-----+------+------+------+------+---------+--------+--------+--------+------+------+------+-----+-----+----+----+------+--------+-------+---+----+-------+-------+--------+-------+------+--------+-------+------+------+---+-----+----+-----+-------+----------+----------+----------+----------+-------+------+-----+----+----+------+------+-------+----+-------+-----+-----+---+-----+-----+-----+-----+-----+----+-------+-------+-------+-------+--------+-------+----------+-------+-------+-------+-------+-------+-------+----------+-------+-------+-------+-------+-------+-------+------+-------+-------+-------+-------+-------+-------+------+-----+------+------+-----------+----------+-------+---------------+----------+\n",
      "only showing top 10 rows\n",
      "\n"
     ]
    }
   ],
   "source": [
    "# Filter the censo_data by leaving only those of persons whose country of birth is either France or Portugal (CPAISN=110 OR CPAISN=123) with the filter function of the pyspark\n",
    "censo_filtered = censo_data.filter((censo_data.CPAISN == 110) | (censo_data.CPAISN == 123))\n",
    "\n",
    "print(\"First 10 rows of the filtered DataFrame:\")\n",
    "censo_filtered.show(10)"
   ]
  },
  {
   "cell_type": "code",
   "execution_count": 13,
   "metadata": {},
   "outputs": [
    {
     "name": "stdout",
     "output_type": "stream",
     "text": [
      "First 10 rows of the CSV Country File:\n",
      "+--------+------------+\n",
      "|COD_PAIS|LITERAL_PAIS|\n",
      "+--------+------------+\n",
      "|     100|      EUROPA|\n",
      "|     101|     ALBANIA|\n",
      "|     102|     AUSTRIA|\n",
      "|     103|     BELGICA|\n",
      "|     104|    BULGARIA|\n",
      "|     106|      CHIPRE|\n",
      "|     107|   DINAMARCA|\n",
      "|     108|      ESPAÑA|\n",
      "|     109|   FINLANDIA|\n",
      "|     110|     FRANCIA|\n",
      "+--------+------------+\n",
      "only showing top 10 rows\n",
      "\n"
     ]
    }
   ],
   "source": [
    "# Read the csv file\n",
    "censo_pais = spark.read.format('csv').option(\"header\", True).option(\"encoding\", \"utf-8\").load(path + 'codes-cpais.csv')\n",
    "\n",
    "print(\"First 10 rows of the CSV Country File:\")\n",
    "censo_pais.show(10)"
   ]
  },
  {
   "cell_type": "code",
   "execution_count": 14,
   "metadata": {},
   "outputs": [
    {
     "name": "stdout",
     "output_type": "stream",
     "text": [
      "First 10 rows of the joined DataFrame containing Province and Country name:\n",
      "+----+----+----------+------+--------------+----+----+----+----+----+------+-----+-----+------+----+----+----+------+-----+------+------------+----------+---------+-------+---------+---------+--------+--------+--------+-------+--------+--------+-------+----------+--------+------+-------+------+------+------+------+------+------+-----+------+----+-------+---+----+----+-----+------+------+------+------+---------+--------+--------+--------+------+------+------+-----+-----+----+----+------+--------+-------+---+----+-------+-------+--------+-------+------+--------+-------+------+------+---+-----+----+-----+-------+----------+----------+----------+----------+-------+------+-----+----+----+------+------+-------+----+-------+-----+-----+---+-----+-----+-----+-----+-----+----+-------+-------+-------+-------+--------+-------+----------+-------+-------+-------+-------+-------+-------+----------+-------+-------+-------+-------+-------+-------+------+-------+-------+-------+-------+-------+-------+------+-----+------+------+-----------+----------+-------+---------------+----------+------------+\n",
      "|CPRO|CMUN|   IDHUECO|NORDEN|        FACTOR|MNAC|ANAC|EDAD|SEXO|NACI|CPAISN|CPRON|CMUNN|ANORES|ANOM|ANOC|ANOE|CLPAIS|CLPRO|CLMUNP|RES_ANTERIOR|CPAISUNANO|CPROUNANO|CMUNANO|RES_UNANO|CPAISDANO|CPRODANO|CMUNDANO|RES_DANO|SEG_VIV|SEG_PAIS|SEG_PROV|SEG_MUN|SEG_NOCHES|SEG_DISP|ECIVIL|ESCOLAR|ESREAL|TESTUD|TAREA1|TAREA2|TAREA3|TAREA4|HIJOS|NHIJOS|RELA|JORNADA|CNO|CNAE|SITU|  CSE|ESCUR1|ESCUR2|ESCUR3|LTRABA|PAISTRABA|PROTRABA|MUNTRABA|CODTRABA|NVIAJE|MDESP1|MDESP2|TDESP|TENEN|CALE|ASEO|BADUCH|INTERNET|AGUACOR|SUT|NHAB|PLANTAS|PLANTAB|TIPOEDIF|ANOCONS|ESTADO|ASCENSOR|ACCESIB|GARAJE|PLAZAS|GAS|TELEF|ACAL|RESID|FAMILIA|PAD_NORDEN|MAD_NORDEN|CON_NORDEN|OPA_NORDEN|TIPOPER|NUCLEO|NMIEM|NFAM|NNUC|NGENER|ESTHOG|TIPOHOG|NOCU|NPARAIN|NPFAM|NPNUC|HM5|H0515|H1624|H2534|H3564|H6584|H85M|HESPHOG|MESPHOG|HEXTHOG|MEXTHOG|COMBINAC|EDADPAD|PAISNACPAD|NACIPAD|ECIVPAD|ESTUPAD|SITUPAD|SITPPAD|EDADMAD|PAISNACMAD|NACIMAD|ECIVMAD|ESTUMAD|SITUMAD|SITPMAD|EDADCON|NACCON|NACICON|ECIVCON|ESTUCON|SITUCON|SITPCON|TIPONUC|TAMNUC|NHIJO|NHIJOC|FAMNUM|TIPOPARECIV|TIPOPARSEX|DIFEDAD|     NOMBRE_MUN|NOMBRE_PRO|LITERAL_PAIS|\n",
      "+----+----+----------+------+--------------+----+----+----+----+----+------+-----+-----+------+----+----+----+------+-----+------+------------+----------+---------+-------+---------+---------+--------+--------+--------+-------+--------+--------+-------+----------+--------+------+-------+------+------+------+------+------+------+-----+------+----+-------+---+----+----+-----+------+------+------+------+---------+--------+--------+--------+------+------+------+-----+-----+----+----+------+--------+-------+---+----+-------+-------+--------+-------+------+--------+-------+------+------+---+-----+----+-----+-------+----------+----------+----------+----------+-------+------+-----+----+----+------+------+-------+----+-------+-----+-----+---+-----+-----+-----+-----+-----+----+-------+-------+-------+-------+--------+-------+----------+-------+-------+-------+-------+-------+-------+----------+-------+-------+-------+-------+-------+-------+------+-------+-------+-------+-------+-------+-------+------+-----+------+------+-----------+----------+-------+---------------+----------+------------+\n",
      "|  01| 991|0000087486|  0003|004.0871491621|  01|1922| 089|   6| 108|   110|     |     |  2009|2009|2009|1937|   108|   48|   020|            |       108|       01|    991|        1|      108|      11|     993|        |      2|        |        |       |          |        |     3|       |    05|      |     2|     2|     2|     2|    2|      |   5|       |   |    |    |     |      |      |      |      |         |        |        |        |      |      |      |     |    1|   2|   1|     1|       1|      1|150|  05|     03|      0|       1|     08|     4|       2|      2|     2|      |  2|    1|   2|    1|      1|          |          |          |        02|       |    00|   03|   1|   1|    02|    11|     05|  01|     02|   3 |   2 | 00|   00|   00|   00|   01|   01|  01|     01|     02|     00|     00|       1|       |       108|       |       |       |       |       |       |       108|       |       |       |       |       |       |      |       |       |       |       |       |       |      |     |      |      |           |          |       |           null|     Alava|     FRANCIA|\n",
      "|  01| 059|0000271947|  0002|035.2527725270|  10|1973| 038|   1| 110|   110|     |     |  2001|1999|1999|1999|   110|     |      |            |       108|       01|    059|        1|      108|      01|     059|       1|      1|     110|        |       |       020|       2|     2|       |    08|     4|     1|     2|     2|     1|     |      |   1|      1| 31|  30|   3|11-12|      |      |      |     3|      108|      01|     059|   99999|     2|     6|      |    3|    2|   2|   1|     1|       1|      1|059|  03|     08|      0|       1|     07|     4|       1|      1|     2|      |  1|    1|   2|    1|      1|          |          |        01|        04|      C|    01|   04|   1|   1|    02|    08|     04|  03|     01|   4 |   4 | 01|   01|   00|   00|   02|   00|  00|     01|     02|     01|     00|       2|       |       110|       |       |       |       |       |       |       110|       |       |       |       |       |     09|     2|      2|      2|      5|      3|      5|      2|    03|   2 |    2 |    01|         01|        01|     05|Vitoria-Gasteiz|     Alava|     FRANCIA|\n",
      "|  01| 059|0000637786|  0001|013.0300107580|  05|1977| 034|   1| 108|   123|     |     |  2009|1977|1977|1977|   123|     |      |            |       108|       01|    059|        1|      108|      01|     059|       1|      1|     110|        |       |       030|       1|     2|       |    03|      |     2|     2|     2|     1|     |      |   1|      1| 84|  47|   3|16   |      |      |      |     3|      108|      01|     059|   99999|     3|     1|      |    2|    2|   1|   1|     1|       1|      1|090|  05|     08|      0|       1|     18|     4|       1|      1|     2|      |  1|    1|   1|    1|      1|          |          |        02|        03|      C|    01|   04|   1|   1|    02|    08|     04|  03|     01|   4 |   4 | 00|   02|   00|   02|   00|   00|  00|     03|     01|     00|     00|       1|       |       123|       |       |       |       |       |       |       123|       |       |       |       |       |     08|     3|      2|      2|      5|      3|      4|      2|    03|   2 |    2 |    01|         01|        01|     05|Vitoria-Gasteiz|     Alava|    PORTUGAL|\n",
      "|  01| 991|0000686990|  0002|005.5162803925|  07|1965| 046|   1| 123|   123|     |     |  1991|1989|1989|1989|   123|     |      |            |       108|       01|    991|        1|      108|      01|     991|       1|      2|        |        |       |          |        |     2|       |    03|      |     2|     2|     2|     2|     |      |   1|      1| 83|  43|   4|16   |      |      |      |     2|      108|        |        |        |      |      |      |     |    2|   4|   1|     1|       1|      1|060|  04|     03|      0|       1|     06|     4|       2|      2|     2|      |  2|    1|   2|    1|      1|          |          |        01|        03|      C|    01|   04|   1|   1|    02|    08|     04|  02|     03|   4 |   4 | 00|   01|   01|   00|   02|   00|  00|     02|     01|     01|     00|       2|       |       123|       |       |       |       |       |       |       123|       |       |       |       |       |     10|     2|      2|      2|      5|      9|      8|      2|    03|   2 |    2 |    01|         01|        01|     05|           null|     Alava|    PORTUGAL|\n",
      "|  01| 059|0000700179|  0002|070.9902016540|  09|2004| 007|   1| 137|   123|     |     |  2011|2005|2005|2005|   123|     |      |            |       108|       01|    059|        1|         |        |        |        |      2|        |        |       |          |        |     1|      1|      |      |      |      |      |      |     |      |    |       |   |    |    |     |      |      |      |     3|      108|      01|     059|   99999|     2|     3|      |    3|    4|   1|   1|     1|       1|      1|060|  03|     09|      0|       1|     19|     4|       1|      1|     1|     6|  1|    1|   1|    1|      1|          |        01|          |        03|      H|    01|   03|   1|   1|    02|    05|     04|  01|     02|   3 |   3 | 01|   01|   00|   01|   00|   00|  00|     00|     01|     01|     01|       2|       |       137|       |       |       |       |       |     08|       137|      3|      4|      6|      4|      2|       |      |       |       |       |       |       |      4|    02|   2 |    0 |    01|         04|        04|     08|Vitoria-Gasteiz|     Alava|    PORTUGAL|\n",
      "|  01| 059|0000836101|  0002|014.7326217830|  06|1987| 024|   6| 123|   123|     |     |  2002|1995|1995|1995|   123|     |      |            |       108|       01|    059|        1|      108|      01|     059|       1|      1|     123|        |       |       030|       1|     1|       |    07|     8|     2|     2|     2|     2|    2|      |   6|       |   |    |    |     |    09|      |      |     3|      108|      01|     059|   01010|     2|     6|      |    2|    2|   2|   1|     1|       1|      1|080|  03|     05|      0|       1|     15|     4|       1|      1|     1|     4|  1|    1|   2|    1|      1|        03|        06|          |        05|      H|    01|   04|   1|   1|    02|    08|     04|  04|     02|   4 |   4 | 00|   00|   01|   01|   02|   00|  00|     00|     00|     01|     03|       2|     12|       123|      3|      2|      4|      2|      4|     13|       123|      3|      2|      4|      2|      4|       |      |       |       |       |       |       |      2|    03|   2 |    2 |    01|         01|        01|     03|Vitoria-Gasteiz|     Alava|    PORTUGAL|\n",
      "|  01| 059|0000836101|  0003|014.7326217830|  08|1959| 052|   1| 123|   123|     |     |  2002|1987|1987|1987|   123|     |      |            |       108|       01|    059|        1|      108|      01|     059|       1|      1|     123|        |       |       030|       1|     2|       |    03|      |     2|     2|     2|     2|     |      |   1|      1| 71|  41|   3|16   |      |      |      |     3|      108|      01|     059|   99999|     3|     6|      |    1|    2|   2|   1|     1|       1|      1|080|  03|     05|      0|       1|     15|     4|       1|      1|     1|     4|  1|    1|   2|    1|      1|          |          |        06|        05|      C|    01|   04|   1|   1|    02|    08|     04|  04|     02|   4 |   4 | 00|   00|   01|   01|   02|   00|  00|     00|     00|     01|     03|       2|       |       123|       |       |       |       |       |       |       123|       |       |       |       |       |     13|     3|      3|      2|      4|      2|      4|      2|    03|   2 |    2 |    01|         01|        01|     03|Vitoria-Gasteiz|     Alava|    PORTUGAL|\n",
      "|  01| 059|0000888942|  0001|012.6383012270|  07|1966| 045|   1| 108|   110|     |     |  2007|2007|2007|1976|   108|   47|   186|            |       108|       01|    059|        1|      108|      47|     186|        |      2|        |        |       |          |        |     2|       |    07|     5|     2|     2|     2|     2|     |      |   1|      1| 31|  43|   3|11-12|      |      |      |     3|      108|      01|     059|   01010|     3|     8|      |    2|    2|   2|   1|     1|       1|      1|096|  05|     08|      0|       1|     15|     4|       1|      1|     1|     6|  1|    1|   2|    1|      1|          |          |        02|        03|      C|    01|   04|   1|   1|    02|    08|     04|  02|     02|   4 |   4 | 00|   02|   00|   00|   02|   00|  00|     02|     02|     00|     00|       1|       |       110|       |       |       |       |       |       |       110|       |       |       |       |       |     10|     2|      2|      2|      5|      9|      8|      2|    03|   2 |    2 |    01|         01|        01|     05|Vitoria-Gasteiz|     Alava|     FRANCIA|\n",
      "|  01| 059|0001219999|  0001|014.3665111430|  09|1971| 040|   6| 108|   110|     |     |  1977|1977|1977|1977|   110|     |      |            |       108|       01|    059|        1|      108|      01|     059|       1|      1|     108|      32|    991|       015|       2|     1|       |    10|     3|     2|     2|     2|     1|    2|      |   1|      1| 26|  84|   3|11-12|    15|      |      |     4|      108|      01|     991|   99999|     2|     1|      |    2|    2|   2|   1|     1|       1|      1|084|  05|     07|      0|       1|     09|     4|       1|      1|     2|      |  1|    1|   2|    1|      1|          |          |        02|          |      C|    01|   02|   1|   1|    01|    07|     04|  03|     01|   2 |   2 | 00|   00|   00|   00|   02|   00|  00|     01|     01|     00|     00|       1|       |       108|       |       |       |       |       |       |       108|       |       |       |       |       |     09|     2|      2|      1|      5|      2|      4|      1|    01|   0 |    0 |    01|         02|        01|     03|Vitoria-Gasteiz|     Alava|     FRANCIA|\n",
      "|  01| 059|0001229374|  0002|016.7939568490|  09|1982| 029|   6| 123|   123|     |     |  2001|2000|2000|2000|   123|     |      |            |       108|       01|    059|        1|      108|      01|     059|       1|      2|        |        |       |          |        |     2|       |    08|     8|     1|     2|     2|     1|    1|    02|   1|      1| 72|  43|   1|07   |      |      |      |     3|      108|      01|     059|   99999|     2|     1|      |    2|    2|   2|   1|     1|       1|      1|080|  03|     05|      0|       1|     08|     4|       1|      2|     2|      |  1|    1|   2|    1|      1|          |          |          |        04|       |    00|   05|   1|   1|    01|    11|     05|  03|     02|   5 |   2 | 00|   02|   01|   02|   00|   00|  00|     00|     01|     01|     03|       2|       |       123|       |       |       |       |       |       |       123|       |       |       |       |       |       |      |       |       |       |       |       |       |      |     |      |      |           |          |       |Vitoria-Gasteiz|     Alava|    PORTUGAL|\n",
      "+----+----+----------+------+--------------+----+----+----+----+----+------+-----+-----+------+----+----+----+------+-----+------+------------+----------+---------+-------+---------+---------+--------+--------+--------+-------+--------+--------+-------+----------+--------+------+-------+------+------+------+------+------+------+-----+------+----+-------+---+----+----+-----+------+------+------+------+---------+--------+--------+--------+------+------+------+-----+-----+----+----+------+--------+-------+---+----+-------+-------+--------+-------+------+--------+-------+------+------+---+-----+----+-----+-------+----------+----------+----------+----------+-------+------+-----+----+----+------+------+-------+----+-------+-----+-----+---+-----+-----+-----+-----+-----+----+-------+-------+-------+-------+--------+-------+----------+-------+-------+-------+-------+-------+-------+----------+-------+-------+-------+-------+-------+-------+------+-------+-------+-------+-------+-------+-------+------+-----+------+------+-----------+----------+-------+---------------+----------+------------+\n",
      "only showing top 10 rows\n",
      "\n"
     ]
    }
   ],
   "source": [
    "# Perform a join operation between the filtered DataFrame and the CSV file if the column CPAISN=COD_PAIS\n",
    "censo_pro_country = censo_filtered.join(censo_pais, censo_filtered.CPAISN == censo_pais.COD_PAIS, how='left').drop(censo_pais.COD_PAIS)\n",
    "\n",
    "print(\"First 10 rows of the joined DataFrame containing Province and Country name:\")\n",
    "censo_pro_country.show(10)"
   ]
  },
  {
   "cell_type": "markdown",
   "metadata": {},
   "source": [
    "### 3. De las muestras que han quedado, las agrupamos por provincia de residencia y contamos cuántas personas hay en cada provincia"
   ]
  },
  {
   "cell_type": "code",
   "execution_count": 15,
   "metadata": {},
   "outputs": [
    {
     "name": "stdout",
     "output_type": "stream",
     "text": [
      "Number of people in each province:\n",
      "+----+-----+\n",
      "|CPRO|count|\n",
      "+----+-----+\n",
      "|  07|   47|\n",
      "|  51|    2|\n",
      "|  15|   45|\n",
      "|  11|   33|\n",
      "|  29|   57|\n",
      "|  42|    4|\n",
      "|  30|   79|\n",
      "|  34|    7|\n",
      "|  01|   13|\n",
      "|  22|   20|\n",
      "|  28|  201|\n",
      "|  16|    5|\n",
      "|  35|   16|\n",
      "|  52|    2|\n",
      "|  47|   30|\n",
      "|  43|   29|\n",
      "|  31|   67|\n",
      "|  18|   47|\n",
      "|  27|   19|\n",
      "|  17|   79|\n",
      "+----+-----+\n",
      "only showing top 20 rows\n",
      "\n"
     ]
    }
   ],
   "source": [
    "# Group by the column province of residence (CPRO) and count how many people are in each province\n",
    "censo_grouped = censo_pro_country.groupBy('CPRO').count()\n",
    "\n",
    "print(\"Number of people in each province:\")\n",
    "censo_grouped.show()"
   ]
  },
  {
   "cell_type": "markdown",
   "metadata": {},
   "source": [
    "### 4. Calculamos como resultado final la lista de las 10 provincias (incluyendo su nombre) con mayor número de personas procedentes o de Francia o de Portugal (la suma de ambos), y la ordenamos de mayor a menor\n",
    "\n",
    "### 5. Recuperamos esa lista ordenada de 10 provincias junto con el número de inmigrantes de Francia y Portugal que ha obtenido, para mostrarla en pantalla."
   ]
  },
  {
   "cell_type": "code",
   "execution_count": 21,
   "metadata": {},
   "outputs": [
    {
     "name": "stdout",
     "output_type": "stream",
     "text": [
      "Number of people in each province with the name of the province:\n",
      "+----+----------+-----+\n",
      "|CPRO|NOMBRE_PRO|count|\n",
      "+----+----------+-----+\n",
      "|  28|    Madrid|  201|\n",
      "|  08| Barcelona|  197|\n",
      "|  46|  Valencia|  181|\n",
      "|  03|  Alicante|   93|\n",
      "|  30|    Murcia|   79|\n",
      "|  17|    Girona|   79|\n",
      "|  32|    Orense|   70|\n",
      "|  36|Pontevedra|   68|\n",
      "|  31|   Navarra|   67|\n",
      "|  24|      León|   62|\n",
      "+----+----------+-----+\n",
      "only showing top 10 rows\n",
      "\n"
     ]
    }
   ],
   "source": [
    "# Select the column CPRO, NOMBRE_PRO, and count and sort the result by the count in descending order\n",
    "censo_grouped = censo_pro_country.groupBy('CPRO', 'NOMBRE_PRO').count().sort(col('count').desc())\n",
    "\n",
    "print(\"Number of people in each province with the name of the province:\")\n",
    "censo_grouped.show(10)"
   ]
  },
  {
   "cell_type": "code",
   "execution_count": 20,
   "metadata": {},
   "outputs": [
    {
     "name": "stdout",
     "output_type": "stream",
     "text": [
      "Number of people from each country:\n",
      "+------------+-----+\n",
      "|LITERAL_PAIS|count|\n",
      "+------------+-----+\n",
      "|     FRANCIA| 1436|\n",
      "|    PORTUGAL|  618|\n",
      "+------------+-----+\n",
      "\n"
     ]
    }
   ],
   "source": [
    "# See how many people are from each country\n",
    "censobycountry = censo_pro_country.groupBy('LITERAL_PAIS').count().sort(col('count').desc())\n",
    "\n",
    "print(\"Number of people from each country:\")\n",
    "censobycountry.show()"
   ]
  },
  {
   "cell_type": "code",
   "execution_count": null,
   "metadata": {},
   "outputs": [],
   "source": []
  }
 ],
 "metadata": {
  "kernelspec": {
   "display_name": "base",
   "language": "python",
   "name": "python3"
  },
  "language_info": {
   "codemirror_mode": {
    "name": "ipython",
    "version": 3
   },
   "file_extension": ".py",
   "mimetype": "text/x-python",
   "name": "python",
   "nbconvert_exporter": "python",
   "pygments_lexer": "ipython3",
   "version": "3.9.13"
  }
 },
 "nbformat": 4,
 "nbformat_minor": 2
}
